{
 "cells": [
  {
   "attachments": {},
   "cell_type": "markdown",
   "metadata": {},
   "source": [
    "**START**"
   ]
  },
  {
   "attachments": {},
   "cell_type": "markdown",
   "metadata": {},
   "source": [
    "**Module : Prefix dan Alias**"
   ]
  },
  {
   "attachments": {},
   "cell_type": "markdown",
   "metadata": {},
   "source": [
    "1. *Dalam module ini hanya akan menjelaskan syntax yang dipakai untuk mengakses data di Database.*\n",
    "\n",
    "2. **Hasil tidak akan keluar karena bukan dikerjakan salah satu produk RDBMS seperti MySQL.** \n",
    "\n",
    "3. *Kita hanya dapat mengakses Database jika sudah memiliki Hak Akses*"
   ]
  },
  {
   "attachments": {},
   "cell_type": "markdown",
   "metadata": {},
   "source": [
    "**Pendahuluan**\n",
    "\n",
    "*Sejauh ini, aku sudah cukup paham cara menggunakan SQL dengan perintah SELECT, terutama untuk mengakses data dari database. Aku pun berniat untuk mengambil dan menganalisis data produk dengan syntax yang ada:*"
   ]
  },
  {
   "cell_type": "code",
   "execution_count": null,
   "metadata": {
    "vscode": {
     "languageId": "sql"
    }
   },
   "outputs": [],
   "source": [
    "SELECT t1.kode_produk AS product_code, t1.nama_produk AS product_name, t1.harga AS price FROM ms_produk AS t1;"
   ]
  },
  {
   "attachments": {},
   "cell_type": "markdown",
   "metadata": {},
   "source": [
    "*Beberapa detik aku termenung melihat syntax ini. Mengapa ada ‘t1’, dan ‘AS’? Apa maksudnya? Aku terdorong untuk bertanya kembali pada Senja.*\n",
    "\n",
    "*“Nja, sorry gangguin kamu lagi. Aku lagi mau nyoba latihan nih. Tapi aku nemu syntax ini dan agak bingung terutama karena ada ‘t1’, dan ‘AS’. Maksudnya?”*\n",
    "\n",
    "*“Oh, ini hanya variasi penggunaan nama table dan kolom pada bagian SELECT. Sini saya kasih tahu.”*\n",
    "\n",
    "*Aku pun mencatat penjelasan Senja, walau sederhana tapi penting:*\n",
    "\n",
    "1. ***Prefix**, dimana kita akan menambahkan nama tabel di depan nama kolom.*\n",
    "2. ***Alias**, dimana kita memberikan alias atau nama lain untuk tabel maupun kolom.*"
   ]
  },
  {
   "attachments": {},
   "cell_type": "markdown",
   "metadata": {},
   "source": [
    "**Menggunakan Prefix pada Nama Kolom**\n",
    "\n",
    "*Umumnya, jika kita hanya mengambil kolom dari satu tabel, prefix ini jarang digunakan karena sudah jelas dari tabel mana kolom itu berasal.*\n",
    "\n",
    "*Tetapi ketika kita mengambil data dari dua tabel, misalnya dengan menggabungkan 2 tabel menggunakan JOIN, dan terdapat 2 kolom dengan nama yang sama, maka penggunaan prefix menjadi penting untuk menghindari error karena **ambiguitas**.*"
   ]
  },
  {
   "attachments": {},
   "cell_type": "markdown",
   "metadata": {},
   "source": [
    "- *Contoh untuk mengambil kolom **kode_produk** data dari tabel **ms_produk** dengan penulisan **prefix** nama tabel adalah sebagai berikut.*"
   ]
  },
  {
   "cell_type": "code",
   "execution_count": null,
   "metadata": {
    "vscode": {
     "languageId": "sql"
    }
   },
   "outputs": [],
   "source": [
    "SELECT ms_produk.kode_produk FROM ms_produk;"
   ]
  },
  {
   "attachments": {},
   "cell_type": "markdown",
   "metadata": {},
   "source": [
    "**Menggunakan Alias pada Kolom**\n",
    "\n",
    "*Selain prefix, aku dapat mengubah identitas nama kolom yang diambil dengan SELECT dengan menggunakan keyword **AS**. Ini dinamakan alias. Perubahan nama tabel bersifat temporary, artinya hanya berubah ketika mengambil/meng-query data, sedangkan nama kolom di tabel dalam database tidak akan berubah.*"
   ]
  },
  {
   "attachments": {},
   "cell_type": "markdown",
   "metadata": {},
   "source": [
    "- *Coba ubah perintah SELECT di atas untuk mengubah nama kolom dengan details berikut:*\n",
    "\n",
    "1. *no_urut menjadi nomor.*\n",
    "2. *nama_produk menjadi nama.*"
   ]
  },
  {
   "cell_type": "code",
   "execution_count": null,
   "metadata": {
    "vscode": {
     "languageId": "sql"
    }
   },
   "outputs": [],
   "source": [
    "SELECT no_urut AS nomor, nama_produk AS nama FROM ms_produk;"
   ]
  },
  {
   "attachments": {},
   "cell_type": "markdown",
   "metadata": {},
   "source": [
    "**Menghilangkan Keyword 'AS'**\n",
    "\n",
    "Keyword AS yang digunakan sebagai penanda alias pada kolom dapat dihilangkan dengan syntax:"
   ]
  },
  {
   "cell_type": "code",
   "execution_count": null,
   "metadata": {
    "vscode": {
     "languageId": "sql"
    }
   },
   "outputs": [],
   "source": [
    "SELECT no_urut nomor, nama_produk nama FROM ms_produk;"
   ]
  },
  {
   "attachments": {},
   "cell_type": "markdown",
   "metadata": {},
   "source": [
    "**Menggabungkan Prefix dan Alias**\n",
    "\n",
    "*Prefix dan alias juga dapat digunakan secara bersamaan.*\n",
    "\n",
    "- *Tampilkan kolom harga dari tabel ms_produk dengan nama alias harga_jual lengkap dengan prefix.*"
   ]
  },
  {
   "cell_type": "code",
   "execution_count": null,
   "metadata": {
    "vscode": {
     "languageId": "sql"
    }
   },
   "outputs": [],
   "source": [
    "SELECT ms_produk.harga AS harga_jual FROM ms_produk;"
   ]
  },
  {
   "attachments": {},
   "cell_type": "markdown",
   "metadata": {},
   "source": [
    "**Menggunakan Alias pada Tabel**\n",
    "\n",
    "*Selain kolom, nama alias juga bisa digunakan untuk tabel dengan menggunakan keyword AS setelah nama tabel. Dan, keyword ini juga bisa digunakan atau tidak. **Umumnya penggunaan alias pada tabel jika nama tabel tersebut cukup panjang dan muncul atau dirujuk beberapa kali dalam query**. Sehingga dengan menggunakan alias pada tabel, dapat menghemat waktu dalam menuliskan query, khususnya untuk query yang cukup rumit, panjang dan melibatkan banyak tabel.*"
   ]
  },
  {
   "attachments": {},
   "cell_type": "markdown",
   "metadata": {},
   "source": [
    "- *Contoh : Ganti nama tabel ms_produk menjadi t2 dan tampilkan seluruh isinya tanpa menggunakan keyword AS.*"
   ]
  },
  {
   "cell_type": "code",
   "execution_count": null,
   "metadata": {
    "vscode": {
     "languageId": "sql"
    }
   },
   "outputs": [],
   "source": [
    "SELECT * FROM ms_produk t2;"
   ]
  },
  {
   "attachments": {},
   "cell_type": "markdown",
   "metadata": {},
   "source": [
    "**Prefix dengan Alias Tabel**\n",
    "\n",
    "*“Nja, kalau kita menggunakan alias tabel, maka nama prefix yang digunakan untuk kolom adalah alias tabel dan bukan nama original tabel, seperti yang ditunjukkan berikut ini. Gimana hasilnya?”*\n",
    "\n",
    "*SELECT nama_tabel.nama_kolom FROM nama_tabel AS tbl;*\n",
    "\n",
    "*Penggunaan nama original tabel sebagai prefix akan menimbulkan **error** saat query dijalankan karena dengan penggunaan alias, nama tabel secara temporary sudah di-gantikan oleh alias,*\n"
   ]
  },
  {
   "attachments": {},
   "cell_type": "markdown",
   "metadata": {},
   "source": [
    "- *Contoh Prefix dengan alias tabel yang benar :*"
   ]
  },
  {
   "cell_type": "code",
   "execution_count": null,
   "metadata": {
    "vscode": {
     "languageId": "sql"
    }
   },
   "outputs": [],
   "source": [
    "SELECT t2.nama_produk, t2.harga FROM ms_produk t2;"
   ]
  },
  {
   "attachments": {},
   "cell_type": "markdown",
   "metadata": {},
   "source": [
    "**Kesimpulan**\n",
    "\n",
    "*Aku kembali mengambil catatanku dan menuliskan apa yang telah aku pelajari:*\n",
    "\n",
    "1. *Perintah SELECT dapat ditulis dengan variasi identitas kolom dan tabel berupa prefix dan alias.*\n",
    "    - *Penulisan lengkap untuk nama kolom adalah prefix berupa nama  *    \n",
    "    - *tabel disertai tanda titik sebelum nama kolom itu sendiri.*\n",
    "    - *Alias adalah nama lain yang diberikan untuk kolom maupun tabel.*\n",
    "    - *Alias dapat digunakan dengan keyword AS atau tanpa keyword AS setelah nama kolom dan tabel.*\n",
    "    - *Prefix nama tabel bisa menggunakan alias.*\n",
    "\n",
    "*Pemahaman mengenai prefix dan alias akan mendorong kemampuan identifikasi tabel maupun kolom yang terlibat untuk perintah SELECT yang lebih kompleks.*"
   ]
  },
  {
   "attachments": {},
   "cell_type": "markdown",
   "metadata": {},
   "source": [
    "**End Of Module**"
   ]
  }
 ],
 "metadata": {
  "kernelspec": {
   "display_name": "base",
   "language": "python",
   "name": "python3"
  },
  "language_info": {
   "name": "python",
   "version": "3.9.12 (main, Apr  4 2022, 05:22:27) [MSC v.1916 64 bit (AMD64)]"
  },
  "orig_nbformat": 4,
  "vscode": {
   "interpreter": {
    "hash": "5dfae695991f40f7f711b859ebe4404a578ce2940a1c2f7058c1cb98bd497b2c"
   }
  }
 },
 "nbformat": 4,
 "nbformat_minor": 2
}
