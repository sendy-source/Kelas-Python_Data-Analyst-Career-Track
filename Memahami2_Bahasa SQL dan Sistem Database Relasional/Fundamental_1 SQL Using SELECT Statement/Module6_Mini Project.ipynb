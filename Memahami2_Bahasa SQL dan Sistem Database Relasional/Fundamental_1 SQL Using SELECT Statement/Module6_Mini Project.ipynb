{
 "cells": [
  {
   "attachments": {},
   "cell_type": "markdown",
   "metadata": {},
   "source": [
    "**START**"
   ]
  },
  {
   "attachments": {},
   "cell_type": "markdown",
   "metadata": {},
   "source": [
    "**Module : Mini Project**"
   ]
  },
  {
   "attachments": {},
   "cell_type": "markdown",
   "metadata": {},
   "source": [
    "**Pendahuluan**\n",
    "\n",
    "*“Oke, selamat Aksara! Materi SQL untuk hari ini sudah selesai dan saya lihat kamu bisa mengikutinya dengan baik,” puji Senja.*\n",
    "\n",
    "*“Ini juga berkat penjelasan dan bimbinganmu, Nja.” Dalam hati aku kembali menobatkan Senja sebagai mentor terbaik!*\n",
    "\n",
    "*“Agar kemampuan di SQL lebih teruji lagi, bagaimana kalau kamu membantu saya menangani proyek baru dari cabang A ini?”*"
   ]
  },
  {
   "attachments": {},
   "cell_type": "markdown",
   "metadata": {},
   "source": [
    "**Proyek dari Cabang A**\n",
    "\n",
    "*“Jadi, apakah kamu bisa menyiapkan data transaksi penjualan dengan total revenue >= IDR 100.000? *\n",
    "\n",
    "*Format datanya yang akan kamu tampilkan adalah: kode_pelanggan, nama_produk, qty, harga, dan total, serta diurutkan mulai dari total revenue terbesar,” pinta Senja padaku.*\n",
    "\n",
    "*Kalau kasusnya seperti ini, berarti aku perlu meng-query data tersebut dari tabel tr_penjualan yang terdapat di database perusahaan.*\n",
    "\n",
    "*Aku dapat melakukan :*\n",
    "\n",
    "1. *perkalian antara kolom qty dan harga untuk memperoleh total revenue setiap kode pelanggan yang dinyatakan ke dalam kolom total, dan*\n",
    "2. *menggunakan “ORDER BY total DESC” pada akhir query untuk mengurutkan data.*"
   ]
  },
  {
   "cell_type": "code",
   "execution_count": null,
   "metadata": {
    "vscode": {
     "languageId": "sql"
    }
   },
   "outputs": [],
   "source": [
    "SELECT kode_pelanggan, nama_produk, qty, harga, qty*harga AS total \n",
    "FROM tr_penjualan \n",
    "WHERE qty*harga >= 100000\n",
    "ORDER BY total DESC;"
   ]
  },
  {
   "attachments": {},
   "cell_type": "markdown",
   "metadata": {},
   "source": [
    "**Hasil Belajarku**\n",
    "\n",
    "*Wah seru sekali bagian pertama dari Module SQL ini! Dari materi yang telah aku pelajari dalam 'Fundemental SQL using SELECT Statement', aku telah memahami dan mampu mempraktekkan:*\n",
    "\n",
    "1. **Konsep SQL**, yaitu:\n",
    "    - Konsep Sistem Database Relasional atau Relational Database Management System (RDBMS).\n",
    "    - Struktur penyimpanan RDBMS yang terdiri dari database, tabel, kolom (column) dan baris (row).\n",
    "    - *Pengenalan perintah SELECT untuk mengambil data dari tabel.*"
   ]
  },
  {
   "attachments": {},
   "cell_type": "markdown",
   "metadata": {},
   "source": [
    "2. **Teknik SELECT**, dimana aku dapat:\n",
    "    - Mengambil kolom tertentu.\n",
    "    - Mengambil jumlah data tertentu.\n",
    "    - Menggunakan prefix dan alias.\n",
    "    - Menggunakan filter.\n",
    "\n",
    "*Dengan kemampuan ini, aku telah siap untuk mengambil dan mengolah data secara sederhana. Keterampilan ini sendiri adalah 60% aktivitas awal yang akan dilakukan seorang analis.*"
   ]
  }
 ],
 "metadata": {
  "kernelspec": {
   "display_name": "base",
   "language": "python",
   "name": "python3"
  },
  "language_info": {
   "name": "python",
   "version": "3.9.12 (main, Apr  4 2022, 05:22:27) [MSC v.1916 64 bit (AMD64)]"
  },
  "orig_nbformat": 4,
  "vscode": {
   "interpreter": {
    "hash": "5dfae695991f40f7f711b859ebe4404a578ce2940a1c2f7058c1cb98bd497b2c"
   }
  }
 },
 "nbformat": 4,
 "nbformat_minor": 2
}
