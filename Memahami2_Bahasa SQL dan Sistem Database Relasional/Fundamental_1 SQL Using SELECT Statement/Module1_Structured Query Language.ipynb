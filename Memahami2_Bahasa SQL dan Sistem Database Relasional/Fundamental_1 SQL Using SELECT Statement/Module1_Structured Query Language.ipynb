{
 "cells": [
  {
   "attachments": {},
   "cell_type": "markdown",
   "metadata": {},
   "source": [
    "**About This Course:**\n",
    "\n",
    "*Kamu akan memahami konsep penggunaan **statement SELECT** dalam SQL Query **untuk menarik data dari database**, sebagai skill fundamental yang penting untuk kamu pahami agar siap berkarir sebagai Data Analyst.*"
   ]
  },
  {
   "attachments": {},
   "cell_type": "markdown",
   "metadata": {},
   "source": [
    "**Start**"
   ]
  },
  {
   "attachments": {},
   "cell_type": "markdown",
   "metadata": {},
   "source": [
    "**Module : Structured Query Language**"
   ]
  },
  {
   "attachments": {},
   "cell_type": "markdown",
   "metadata": {},
   "source": [
    "**Modul SQL dari Senja**\n",
    "\n",
    "*Senja baru saja menaruh tumpukan modul baru di mejaku. Kuintip, beberapa judulnya bertuliskan SQL. Seperti menjawab rasa keingintahuanku, Senja menyahut, **“SQL adalah bahasa pemograman untuk pengolahan database. Fungsinya untuk memperbarui, membuat tabel, prosedur, dan sejenisnya.** Makanya materinya banyak. Masih semangat?”*"
   ]
  },
  {
   "attachments": {},
   "cell_type": "markdown",
   "metadata": {},
   "source": [
    "**Apa itu SQL?**\n",
    "\n",
    "*SQL yang merupakan singkatan dari Structured Query Language, yaitu bahasa komputer standar yang digunakan untuk berinteraksi dengan suatu sistem database - atau lebih tepatnya sistem manajemen database relasional. Jadi, **user dapat menambahkan, mengubah, mengupdate, mencari dan menghapus data dari suatu sistem database dengan menggunakan SQL**.*\n",
    "\n",
    "*SQL dilafalkan dengan membaca tiap karakternya S Q L (es kiu el) atau sikuel.*"
   ]
  },
  {
   "attachments": {},
   "cell_type": "markdown",
   "metadata": {},
   "source": [
    "**Contoh komunikasi SQL**\n",
    "\n",
    "Terdapat dua kategori dari interaksi SQL: \n",
    "\n",
    "1. ***Data Definition Language** (DDL), yaitu berbagai perintah yang berfungsi lebih kepada memanipulasi struktur database, seperti Membuat (CREATE), meubah (ALTER), dan menghapus (DROP) struktur penyimpanan data, yaitu database, table, kolom dan tipe data.*\n",
    "2. ***Data Manipulation Language** (DML), yaitu berbagai perintah yang digunakan untuk Menyisipkan data (INSERT), Mengambil data atau query (SELECT), Meubah data (UPDATE) dan Menghapus data (DELETE).*\n",
    "\n",
    "*Berikut adalah satu contoh query atau perintah untuk mengambil data:*\n",
    "\n",
    "***SELECT nama_produk FROM ms_produk;***\n",
    "\n",
    "*Dengan perintah tersebut, sistem database akan mengerti bahwa ‘dia’ harus menampilkan data ‘nama_produk’ dari suatu tabel yang namanya ‘ms_produk’ seperti berikut.*\n",
    "\n",
    "nama_produk   \n",
    "                    \n",
    "Kotak Pensil DQLab                 \n",
    "Flashdisk DQLab 64 GB              \n",
    "Gift Voucher DQLab 100rb           \n",
    "Flashdisk DQLab 32 GB              \n",
    "Gift Voucher DQLab 250rb           \n",
    "Pulpen Multifunction + Laser DQLab \n",
    "Tas Travel Organizer DQLab         \n",
    "Gantungan Kunci DQLab              \n",
    "Buku Planner Agenda DQLab          \n",
    "Sticky Notes DQLab 500 sheets   \n",
    "\n",
    "*Terlihat ada sepuluh nama peralatan kantor dengan label DQLab yang ditampilkan. Ini menunjukkan bahwa interaksi antara SQL dan sistem database telah berjalan dengan baik.*"
   ]
  },
  {
   "attachments": {},
   "cell_type": "markdown",
   "metadata": {},
   "source": [
    "**Mengapa Perlu Belajar SQL?**\n",
    "\n",
    "*Aku mengangguk sembari mengangkat modul. Selagi ada Senja, aku pun penasaran untuk bertanya. **“Nja, kenapa sih data analyst perlu memahami SQL? Bukankah ada tools lain untuk analisis data, tapi kenapa harus SQL?”***\n",
    "\n",
    "*“Begini, Aksara. Pada dasarnya, setiap perusahaan memiliki sistem penyimpanan data, khususnya untuk perusahaan yang memiliki sistem IT. Sistem penyimpanan ini bukan di komputer atau laptop dalam bentuk file atau folder, tetapi di suatu sistem database. Nah, sistem database ini biasanya diakses menggunakan SQL. **Sebagai analyst, tugas kita tidak hanya menganalisa data yang sudah tersedia tetapi juga mampu untuk mengambil, memodifikasi dan mengakses sendiri data tersebut dari sumber datanya, yaitu dari database,**” jelas Senja dengan rinci.  Bahkan, ia juga sempat memberiku buku catatannya padaku.*"
   ]
  },
  {
   "attachments": {},
   "cell_type": "markdown",
   "metadata": {},
   "source": [
    "*“Nih coba kamu baca. Selain yang tadi kujelaskan, penguasaan SQL akan membantu perusahaan pada area berikut,” tunjuk Senja pada salah satu halaman buku catatannya:*\n",
    "\n",
    "- *Manajemen memerlukan laporan dengan informasi yang semakin beragam, seperti: tren penjualan bulan ke bulan, pertumbuhan pelanggan, apakah perusahaan mencapai target, dan lain-lain. Dan ini membutuhkan keahlian SQL yang mumpuni.*\n",
    "- *Programmer yang membangun sistem aplikasi hampir dipastikan selalu bergantung kepada sistem database SQL agar aplikasinya berjalan dengan baik. Dengan demikian, penguasaan SQL adalah hal mutlak.*\n",
    "- *Bisa meningkatkan kinerja perusahaan karena informasi yang kaya dapat dihasilkan melalui SQL.*"
   ]
  },
  {
   "attachments": {},
   "cell_type": "markdown",
   "metadata": {},
   "source": [
    "**Dimana saja SQL Digunakan?**\n",
    "\n",
    "*Perusahaan – perusahaan yang sudah menerapkan sistem IT pasti memiliki sistem database dan bisa dipastikan menyimpan datanya dalam suatu database. Contohnya perusahaan berbasis teknologi, seperti e-commerce, menyimpan data baik itu data profile user, data transaksi pembelian dan penjualan, data produk dan data traffic kunjungan user ke halaman website di sistem database - atau lebih tepatnya sistem manajemen database atau database management system (DBMS).*\n",
    "\n",
    "*Semua informasi ataupun analisa yang dibutuhkan oleh manajemen, umumnya bersumber dan diolah dari data DBMS ini. Dan di perusahaan, sistem database biasanya tidak hanya satu, bisa dua, tiga bahkan puluhan. Oleh karena itu, SQL sangat berperan disini, karena dengan menggunakan SQL dapat memenuhi kebutuhan manajemen tersebut. Tanpa penguasaan SQL  akan kesulitan memperoleh data yang dibutuhkan, dan akan kesulitan dalam melakukan analisa dan menghasilkan informasi yang dibutuhkan manajemen dan perusahaan.*"
   ]
  },
  {
   "attachments": {},
   "cell_type": "markdown",
   "metadata": {},
   "source": [
    "*Akan tetapi, perlu diketahui bahwa tidak semua sistem database mendukung SQL. Hanya sistem database berbasis relational database management system (RDBMS) yang mendukung bahasa ini. Untuk RDBMS sendiri akan dijelaskan kemudian.*\n",
    "\n",
    "**SQL hanya digunakan di sistem database berbasis Relational Database Management System (RDBMS).**"
   ]
  },
  {
   "attachments": {},
   "cell_type": "markdown",
   "metadata": {},
   "source": [
    "**Kesimpulan**\n",
    "\n",
    "*SQL singkatan dari Structured Query Language, adalah sebuah **bahasa komputer** sederhana yang menjadi standar untuk memungkinkan seseorang berkomunikasi dengan suatu **sistem database manajemen relasional (RDBMS).***\n",
    "\n",
    "*Karena RDBMS bisa dikatakan digunakan oleh sistem IT oleh seluruh perusahaan di dunia dan di Indonesia, maka pengetahuan SQL menjadi aset yang penting di perusahaan. Walaupun sederhana, aspek SQL sangat luas.*\n",
    "\n",
    "*Aku semangat sekali, karena pada module Fundamental SQL using SELECT statement, aku akan mempelajari proses pengambilan data dengan pendekatan best practice yang dibutuhkan oleh mayoritas perusahaan di dunia dan Indonesia.*"
   ]
  },
  {
   "attachments": {},
   "cell_type": "markdown",
   "metadata": {},
   "source": [
    "**End of Module : Structured Query Language**"
   ]
  },
  {
   "cell_type": "markdown",
   "metadata": {},
   "source": []
  }
 ],
 "metadata": {
  "kernelspec": {
   "display_name": "base",
   "language": "python",
   "name": "python3"
  },
  "language_info": {
   "name": "python",
   "version": "3.9.12 (main, Apr  4 2022, 05:22:27) [MSC v.1916 64 bit (AMD64)]"
  },
  "orig_nbformat": 4,
  "vscode": {
   "interpreter": {
    "hash": "5dfae695991f40f7f711b859ebe4404a578ce2940a1c2f7058c1cb98bd497b2c"
   }
  }
 },
 "nbformat": 4,
 "nbformat_minor": 2
}
