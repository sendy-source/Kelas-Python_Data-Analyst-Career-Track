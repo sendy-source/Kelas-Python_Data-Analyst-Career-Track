{
 "cells": [
  {
   "attachments": {},
   "cell_type": "markdown",
   "metadata": {},
   "source": [
    "**START**"
   ]
  },
  {
   "attachments": {},
   "cell_type": "markdown",
   "metadata": {},
   "source": [
    "**Module : Fundamental SQL Using SELECT Statement**"
   ]
  },
  {
   "attachments": {},
   "cell_type": "markdown",
   "metadata": {},
   "source": [
    "**Pendahuluan**\n",
    "\n",
    "*Sekarang mari belajar Relational Database Management System ya? Itu bagian penting karea RDBMS ini perlu kamu kuasai sebelum mempraktikkan penggunaan SQL lebih lanjut.”*"
   ]
  },
  {
   "attachments": {},
   "cell_type": "markdown",
   "metadata": {},
   "source": [
    "**Apa itu RDBMS?**\n",
    "\n",
    "*Relational Database Management System yang biasa disingkat dengan RDMBS adalah suatu program yang memungkinkan untuk Membuat, Memperbarui, dan Mengelola suatu basis data relasional (Relational Database). Nah, Umumnya RDMBS ini menggunakan SQL untuk mengakses database.*\n",
    "\n",
    "*Basis data relasional sendiri merupakan suatu jenis database dimana data – data umumnya disimpan dalam bentuk yang terstruktur berupa tabel (baris dan kolom) dan setiap tabel/ data yang terdapat dalam database memiliki relasi (relational) satu sama lain. Seperti terlihat pada gambar : 1.1.Gambar RDMS*"
   ]
  },
  {
   "attachments": {},
   "cell_type": "markdown",
   "metadata": {},
   "source": [
    "*Basis data relasional sangat popular dan banyak digunakan oleh perusahaan – perusahaan karena jenis database ini mudah dikelola terlebih jika memiliki banyak data atau informasi yang perlu disimpan, scalable dan flexibel*.\n",
    "\n",
    "1. *Basis data rasional cukup mudah dikelola. Setiap tabel/data **dapat diupdate atau dimodifikasi tanpa mengganggu tabel/data yang lain**.*\n",
    "2. ***Flexible :** jika perlu memperbarui data, hanya perlu melakukannya sekali saja - jadi tidak perlu lagi mengubah banyak file satu per satu. Selain itu, basis data rasional juga cukup mudah untuk di-extend. Misalnya saat data sudah semakin banyak, dapat dengan **mudah memperbesar kapasitas dari database** yang dimiliki.*"
   ]
  },
  {
   "attachments": {},
   "cell_type": "markdown",
   "metadata": {},
   "source": [
    "**Produk-produk RDBMS di Pasaran**\n",
    "\n",
    "*Selain MySQL, masih ada produk lain RDBMS, baik yang berbayar (proprietary) maupun open source. Berikut adalah sebagian produk yang cukup populer di pasaran :*\n",
    "\n",
    "1. ***MySQL***\n",
    "\n",
    "    *Open-source SQL database yang cukup populer. Umumnya digunakan untuk pengembangan aplikasi web.*\n",
    "\n",
    "2. ***PostgreSQL***\n",
    "\n",
    "    *Open-source RDBMS product, dan juga umumnya digunakan untuk pengembangan aplikasi web. Akan tetapi secara kinerja, postgreSQL lebih lambat dibandingkan MySQL.*\n",
    "\n",
    "3. ***Oracle DB***\n",
    "\n",
    "    *Produk RDBMS yang dimiliki oleh Oracle Corporation dan produk ini bersifat proprietary atau tidak open source. Oracle DB umumnya digunakan di industri perbankan.*\n",
    "\n",
    "4. ***Microsoft SQL Server*** \n",
    "\n",
    "    *SQL Server adalah produk RDBMS yang dimiliki oleh Microsoft dan sama seperti Oracle DB, SQL Server bersifat proprietary atau tidak open source, SQL Server umumnya digunakan di perusahaan skala besar yang juga menggunakan produk keluaran Microsoft lainnya.*\n",
    "\n",
    "5. ***SQLite***\n",
    "\n",
    "    *Open source RDBMS, umumnya digunakan sebagai database di handphone, MP3 player, and perangkat lainnya.*\n",
    "\n",
    "*Selain itu, juga ada MariaDB yang juga gratis atau open source, IBM DB2, Microsoft Access, dan masih banyak lainnya.*"
   ]
  },
  {
   "attachments": {},
   "cell_type": "markdown",
   "metadata": {},
   "source": [
    "Umumnya RDBMS menggunakan SQL untuk mengakses database dan produk RDBMS tidak hanya satu macam saja tetapi ada berbagai macam produk, maka SQL syntax pun bisa jadi sedikit berbeda untuk setiap produk tersebut. Berikut contoh perbandingan MySQL, Oracle, dan SQLSERVER untuk menampilkan beberapa baris data dari suatu tabel 1.2. Tabel Perbandingan Syntax MySQL, Oracle, dan SQLSERVER."
   ]
  },
  {
   "attachments": {},
   "cell_type": "markdown",
   "metadata": {},
   "source": [
    "**Struktur Penyimpanan RDBMS**\n",
    "\n",
    "*Sebagai penyimpan data, sistem database relasional memiliki struktur hirarki objek penyimpanan sebagai berikut:*\n",
    "\n",
    "- Database\n",
    "- Tabel (table)\n",
    "- Kolom (column) atau Field\n",
    "\n",
    "*Dari sini aku belajar informasi menarik yaitu setiap database bisa berisi beberapa tabel, dan setiap tabel bisa terdiri dari beberapa kolom. Di setiap database, tabel dan kolom memiliki nama sendiri sebagai identitas mereka. Tabel dan kolom inilah yang akan diisi data yang kemudian membentuk row (baris data).* "
   ]
  },
  {
   "attachments": {},
   "cell_type": "markdown",
   "metadata": {},
   "source": [
    "**Tabel dan Kolom**\n",
    "\n",
    "*Gambar berikut adalah contoh suatu Tabel dalam database. Karena setiap tabel dalam database memiliki nama, maka, nama tabel ini adalah ms_produk.*"
   ]
  },
  {
   "cell_type": "code",
   "execution_count": 1,
   "metadata": {},
   "outputs": [
    {
     "data": {
      "text/html": [
       "<div>\n",
       "<style scoped>\n",
       "    .dataframe tbody tr th:only-of-type {\n",
       "        vertical-align: middle;\n",
       "    }\n",
       "\n",
       "    .dataframe tbody tr th {\n",
       "        vertical-align: top;\n",
       "    }\n",
       "\n",
       "    .dataframe thead th {\n",
       "        text-align: right;\n",
       "    }\n",
       "</style>\n",
       "<table border=\"1\" class=\"dataframe\">\n",
       "  <thead>\n",
       "    <tr style=\"text-align: right;\">\n",
       "      <th></th>\n",
       "      <th>no_urut</th>\n",
       "      <th>kode_produk</th>\n",
       "      <th>nama_produk</th>\n",
       "      <th>harga</th>\n",
       "    </tr>\n",
       "  </thead>\n",
       "  <tbody>\n",
       "    <tr>\n",
       "      <th>0</th>\n",
       "      <td>1</td>\n",
       "      <td>prod-01</td>\n",
       "      <td>Kotak Pensil DQLab</td>\n",
       "      <td>62500</td>\n",
       "    </tr>\n",
       "    <tr>\n",
       "      <th>1</th>\n",
       "      <td>2</td>\n",
       "      <td>prod-02</td>\n",
       "      <td>Flashdisk DQLab</td>\n",
       "      <td>55000</td>\n",
       "    </tr>\n",
       "    <tr>\n",
       "      <th>2</th>\n",
       "      <td>3</td>\n",
       "      <td>prod-03</td>\n",
       "      <td>Voucer DQLab</td>\n",
       "      <td>100000</td>\n",
       "    </tr>\n",
       "  </tbody>\n",
       "</table>\n",
       "</div>"
      ],
      "text/plain": [
       "  no_urut kode_produk         nama_produk   harga\n",
       "0       1     prod-01  Kotak Pensil DQLab   62500\n",
       "1       2     prod-02     Flashdisk DQLab   55000\n",
       "2       3     prod-03        Voucer DQLab  100000"
      ]
     },
     "execution_count": 1,
     "metadata": {},
     "output_type": "execute_result"
    }
   ],
   "source": [
    "import pandas as pd\n",
    "\n",
    "data = [{'no_urut': '1' , 'kode_produk' : 'prod-01', 'nama_produk' : 'Kotak Pensil DQLab' , 'harga' : '62500'},\n",
    "{'no_urut': '2' , 'kode_produk' : 'prod-02', 'nama_produk' : 'Flashdisk DQLab' , 'harga' : '55000'},\n",
    "{'no_urut': '3' , 'kode_produk' : 'prod-03', 'nama_produk' : 'Voucer DQLab' , 'harga' : '100000'}\n",
    "]\n",
    "\n",
    "df = pd.DataFrame(data)\n",
    "\n",
    "df.head()"
   ]
  },
  {
   "attachments": {},
   "cell_type": "markdown",
   "metadata": {},
   "source": [
    "*Jika aku perhatikan, struktur tabel **ms_produk** terdiri dari empat kolom (column), masing-masing dengan nama berikut:*\n",
    "\n",
    "- *no_urut*\n",
    "- *kode_produk*\n",
    "- *nama_produk*\n",
    "- *harga*\n",
    "\n",
    "*Dan dalam tabel tersebut terdapat 10 baris data (row) dengan isi data yang bervariasi, contoh isi data untuk kolom \"nama_produk\" pada baris ketiga adalah \"Voucher DQLab\".*"
   ]
  },
  {
   "attachments": {},
   "cell_type": "markdown",
   "metadata": {},
   "source": [
    "**Kesimpulan**\n",
    "\n",
    "*Wah ternyata seru sekali belajar SQL! *\n",
    "\n",
    "*Aku mulai membuka catataanku, mengambil pena, dan menuliskan apa yang aku pelajari:*\n",
    "\n",
    "1. *Sistem relasional database atau relational database management system (RDBMS) adalah sistem database paling populer di dunia saat ini dan menggunakan bahasa SQL untuk pengolahannya.*\n",
    "\n",
    "2. *Beberapa produk RDBMS yang terkenal antara lain adalah Microsoft SQL Server, Oracle, MySQL, PostgreSQL, IBM DB2, dan masih banyak lainnya.*\n",
    "\n",
    "3. *Struktur penyimpanan data di RDBMS menggunakan hirarki:*\n",
    "- Database\n",
    "- Tabel (Table)\n",
    "- Kolom (Column)\n",
    "\n",
    "*Data akan diisi ke dalam table dalam bentuk Baris (Row) data*"
   ]
  },
  {
   "attachments": {},
   "cell_type": "markdown",
   "metadata": {},
   "source": [
    "**End Of Module : Sistem Database Relasional**"
   ]
  }
 ],
 "metadata": {
  "kernelspec": {
   "display_name": "base",
   "language": "python",
   "name": "python3"
  },
  "language_info": {
   "codemirror_mode": {
    "name": "ipython",
    "version": 3
   },
   "file_extension": ".py",
   "mimetype": "text/x-python",
   "name": "python",
   "nbconvert_exporter": "python",
   "pygments_lexer": "ipython3",
   "version": "3.9.12 (main, Apr  4 2022, 05:22:27) [MSC v.1916 64 bit (AMD64)]"
  },
  "orig_nbformat": 4,
  "vscode": {
   "interpreter": {
    "hash": "5dfae695991f40f7f711b859ebe4404a578ce2940a1c2f7058c1cb98bd497b2c"
   }
  }
 },
 "nbformat": 4,
 "nbformat_minor": 2
}
