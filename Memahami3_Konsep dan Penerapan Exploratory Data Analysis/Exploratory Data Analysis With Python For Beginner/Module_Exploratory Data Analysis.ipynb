{
 "cells": [
  {
   "cell_type": "markdown",
   "metadata": {},
   "source": [
    "(EDA) Exploratory Data Analysis\n",
    "1. Library yang dipakai untuk EDA\n",
    "2. EDA dengan pandas - Pre-analisis\n",
    "3. EDA dengan pandas - Grafik\n",
    "4. EDA dengan pandas - Fungsi"
   ]
  },
  {
   "cell_type": "markdown",
   "metadata": {},
   "source": [
    "LIBRARY UNTUK EDA\n",
    "1. NumPy : untuk komputasi numerik & menyimpan data dalam bentuk arrays (1D ataupun 2D).\n",
    "2. Pandas : Pandas menyimpan data dalam dictionary-based Numpy arrays, Series (1-Dimensi ), Data Frame (2-Dimensi). Kegunaan utama Pandas yaitu load, prepare, manipulate, modelling, dan analysis data.\n",
    "3. Scipy : melakukan integrasi, diferensiasi, dan optimasi numerik dengan array NumPy.\n",
    "4. Matplotlib : membuat visualisasi data dengan 2-Dimensional. Line chart, Bar chart, Pie chart, Box plot chart, Violin chart, Errorbar chart, Scatter chart"
   ]
  },
  {
   "cell_type": "markdown",
   "metadata": {},
   "source": [
    "EDA dengan Pandas - Pre-analisis\n",
    "1. Membaca file\n",
    "2. Inspeksi data frame (pre-analisis) : melihat struktur kolom & baris data frame, melihat priview data dari data frame, membuat summary data sederhana\n",
    "3. Statistik deskriptif dari data frame \n"
   ]
  },
  {
   "cell_type": "code",
   "execution_count": 27,
   "metadata": {},
   "outputs": [],
   "source": [
    "# Membaca file\n",
    "import pandas as pd\n",
    "\n",
    "# Membaca file CSV\n",
    "order_df = pd.read_csv('https://storage.googleapis.com/dqlab-dataset/order.csv')\n",
    "\n",
    "# Membaca file Excel\n",
    "# [nama_variabel] = pd.read_excel('nama_file.xlsx')"
   ]
  },
  {
   "cell_type": "code",
   "execution_count": 28,
   "metadata": {},
   "outputs": [
    {
     "name": "stdout",
     "output_type": "stream",
     "text": [
      "(5, 3)\n",
      "   Age      Name  Score\n",
      "0   20   Lindsay     82\n",
      "1   18    Robert     75\n",
      "2   23     Ricko     78\n",
      "3   21     Nicky     64\n",
      "4   25  Daniella     98\n",
      "   Age      Name  Score\n",
      "0   20   Lindsay     82\n",
      "1   18    Robert     75\n",
      "2   23     Ricko     78\n",
      "3   21     Nicky     64\n",
      "4   25  Daniella     98\n"
     ]
    }
   ],
   "source": [
    "# Inspeksi Struktur Data Frame\n",
    "''' \n",
    "Melihat struktur kolom & baris data frame\n",
    "1. informasi mengenai berapa size dari dataframe\n",
    "2. jumlah kolom & baris data frame - .shape\n",
    "3. melihat preview data frame - .head() & tail()\n",
    "head dan tail dikosongkan maka secara default akan ditampilkan sebanyak 5 (lima) baris saja\n",
    "'''\n",
    "import pandas as pd\n",
    "#membuat data baru\n",
    "data = [{'Age':20, 'Name':'Lindsay', 'Score':82},\n",
    "{'Age':18, 'Name':'Robert', 'Score':75},\n",
    "{'Age':23, 'Name':'Ricko', 'Score':78},\n",
    "{'Age':21, 'Name':'Nicky', 'Score':64},\n",
    "{'Age':25, 'Name':'Daniella', 'Score':98}]\n",
    "\n",
    "order_df = pd.DataFrame(data)\n",
    "print(order_df.shape)\n",
    "\n",
    "print(order_df.head())\n",
    "print(order_df.tail())"
   ]
  },
  {
   "cell_type": "code",
   "execution_count": 29,
   "metadata": {},
   "outputs": [
    {
     "name": "stdout",
     "output_type": "stream",
     "text": [
      "             Age     Score\n",
      "count   5.000000   5.00000\n",
      "mean   21.400000  79.40000\n",
      "std     2.701851  12.36123\n",
      "min    18.000000  64.00000\n",
      "25%    20.000000  75.00000\n",
      "50%    21.000000  78.00000\n",
      "75%    23.000000  82.00000\n",
      "max    25.000000  98.00000\n",
      "           Name\n",
      "count         5\n",
      "unique        5\n",
      "top     Lindsay\n",
      "freq          1\n",
      "              Age     Name     Score\n",
      "count    5.000000        5   5.00000\n",
      "unique        NaN        5       NaN\n",
      "top           NaN  Lindsay       NaN\n",
      "freq          NaN        1       NaN\n",
      "mean    21.400000      NaN  79.40000\n",
      "std      2.701851      NaN  12.36123\n",
      "min     18.000000      NaN  64.00000\n",
      "25%     20.000000      NaN  75.00000\n",
      "50%     21.000000      NaN  78.00000\n",
      "75%     23.000000      NaN  82.00000\n",
      "max     25.000000      NaN  98.00000\n"
     ]
    }
   ],
   "source": [
    "# Inspeksi Struktur data frame\n",
    "# Statistik Deskriptif\n",
    "# Fungsi .describe untuk membuat summary\n",
    "import pandas as pd\n",
    "#membuat data baru\n",
    "data = [{'Age':20, 'Name':'Lindsay', 'Score':82},\n",
    "{'Age':18, 'Name':'Robert', 'Score':75},\n",
    "{'Age':23, 'Name':'Ricko', 'Score':78},\n",
    "{'Age':21, 'Name':'Nicky', 'Score':64},\n",
    "{'Age':25, 'Name':'Daniella', 'Score':98}]\n",
    "\n",
    "order_df = pd.DataFrame(data)\n",
    "\n",
    "# Fungsi describe hanya menghitung kolom numerik saja\n",
    "print(order_df.describe())\n",
    "# Fungsi describe menghitung kolom string\n",
    "print(order_df.describe(include=[\"object\"]))\n",
    "# Fungsi describe menghitung semua jenis kolom\n",
    "print(order_df.describe(include=\"all\"))\n"
   ]
  },
  {
   "cell_type": "code",
   "execution_count": 30,
   "metadata": {},
   "outputs": [
    {
     "name": "stdout",
     "output_type": "stream",
     "text": [
      "21.4\n",
      "78.0\n",
      "0    Daniella\n",
      "1     Lindsay\n",
      "2       Nicky\n",
      "3       Ricko\n",
      "4      Robert\n",
      "Name: Name, dtype: object\n"
     ]
    }
   ],
   "source": [
    "# Inspeksi Struktur data frame\n",
    "# Statistik Deskriptif\n",
    "# Mencari : mean, median dan mode\n",
    "import pandas as pd\n",
    "#membuat data baru\n",
    "data = [{'Age':20, 'Name':'Lindsay', 'Score':82},\n",
    "{'Age':18, 'Name':'Robert', 'Score':75},\n",
    "{'Age':23, 'Name':'Ricko', 'Score':78},\n",
    "{'Age':21, 'Name':'Nicky', 'Score':64},\n",
    "{'Age':25, 'Name':'Daniella', 'Score':98}]\n",
    "\n",
    "order_df = pd.DataFrame(data)\n",
    "\n",
    "print(order_df.loc[:, 'Age'].mean())\n",
    "print(order_df.loc[:, 'Score'].median())\n",
    "print(order_df.loc[:, 'Name'].mode())"
   ]
  },
  {
   "cell_type": "markdown",
   "metadata": {},
   "source": [
    "EDA dengan pandas - Grafik\n",
    "1. Mengenal dan membuat distibusi data dengan histogram\n",
    "2. Histogram adalah grafik yang berisi ringkasan dari sebaran (variasi) suatu data\n",
    "3. Tidak ada jarak antar bar dari grafik karena titik data kelas bisa muncul dimana saja di daerah cakupan grafik\n",
    "4. Ketinggian bar sesuai dengan frekuensi atau frekuensi relative jumlah data di kelas"
   ]
  },
  {
   "cell_type": "markdown",
   "metadata": {},
   "source": [
    "Sintaks Umum Histogram:\n",
    "1. nama_dataframe[['nama_kolom']].hist(bins=jumlah_bin,\n",
    "by=nama_kolom, alpha=nilai_alpha, figsize=tuple_ukuran_gambar)\n",
    "2. bins = jumlah dari batang/bar\n",
    "3. by = nama kolom di Dataframe untuk di group by\n",
    "4. alpha = nilai_alpha untuk menentukan opacity dari plot di histogram. (value berupa range 0.0 - 1.0, dimana semakin kecil akan semakin kecil opacity nya)\n",
    "5. ukuran gambar plot histogram"
   ]
  },
  {
   "cell_type": "markdown",
   "metadata": {},
   "source": [
    "EDA dengan pandas - Fungsi\n",
    "1. Standar deviasi dan varians\n",
    "2. Menemukan outliers dengan Pandas : IQR\n",
    "3. Rename Kolom dataframe\n",
    "4. Groupby dengan Pandas\n",
    "5. Sorting dengan Pandas"
   ]
  },
  {
   "cell_type": "code",
   "execution_count": 31,
   "metadata": {},
   "outputs": [
    {
     "name": "stdout",
     "output_type": "stream",
     "text": [
      "3929.896875372737\n",
      "15444089.451064402\n"
     ]
    }
   ],
   "source": [
    "'''\n",
    "Standar deviasi & Varians\n",
    "merupakan ukuran dispersi yang sering dipakai\n",
    "karena : standar deviasi mempunyai satuan ukuran yang sama \n",
    "dengan satuan ukuran data asalnya. Sedangkan varians memiliki \n",
    "satuan kuadrat dari data asalnya (misalnya cm^2).\n",
    "'''\n",
    "import pandas as pd\n",
    "order_df = pd.read_csv('https://storage.googleapis.com/dqlab-dataset/order.csv')\n",
    "# Standar deviasi kolom product_weight_gram\n",
    "print(order_df.loc[:, 'product_weight_gram'].std())\n",
    "# Varians kolom product_weight_gram\n",
    "print(order_df.loc[:, 'product_weight_gram'].var())"
   ]
  },
  {
   "attachments": {},
   "cell_type": "markdown",
   "metadata": {},
   "source": [
    "**Menemukan OUTLIERS dengan Pandas**\n",
    "\n",
    "1. Menggunakan IQR (Interquartile range)\n",
    "2. Menghitung Score IQR\n",
    "3. Menentukan Outliers : False = nilai valid, True = Outliers"
   ]
  },
  {
   "cell_type": "code",
   "execution_count": 32,
   "metadata": {},
   "outputs": [
    {
     "name": "stdout",
     "output_type": "stream",
     "text": [
      "Score    7.0\n",
      "dtype: float64\n",
      "     Age   Name  Score\n",
      "0  False  False  False\n",
      "1  False  False  False\n",
      "2  False  False  False\n",
      "3  False  False   True\n",
      "4  False  False   True\n"
     ]
    },
    {
     "name": "stderr",
     "output_type": "stream",
     "text": [
      "C:\\Users\\sendy\\AppData\\Local\\Temp\\ipykernel_14728\\847592958.py:22: FutureWarning: Automatic reindexing on DataFrame vs Series comparisons is deprecated and will raise ValueError in a future version. Do `left, right = left.align(right, axis=1, copy=False)` before e.g. `left == right`\n",
      "  print((nilai_order_df < (Q1 - 1.5*IQR)) | (nilai_order_df > (Q3 + 1.5*IQR)))\n",
      "C:\\Users\\sendy\\AppData\\Local\\Temp\\ipykernel_14728\\847592958.py:22: FutureWarning: Automatic reindexing on DataFrame vs Series comparisons is deprecated and will raise ValueError in a future version. Do `left, right = left.align(right, axis=1, copy=False)` before e.g. `left == right`\n",
      "  print((nilai_order_df < (Q1 - 1.5*IQR)) | (nilai_order_df > (Q3 + 1.5*IQR)))\n"
     ]
    }
   ],
   "source": [
    "# Menemukan outliers dengan Pandas\n",
    "# Menggunakan metric IQR  (interquartile range)\n",
    "import pandas as pd\n",
    "#membuat data baru\n",
    "data = [{'Age':20, 'Name':'Lindsay', 'Score':82},\n",
    "{'Age':18, 'Name':'Robert', 'Score':75},\n",
    "{'Age':23, 'Name':'Ricko', 'Score':78},\n",
    "{'Age':21, 'Name':'Nicky', 'Score':64},\n",
    "{'Age':25, 'Name':'Daniella', 'Score':98}]\n",
    "\n",
    "nilai_order_df = pd.DataFrame(data)\n",
    "\n",
    "# Menghitung score IQR\n",
    "Q1 = nilai_order_df[['Score']].quantile(0.25)\n",
    "Q3 = nilai_order_df[['Score']].quantile(0.75)\n",
    "IQR = Q3 - Q1\n",
    "print(IQR)\n",
    "\n",
    "# Menentukan OUTLIERS\n",
    "#  False yang berarti nilai-nilai ini valid \n",
    "#  True menunjukkan adanya outliers\n",
    "print((nilai_order_df < (Q1 - 1.5*IQR)) | (nilai_order_df > (Q3 + 1.5*IQR)))\n"
   ]
  },
  {
   "cell_type": "markdown",
   "metadata": {},
   "source": [
    "Rename kolom Dataframe \n",
    "1. Menggunakan nama kolom\n",
    "2. Menggunakan indeks kolom\n",
    "3. Menampilkan semua nama kolom"
   ]
  },
  {
   "cell_type": "code",
   "execution_count": 33,
   "metadata": {},
   "outputs": [
    {
     "name": "stdout",
     "output_type": "stream",
     "text": [
      "Index(['Umur', 'Nama', 'Score'], dtype='object')\n"
     ]
    }
   ],
   "source": [
    "# Rename Kolom\n",
    "import pandas as pd\n",
    "#membuat data baru\n",
    "data = [{'Age':20, 'Name':'Lindsay', 'Score':82},\n",
    "{'Age':18, 'Name':'Robert', 'Score':75},\n",
    "{'Age':23, 'Name':'Ricko', 'Score':78},\n",
    "{'Age':21, 'Name':'Nicky', 'Score':64},\n",
    "{'Age':25, 'Name':'Daniella', 'Score':98}]\n",
    "\n",
    "nilai_order_df = pd.DataFrame(data)\n",
    "\n",
    "# Menggunakan nama kolom \n",
    "nilai_order_df.rename(columns={'Age':'Umur'}, inplace=True)\n",
    "# Menggunakan indeks kolom\n",
    "nilai_order_df.columns.values[1] = 'Nama'\n",
    "# Tampilkan semua nama kolom\n",
    "print(nilai_order_df.columns)"
   ]
  },
  {
   "cell_type": "markdown",
   "metadata": {},
   "source": [
    "GroupBy menggunakan Pandas\n",
    "1. Kegunaan .groupby adalah mencari summary dari data frame dengan menggunakan aggregate dari kolom tertentu"
   ]
  },
  {
   "cell_type": "code",
   "execution_count": 34,
   "metadata": {},
   "outputs": [
    {
     "name": "stdout",
     "output_type": "stream",
     "text": [
      "Name\n",
      "Alisa       72.00\n",
      "Bobby       57.50\n",
      "Cathrine    63.75\n",
      "Name: Score, dtype: float64\n",
      "Name      Exam      \n",
      "Alisa     Semester 1    136\n",
      "          Semester 2    152\n",
      "Bobby     Semester 1     78\n",
      "          Semester 2    152\n",
      "Cathrine  Semester 1    132\n",
      "          Semester 2    123\n",
      "Name: Score, dtype: int64\n"
     ]
    }
   ],
   "source": [
    "# GroupBy menggunakan Pandas\n",
    "import pandas as pd\n",
    "#membuat data baru\n",
    "data = [{'Name':'Alisa', 'Exam':'Semester 1', 'Subject':'Mathematics', 'Score':62},\n",
    "{'Name':'Bobby', 'Exam':'Semester 1', 'Subject':'Mathematics', 'Score':47},\n",
    "{'Name':'Cathrine', 'Exam':'Semester 1', 'Subject':'Mathematics', 'Score':55},\n",
    "{'Name':'Alisa', 'Exam':'Semester 1', 'Subject':'Science', 'Score':74},\n",
    "{'Name':'Bobby', 'Exam':'Semester 1', 'Subject':'Science', 'Score':31},\n",
    "{'Name':'Cathrine', 'Exam':'Semester 1', 'Subject':'Science', 'Score':77},\n",
    "{'Name':'Alisa', 'Exam':'Semester 2', 'Subject':'Mathematics', 'Score':85},\n",
    "{'Name':'Bobby', 'Exam':'Semester 2', 'Subject':'Mathematics', 'Score':63},\n",
    "{'Name':'Cathrine', 'Exam':'Semester 2', 'Subject':'Mathematics', 'Score':42},\n",
    "{'Name':'Alisa', 'Exam':'Semester 2', 'Subject':'Science', 'Score':67},\n",
    "{'Name':'Bobby', 'Exam':'Semester 2', 'Subject':'Science', 'Score':89},\n",
    "{'Name':'Cathrine', 'Exam':'Semester 2', 'Subject':'Science', 'Score':81}\n",
    "]\n",
    "\n",
    "nilai_order_df = pd.DataFrame(data)\n",
    "'''\n",
    "Penjelasan: komputasi dibawah menggunakan kolom Name sebagai aggregate, \n",
    "menggunakan fungsi mean untuk menghitung mean dari kolom Score pada tiap-tiap aggregate tersebut.\n",
    "'''\n",
    "rata_rata = nilai_order_df['Score'].groupby([nilai_order_df['Name']]).mean()\n",
    "print(rata_rata)\n",
    "\n",
    "'''\n",
    "Penjelasan: komputasi diatas menggunakan kolom Name dan Exam sebagai aggregate \n",
    "dan kemudian menggunakan menghitung sum dari kolom Score pada tiap-tiap aggregate tersebut.\n",
    "'''\n",
    "\n",
    "jumlah = nilai_order_df['Score'].groupby([nilai_order_df['Name'], nilai_order_df['Exam']]).sum()\n",
    "print(jumlah)"
   ]
  },
  {
   "cell_type": "markdown",
   "metadata": {},
   "source": [
    "Sorting dengan Pandas\n",
    "1. Sorting adalah sebuah metode mengurutkan data berdasarkan syarat kolom tertentu\n",
    "2. biasanya digunakan untuk melihat nilai maksimum dan minimum dari dataset"
   ]
  },
  {
   "cell_type": "code",
   "execution_count": 35,
   "metadata": {},
   "outputs": [
    {
     "name": "stdout",
     "output_type": "stream",
     "text": [
      "   Age      Name  Score\n",
      "1   18    Robert     75\n",
      "0   20   Lindsay     82\n",
      "3   21     Nicky     64\n",
      "2   23     Ricko     78\n",
      "4   25  Daniella     98\n",
      "\n",
      "   Age      Name  Score\n",
      "4   25  Daniella     98\n",
      "2   23     Ricko     78\n",
      "3   21     Nicky     64\n",
      "0   20   Lindsay     82\n",
      "1   18    Robert     75\n"
     ]
    }
   ],
   "source": [
    "# Sorting dengan Pandas\n",
    "# Sorting berdasarkan 1 kolom\n",
    "import pandas as pd\n",
    "#membuat data baru\n",
    "data = [{'Age':20, 'Name':'Lindsay', 'Score':82},\n",
    "{'Age':18, 'Name':'Robert', 'Score':75},\n",
    "{'Age':23, 'Name':'Ricko', 'Score':78},\n",
    "{'Age':21, 'Name':'Nicky', 'Score':64},\n",
    "{'Age':25, 'Name':'Daniella', 'Score':98}]\n",
    "\n",
    "nilai_order_df = pd.DataFrame(data)\n",
    "\n",
    "# Mengurutkan secara Ascending\n",
    "# Dimulai dari nilai terkecil\n",
    "ascending = nilai_order_df.sort_values(by='Age')\n",
    "print(ascending)\n",
    "\n",
    "print()\n",
    "# Mengurutkan secara Descending\n",
    "# Dimulai dari nilai terbesar\n",
    "descending = nilai_order_df.sort_values(by='Age', ascending=False)\n",
    "print(descending)\n"
   ]
  },
  {
   "cell_type": "code",
   "execution_count": 36,
   "metadata": {},
   "outputs": [
    {
     "name": "stdout",
     "output_type": "stream",
     "text": [
      "   Age      Name  Score\n",
      "1   18    Robert     75\n",
      "0   20   Lindsay     82\n",
      "3   21     Nicky     64\n",
      "2   23     Ricko     78\n",
      "4   25  Daniella     98\n"
     ]
    }
   ],
   "source": [
    "# Sorting dengan Pandas\n",
    "# Sorting berdasarkan 2 kolom\n",
    "import pandas as pd\n",
    "#membuat data baru\n",
    "data = [{'Age':20, 'Name':'Lindsay', 'Score':82},\n",
    "{'Age':18, 'Name':'Robert', 'Score':75},\n",
    "{'Age':23, 'Name':'Ricko', 'Score':78},\n",
    "{'Age':21, 'Name':'Nicky', 'Score':64},\n",
    "{'Age':25, 'Name':'Daniella', 'Score':98}]\n",
    "\n",
    "nilai_order_df = pd.DataFrame(data)\n",
    "\n",
    "# kolom Age - ascending\n",
    "# kolom score - descending\n",
    "sorting = nilai_order_df.sort_values(by=['Age','Score'], ascending=[True, False])\n",
    "print(sorting)"
   ]
  }
 ],
 "metadata": {
  "kernelspec": {
   "display_name": "Python 3.9.12 ('base')",
   "language": "python",
   "name": "python3"
  },
  "language_info": {
   "codemirror_mode": {
    "name": "ipython",
    "version": 3
   },
   "file_extension": ".py",
   "mimetype": "text/x-python",
   "name": "python",
   "nbconvert_exporter": "python",
   "pygments_lexer": "ipython3",
   "version": "3.9.12 (main, Apr  4 2022, 05:22:27) [MSC v.1916 64 bit (AMD64)]"
  },
  "orig_nbformat": 4,
  "vscode": {
   "interpreter": {
    "hash": "5dfae695991f40f7f711b859ebe4404a578ce2940a1c2f7058c1cb98bd497b2c"
   }
  }
 },
 "nbformat": 4,
 "nbformat_minor": 2
}
