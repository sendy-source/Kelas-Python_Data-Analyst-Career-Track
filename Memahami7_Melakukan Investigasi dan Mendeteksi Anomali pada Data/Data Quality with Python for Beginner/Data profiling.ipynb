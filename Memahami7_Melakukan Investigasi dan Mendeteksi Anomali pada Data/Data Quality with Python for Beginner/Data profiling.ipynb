{
 "cells": [
  {
   "cell_type": "markdown",
   "metadata": {},
   "source": [
    "Data Profiling\n",
    "1. Memahami fungsi data profiling\n",
    "2. Memahami langkah dalam melakukan profiling / Data profiling manual\n",
    "3. Data Profiling Using pandas_profilin di folder khusus\n",
    "4. Dataset : 'https://storage.googleapis.com/dqlab-dataset/retail_raw_reduced_data_quality.csv'"
   ]
  },
  {
   "cell_type": "markdown",
   "metadata": {},
   "source": [
    "Fungsi Data Profiling :\n",
    "1. Merangkum dataset menggunakan statistik deskriptif\n",
    "2. Bertujuan untuk memiliki pemahaman yang kuat tentang data sehingga dapat mulai menyusun framework analisis dan memvisualisasikan data"
   ]
  },
  {
   "cell_type": "markdown",
   "metadata": {},
   "source": [
    "Data Profiling Manual :\n",
    "1. Importing Data\n",
    "2. Inspeksi Data\n",
    "3. Memahami Struktur Data\n",
    "Fungsi len akan menghitung semua pengamatan, terlepas dari apakah ada null-value atau tidak (include missing value), \n",
    "Fungsi count menghitung jumlah pengamatan non-NA/non-null dalam suatu series/column.\n",
    "4. Menghitung Berapa Persen Jumlah Missing Value\n",
    "5. Descriptive Statistics (Max, Min, Mean, Mode, Median, std)\n",
    "6. Quantile Statistics\n",
    "7. Correlation antar variabel numerik\n",
    "Koefisien korelasi berkisar antara -1 hingga 1, Korelasi 1 adalah korelasi positif total, korelasi -1 adalah korelasi negatif total dan korelasi 0 adalah korelasi non-linear."
   ]
  },
  {
   "cell_type": "code",
   "execution_count": 2,
   "metadata": {},
   "outputs": [
    {
     "name": "stdout",
     "output_type": "stream",
     "text": [
      "order_id         int64\n",
      "order_date      object\n",
      "customer_id      int64\n",
      "city            object\n",
      "province        object\n",
      "product_id      object\n",
      "brand           object\n",
      "quantity       float64\n",
      "item_price     float64\n",
      "dtype: object\n",
      "Length kolom city: 5000\n",
      "Length kolom product_id: 5000\n",
      "Count kolom count_city: 4984\n",
      "Count kolom product_id 4989\n"
     ]
    }
   ],
   "source": [
    "# Data Profiing Manual\n",
    "# Importing Data\n",
    "import pandas as pd\n",
    "import numpy as np\n",
    "import io\n",
    "import pandas_profiling\n",
    "retail_raw = pd.read_csv('https://storage.googleapis.com/dqlab-dataset/retail_raw_reduced_data_quality.csv')\n",
    "\n",
    "# Inspeksi Data\n",
    "# Cetak tipe data di setiap kolom retail_raw\n",
    "print(retail_raw.dtypes)\n",
    "\n",
    "# Memahami Struktur Data\n",
    "# Fungsi Len\n",
    "# Kolom city\n",
    "length_city = len(retail_raw['city'])\n",
    "print('Length kolom city:', length_city)\n",
    "\n",
    "# Kolom product_id\n",
    "length_product_id = len(retail_raw['product_id'])\n",
    "print('Length kolom product_id:', length_product_id)\n",
    "\n",
    "# Fungsi Count\n",
    "# Count kolom city\n",
    "count_city = retail_raw['city'].count()\n",
    "print('Count kolom count_city:', count_city)\n",
    "\n",
    "# count kolom product_id\n",
    "count_product_id = retail_raw['product_id'].count()\n",
    "print('Count kolom product_id', count_product_id)\n"
   ]
  },
  {
   "cell_type": "code",
   "execution_count": 3,
   "metadata": {},
   "outputs": [
    {
     "name": "stdout",
     "output_type": "stream",
     "text": [
      "Persentase missing value kolom city: 0.3%\n",
      "Persentase missing value kolom product_id: 0.2%\n"
     ]
    }
   ],
   "source": [
    "# Data Profiing Manual\n",
    "# Menghitung berapa persen jumlah missing value\n",
    "# Menggunakan len dan count\n",
    "import pandas as pd\n",
    "import numpy as np\n",
    "import io\n",
    "import pandas_profiling\n",
    "retail_raw = pd.read_csv('https://storage.googleapis.com/dqlab-dataset/retail_raw_reduced_data_quality.csv')\n",
    "\n",
    "# Kolom city\n",
    "length_city = len(retail_raw['city'])\n",
    "count_city = retail_raw['city'].count()\n",
    "# Kolom product id\n",
    "length_product_id = len(retail_raw['product_id'])\n",
    "count_product_id = retail_raw['product_id'].count()\n",
    "\n",
    "# Missing value pada kolom : city\n",
    "number_of_missing_values_city = length_city - count_city\n",
    "ratio_of_missing_values_city = number_of_missing_values_city/length_city\n",
    "pct_of_missing_values_city = '{0:.1f}%'.format(ratio_of_missing_values_city * 100)\n",
    "print('Persentase missing value kolom city:', pct_of_missing_values_city)\n",
    "\n",
    "# Tugas praktek: Missing value pada kolom : product_id\n",
    "number_of_missing_values_product_id = length_product_id - count_product_id\n",
    "ratio_of_missing_values_product_id = number_of_missing_values_product_id/length_product_id\n",
    "pct_of_missing_values_product_id = '{0:.1f}%'.format(ratio_of_missing_values_product_id * 100)\n",
    "print('Persentase missing value kolom product_id:', pct_of_missing_values_product_id)"
   ]
  },
  {
   "cell_type": "code",
   "execution_count": 4,
   "metadata": {},
   "outputs": [
    {
     "name": "stdout",
     "output_type": "stream",
     "text": [
      "Kolom quantity\n",
      "Minimum value:  1.0\n",
      "Maximum value:  720.0\n",
      "Mean value:  11.423987164059366\n",
      "Mode value:  0    1.0\n",
      "Name: quantity, dtype: float64\n",
      "Median value:  5.0\n",
      "Standard Deviation value:  29.442025010811317\n",
      "\n",
      "Kolom item_price\n",
      "Minimum value:  26000.0\n",
      "Maximum value:  29762000.0\n",
      "Mean value:  933742.7311008623\n",
      "Median value:  604000.0\n",
      "Standard Deviation value:  1030829.8104242863\n"
     ]
    }
   ],
   "source": [
    "# Data Profiing Manual\n",
    "# Descriptive Statistics (Max, Min, Mean, Mode, Median, std)\n",
    "import pandas as pd\n",
    "import numpy as np\n",
    "import io\n",
    "import pandas_profiling\n",
    "retail_raw = pd.read_csv('https://storage.googleapis.com/dqlab-dataset/retail_raw_reduced_data_quality.csv')\n",
    "\n",
    "# Deskriptif statistics kolom : quantity\n",
    "print('Kolom quantity')\n",
    "print('Minimum value: ', retail_raw['quantity'].min())\n",
    "print('Maximum value: ', retail_raw['quantity'].max())\n",
    "print('Mean value: ', retail_raw['quantity'].mean())\n",
    "print('Mode value: ', retail_raw['quantity'].mode())\n",
    "print('Median value: ', retail_raw['quantity'].median())\n",
    "print('Standard Deviation value: ', retail_raw['quantity'].std())\n",
    "\n",
    "# Tugas praktek: Deskriptif statistics kolom : item_price\n",
    "print('')\n",
    "print('Kolom item_price')\n",
    "print('Minimum value: ', retail_raw['item_price'].min())\n",
    "print('Maximum value: ', retail_raw['item_price'].max())\n",
    "print('Mean value: ', retail_raw['item_price'].mean())\n",
    "print('Median value: ', retail_raw['item_price'].median())\n",
    "print('Standard Deviation value: ', retail_raw['item_price'].std())"
   ]
  },
  {
   "cell_type": "code",
   "execution_count": 5,
   "metadata": {},
   "outputs": [
    {
     "name": "stdout",
     "output_type": "stream",
     "text": [
      "Kolom quantity:\n",
      "0.25     2.0\n",
      "0.50     5.0\n",
      "0.75    12.0\n",
      "Name: quantity, dtype: float64\n",
      "\n",
      "Kolom item_price:\n",
      "0.25     450000.0\n",
      "0.50     604000.0\n",
      "0.75    1045000.0\n",
      "Name: item_price, dtype: float64\n"
     ]
    }
   ],
   "source": [
    "# Data Profiing Manual\n",
    "# Quantile Statistics\n",
    "import pandas as pd\n",
    "import numpy as np\n",
    "import io\n",
    "import pandas_profiling\n",
    "retail_raw = pd.read_csv('https://storage.googleapis.com/dqlab-dataset/retail_raw_reduced_data_quality.csv')\n",
    "\n",
    "# Quantile statistics kolom quantity\n",
    "print('Kolom quantity:')\n",
    "print(retail_raw['quantity'].quantile([0.25, 0.5, 0.75]))\n",
    "\n",
    "# Tugas praktek: Quantile statistics kolom item_price\n",
    "print('')\n",
    "print('Kolom item_price:')\n",
    "print(retail_raw['item_price'].quantile([0.25, 0.5, 0.75]))"
   ]
  },
  {
   "cell_type": "code",
   "execution_count": 6,
   "metadata": {},
   "outputs": [
    {
     "name": "stdout",
     "output_type": "stream",
     "text": [
      "Korelasi quantity dengan item_price\n",
      "            quantity  item_price\n",
      "quantity    1.000000   -0.133936\n",
      "item_price -0.133936    1.000000\n"
     ]
    }
   ],
   "source": [
    "# Data Profiing Manual\n",
    "# Correlation quantity dan item_price\n",
    "import pandas as pd\n",
    "import numpy as np\n",
    "import io\n",
    "import pandas_profiling\n",
    "retail_raw = pd.read_csv('https://storage.googleapis.com/dqlab-dataset/retail_raw_reduced_data_quality.csv')\n",
    "\n",
    "print('Korelasi quantity dengan item_price')\n",
    "print(retail_raw[['quantity', 'item_price']].corr())"
   ]
  }
 ],
 "metadata": {
  "kernelspec": {
   "display_name": "Python 3.9.12 ('base')",
   "language": "python",
   "name": "python3"
  },
  "language_info": {
   "codemirror_mode": {
    "name": "ipython",
    "version": 3
   },
   "file_extension": ".py",
   "mimetype": "text/x-python",
   "name": "python",
   "nbconvert_exporter": "python",
   "pygments_lexer": "ipython3",
   "version": "3.9.12"
  },
  "orig_nbformat": 4,
  "vscode": {
   "interpreter": {
    "hash": "5dfae695991f40f7f711b859ebe4404a578ce2940a1c2f7058c1cb98bd497b2c"
   }
  }
 },
 "nbformat": 4,
 "nbformat_minor": 2
}
