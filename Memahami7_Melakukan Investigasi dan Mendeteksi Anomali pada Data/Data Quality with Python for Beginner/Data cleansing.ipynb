{
 "cells": [
  {
   "cell_type": "markdown",
   "metadata": {},
   "source": [
    "## Data Cleansing"
   ]
  },
  {
   "cell_type": "markdown",
   "metadata": {},
   "source": [
    "Data Cleansing berarti proses mengidentifikasi bagian data yang salah, tidak lengkap, tidak akurat, tidak relevan atau hilang dan kemudian memodifikasi, mengganti atau menghapusnya sesuai dengan kebutuhan."
   ]
  },
  {
   "cell_type": "markdown",
   "metadata": {},
   "source": [
    "- Data cleansing untuk treatment terhadap Missing Data\n",
    "- Data cleansing untuk treatment Outliers\n",
    "- Data cleansing untuk treatment Deduplikasi Data"
   ]
  },
  {
   "cell_type": "markdown",
   "metadata": {},
   "source": [
    "## Missing Data"
   ]
  },
  {
   "cell_type": "markdown",
   "metadata": {},
   "source": [
    "Dataset yang ditemui di real-world biasanya akan memiliki banyak missing value. Kemampuan untuk treatment missing value sangat penting karena jika membiarkan missing value itu dapat memengaruhi analisis dan machine learning model."
   ]
  },
  {
   "cell_type": "markdown",
   "metadata": {},
   "source": [
    "1. Check Kolom yang memiliki Missing Value\n",
    "2. Treatment terhadap Missing Data :\n",
    "    - Leave as it is (dibiarkan)\n",
    "    - Filling the missing value (imputasi) - menggunakan mean, modus, median ataupun menggunakan predictive modelling\n",
    "    - Drop them (hapus row yang mengandung missing value)"
   ]
  },
  {
   "cell_type": "code",
   "execution_count": 2,
   "metadata": {},
   "outputs": [
    {
     "name": "stdout",
     "output_type": "stream",
     "text": [
      "Check kolom yang memiliki missing data:\n",
      "order_id       False\n",
      "order_date     False\n",
      "customer_id    False\n",
      "city            True\n",
      "province        True\n",
      "product_id      True\n",
      "brand          False\n",
      "quantity        True\n",
      "item_price      True\n",
      "dtype: bool\n",
      "\n",
      "Filling the missing value (imputasi):\n",
      "0       10.0\n",
      "1        2.0\n",
      "2        8.0\n",
      "3        4.0\n",
      "4        2.0\n",
      "        ... \n",
      "4995     2.0\n",
      "4996     3.0\n",
      "4997     4.0\n",
      "4998     8.0\n",
      "4999     1.0\n",
      "Name: quantity, Length: 5000, dtype: float64\n",
      "\n",
      "Drop missing value:\n",
      "0       10.0\n",
      "1        2.0\n",
      "2        8.0\n",
      "3        4.0\n",
      "4        2.0\n",
      "        ... \n",
      "4995     2.0\n",
      "4996     3.0\n",
      "4997     4.0\n",
      "4998     8.0\n",
      "4999     1.0\n",
      "Name: quantity, Length: 4986, dtype: float64\n"
     ]
    }
   ],
   "source": [
    "import pandas as pd\n",
    "import numpy as np\n",
    "import io\n",
    "import pandas_profiling\n",
    "retail_raw = pd.read_csv('https://storage.googleapis.com/dqlab-dataset/retail_raw_reduced_data_quality.csv')\n",
    "\n",
    "# Check kolom yang memiliki missing data\n",
    "print('Check kolom yang memiliki missing data:')\n",
    "print(retail_raw.isnull().any())\n",
    "\n",
    "# Filling the missing value (imputasi)\n",
    "print('\\nFilling the missing value (imputasi):')\n",
    "print(retail_raw['quantity'].fillna(retail_raw.quantity.mean()))\n",
    "\n",
    "# Drop missing value\n",
    "print('\\nDrop missing value:')\n",
    "print(retail_raw['quantity'].dropna())"
   ]
  },
  {
   "cell_type": "markdown",
   "metadata": {},
   "source": [
    "jumlah baris yang berbeda pada kolom quantity. Proses imputasi tentunya akan mempertahankan jumlah baris dari data karena missing value diisi dengan suatu nilai yang pada kasus kita ini menggunakan nilai rata-rata kolom bersangkutan. Sementara drop missing value tentu akan membuang baris yang memiliki missing value yang mengakibatkan jumlah baris data berkurang."
   ]
  },
  {
   "cell_type": "markdown",
   "metadata": {},
   "source": [
    "Tugas Praktek\n",
    "- Menemukan Missing Value dan Melengkapi dengan mean pada kolom item_price"
   ]
  },
  {
   "cell_type": "code",
   "execution_count": 3,
   "metadata": {},
   "outputs": [
    {
     "name": "stdout",
     "output_type": "stream",
     "text": [
      "0       7.400000e+05\n",
      "1       6.040000e+05\n",
      "2       1.045000e+06\n",
      "3       2.050000e+05\n",
      "4       9.337427e+05\n",
      "            ...     \n",
      "4995    4.500000e+05\n",
      "4996    1.465000e+06\n",
      "4997    7.470000e+05\n",
      "4998    6.950000e+05\n",
      "4999    1.045000e+06\n",
      "Name: item_price, Length: 5000, dtype: float64\n"
     ]
    }
   ],
   "source": [
    "import pandas as pd\n",
    "import numpy as np\n",
    "import io\n",
    "import pandas_profiling\n",
    "retail_raw = pd.read_csv('https://storage.googleapis.com/dqlab-dataset/retail_raw_reduced_data_quality.csv')\n",
    "\n",
    "print(retail_raw['item_price'].fillna(retail_raw['item_price'].mean()))"
   ]
  },
  {
   "cell_type": "markdown",
   "metadata": {},
   "source": [
    "## Outliers"
   ]
  },
  {
   "cell_type": "markdown",
   "metadata": {},
   "source": [
    "Outliers merupakan data observasi yang muncul dengan nilai-nilai ekstrim. Yang dimaksud dengan nilai-nilai ekstrim dalam observasi adalah nilai yang jauh atau beda sama sekali dengan sebagian besar nilai lain dalam kelompoknya."
   ]
  },
  {
   "cell_type": "markdown",
   "metadata": {},
   "source": [
    "1. Pengecekan Outlier dengan boxplot\n",
    "2. Pengecekan Outlier dengan IQR\n",
    "3. Treatment terhadap outliers antara lain:\n",
    "    - Remove the outliers (dibuang)\n",
    "    - Filling the missing value (imputasi)\n",
    "    - Capping\n",
    "    - Prediction"
   ]
  },
  {
   "cell_type": "markdown",
   "metadata": {},
   "source": [
    "## Box Plot"
   ]
  },
  {
   "cell_type": "markdown",
   "metadata": {},
   "source": [
    "penjelasan Boxplot ini merupakan materi baru dari medium, bukan termasuk di DQ_lab Course:\n",
    "- vert mengatur orientasi plot menjadi horizontal saat False. Orientasi default adalah vertikal.\n",
    "- showmeans menunjukkan mean ketikaTrue.\n",
    "- meanline merepresentasikan mean pada baris ketikaTrue.\n",
    "- labels: label data Anda.\n",
    "- patch_artist menentukan cara menggambar grafik.\n",
    "- medianprops menunjukkan sifat-sifat garis yang mewakili median.\n",
    "- meanprops menunjukkan sifat-sifat garis yang mewakili mean."
   ]
  },
  {
   "cell_type": "code",
   "execution_count": 41,
   "metadata": {},
   "outputs": [
    {
     "data": {
      "image/png": "[encoded data removed]",
      "text/plain": [
       "<Figure size 432x288 with 1 Axes>"
      ]
     },
     "metadata": {},
     "output_type": "display_data"
    }
   ],
   "source": [
    "import numpy as np\n",
    "import scipy.stats\n",
    "import pandas as pd\n",
    "import matplotlib.pyplot as plt\n",
    "plt.style.use('ggplot')\n",
    "\n",
    "# Dataset contoh\n",
    "Akomodasi = (20, 116, 61, 58, 64,9 )\n",
    "Kamar = (1503, 10732, 3653, 5206, 2187, 4781, 523)\n",
    "Bed = (92579, 16418, 6015, 7832, 2885, 6800, 786)\n",
    "\n",
    "# Cek Outlier dengan boxplot\n",
    "fig, ax = plt.subplots()\n",
    "ax.boxplot((Akomodasi, Kamar, Bed), vert=False, showmeans=True, meanline=True,\n",
    "           labels=('Akomodasi', 'Kamar', 'Bed'), patch_artist=True,\n",
    "           medianprops={'linewidth': 2, 'color': 'blue'},\n",
    "           meanprops={'linewidth': 2, 'color': 'red'})\n",
    "plt.show()"
   ]
  },
  {
   "cell_type": "markdown",
   "metadata": {},
   "source": [
    "Arti Grafik Boxplot:\n",
    "- Mean adalah yang garis berwarna merah\n",
    "- Median adalah garis yang berwarna Biru Tua.\n",
    "- Quartil 1 adalah tepi kiri dari persegi panjang biru\n",
    "- Quartil 3 adalah tepi kanan persegi panjang biru.\n",
    "- Interquartile adalah panjang dari persegi panjang biru\n",
    "- Range adalah yang memuat semua dari kiri ke kanan.\n",
    "- Outliers titik yang berada paling kanan, di luar range"
   ]
  },
  {
   "cell_type": "code",
   "execution_count": 42,
   "metadata": {},
   "outputs": [
    {
     "name": "stdout",
     "output_type": "stream",
     "text": [
      "Shape awal:  (5000, 9)\n",
      "Shape akhir:  (4699, 9)\n"
     ]
    }
   ],
   "source": [
    "# Langkah Pengecekan Outlier kolom quantity - Metode IQR\n",
    "# Treatment : Remove the outliers\n",
    "import pandas as pd\n",
    "import numpy as np\n",
    "import io\n",
    "import pandas_profiling\n",
    "retail_raw = pd.read_csv('https://storage.googleapis.com/dqlab-dataset/retail_raw_reduced_data_quality.csv')\n",
    "\n",
    "# Q1, Q3, dan IQR\n",
    "Q1 = retail_raw['quantity'].quantile(0.25)\n",
    "Q3 = retail_raw['quantity'].quantile(0.75)\n",
    "IQR = Q3 - Q1\n",
    "\n",
    "# Check ukuran (baris dan kolom) sebelum data yang outliers dibuang\n",
    "print('Shape awal: ', retail_raw.shape)\n",
    "\n",
    "# Removing outliers\n",
    "retail_raw = retail_raw[~((retail_raw['quantity'] < (Q1 - 1.5 * IQR)) | (retail_raw['quantity'] > (Q3 + 1.5 * IQR)))]\n",
    "\n",
    "# Check ukuran (baris dan kolom) setelah data yang outliers dibuang\n",
    "print('Shape akhir: ', retail_raw.shape)"
   ]
  },
  {
   "cell_type": "markdown",
   "metadata": {},
   "source": [
    "Tugas Praktek\n",
    "- Pengecekan dan Removing outliers dari kolom item_price"
   ]
  },
  {
   "cell_type": "code",
   "execution_count": 43,
   "metadata": {},
   "outputs": [
    {
     "name": "stdout",
     "output_type": "stream",
     "text": [
      "Shape awal:  (5000, 9)\n",
      "Shape akhir:  (4541, 9)\n"
     ]
    }
   ],
   "source": [
    "import pandas as pd\n",
    "import numpy as np\n",
    "import io\n",
    "import pandas_profiling\n",
    "retail_raw = pd.read_csv('https://storage.googleapis.com/dqlab-dataset/retail_raw_reduced_data_quality.csv')\n",
    "\n",
    "# Q1, Q3, dan IQR\n",
    "Q1 = retail_raw['item_price'].quantile(0.25)\n",
    "Q3 = retail_raw['item_price'].quantile(0.75)\n",
    "IQR = Q3 - Q1\n",
    "\n",
    "# Check ukuran (baris dan kolom) sebelum data yang outliers dibuang\n",
    "print('Shape awal: ', retail_raw.shape)\n",
    "\n",
    "# Removing outliers\n",
    "retail_raw = retail_raw[~((retail_raw['item_price'] < (Q1 - 1.5 * IQR)) | (retail_raw['item_price'] > (Q3 + 1.5 * IQR)))]\n",
    "\n",
    "# Check ukuran (baris dan kolom) setelah data yang outliers dibuang\n",
    "print('Shape akhir: ', retail_raw.shape)"
   ]
  },
  {
   "cell_type": "markdown",
   "metadata": {},
   "source": [
    "## Deduplikasi Data"
   ]
  },
  {
   "cell_type": "markdown",
   "metadata": {},
   "source": [
    "Duplikasi data merupakan data dengan kondisi pada row-row tertentu memiliki kesamaan data di seluruh kolomnya. Tentunya ada data yang duplikat dalam dataset yang dimiliki. Kondisi duplikasi harus diatasi dengan jalan mengeliminir baris yang mengalami duplikasi, sehingga proses ini dikenal dengan deduplikasi."
   ]
  },
  {
   "cell_type": "code",
   "execution_count": 44,
   "metadata": {},
   "outputs": [
    {
     "name": "stdout",
     "output_type": "stream",
     "text": [
      "0       False\n",
      "1       False\n",
      "2       False\n",
      "3       False\n",
      "4       False\n",
      "        ...  \n",
      "4995    False\n",
      "4996    False\n",
      "4997    False\n",
      "4998    False\n",
      "4999    False\n",
      "Length: 5000, dtype: bool\n"
     ]
    }
   ],
   "source": [
    "# Check Duplikasi Data\n",
    "import pandas as pd\n",
    "import numpy as np\n",
    "import io\n",
    "import pandas_profiling\n",
    "retail_raw = pd.read_csv('https://storage.googleapis.com/dqlab-dataset/retail_raw_reduced_data_quality.csv')\n",
    "\n",
    "# Check Duplikasi Data\n",
    "print(retail_raw.duplicated(subset=None))"
   ]
  },
  {
   "cell_type": "markdown",
   "metadata": {},
   "source": [
    "Tugas Praktek\n",
    "- Membuang duplikasi data dari dataset retail_raw"
   ]
  },
  {
   "cell_type": "code",
   "execution_count": 45,
   "metadata": {},
   "outputs": [
    {
     "name": "stdout",
     "output_type": "stream",
     "text": [
      "Shape awal:  (5000, 9)\n",
      "Shape akhir:  (4993, 9)\n"
     ]
    }
   ],
   "source": [
    "import pandas as pd\n",
    "import numpy as np\n",
    "import io\n",
    "import pandas_profiling\n",
    "retail_raw = pd.read_csv('https://storage.googleapis.com/dqlab-dataset/retail_raw_reduced_data_quality.csv')\n",
    "\n",
    "# Check ukuran (baris dan kolom) sebelum data duplikasi dibuang\n",
    "print('Shape awal: ', retail_raw.shape)\n",
    "\n",
    "# Buang data yang terduplikasi\n",
    "retail_raw.drop_duplicates(inplace=True)\n",
    "\n",
    "# Check ukuran (baris dan kolom) setelah data duplikasi dibuang\n",
    "print('Shape akhir: ', retail_raw.shape)"
   ]
  }
 ],
 "metadata": {
  "kernelspec": {
   "display_name": "Python 3.9.12 ('base')",
   "language": "python",
   "name": "python3"
  },
  "language_info": {
   "codemirror_mode": {
    "name": "ipython",
    "version": 3
   },
   "file_extension": ".py",
   "mimetype": "text/x-python",
   "name": "python",
   "nbconvert_exporter": "python",
   "pygments_lexer": "ipython3",
   "version": "3.9.12"
  },
  "orig_nbformat": 4,
  "vscode": {
   "interpreter": {
    "hash": "5dfae695991f40f7f711b859ebe4404a578ce2940a1c2f7058c1cb98bd497b2c"
   }
  }
 },
 "nbformat": 4,
 "nbformat_minor": 2
}
