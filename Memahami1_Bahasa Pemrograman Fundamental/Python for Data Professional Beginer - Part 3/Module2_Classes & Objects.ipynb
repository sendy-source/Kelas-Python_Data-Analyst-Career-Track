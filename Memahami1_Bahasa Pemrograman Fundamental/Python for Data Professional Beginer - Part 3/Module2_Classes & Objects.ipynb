{
 "cells": [
  {
   "attachments": {},
   "cell_type": "markdown",
   "metadata": {},
   "source": [
    "**START**"
   ]
  },
  {
   "attachments": {},
   "cell_type": "markdown",
   "metadata": {},
   "source": [
    "**Module Classes & Objects**"
   ]
  },
  {
   "attachments": {},
   "cell_type": "markdown",
   "metadata": {},
   "source": [
    "**Class dan Objek dalam Python - Part 1**\n",
    "\n",
    "*Setiap objek yang aku representasikan dalam program berbasis OOP merupakan instansi/ bentuk nyata dari sebuah konsep yang disebut dengan class. Oleh karena itu, class dapat juga aku sebutkan sebagai kerangka utama (blueprint) dari objek. Untuk mempermudah pemahaman konsep OO, aku menggunakan contoh berikut:*\n",
    "\n",
    "*Asumsikan aku ingin merepresentasikan Diriku dan Senja sebagai karyawan di suatu perusahaan X. Untuk merepresentasikan Diriku dan Senja, aku dapat membuat sebuah class yang nantinya akan mencakup properti-properti yang umumnya dimiliki oleh sebuah karyawan.*"
   ]
  },
  {
   "attachments": {},
   "cell_type": "markdown",
   "metadata": {},
   "source": [
    "*Pada bahasa Python aku dapat membuat sebuah class dengan menggunakan syntax berikut.*"
   ]
  },
  {
   "cell_type": "code",
   "execution_count": 1,
   "metadata": {},
   "outputs": [],
   "source": [
    "class Karyawan:\n",
    "    pass"
   ]
  },
  {
   "attachments": {},
   "cell_type": "markdown",
   "metadata": {},
   "source": [
    "*Kemudian, dari class yang telah aku definisikan, aku dapat menciptakan objek (Diriku dan Senja) dari sebuah class dengan menggunakan syntax berikut.*"
   ]
  },
  {
   "cell_type": "code",
   "execution_count": 2,
   "metadata": {},
   "outputs": [],
   "source": [
    "aksara = Karyawan()\n",
    "senja = Karyawan()"
   ]
  },
  {
   "attachments": {},
   "cell_type": "markdown",
   "metadata": {},
   "source": [
    "*Pada contoh di atas, Aku dan senja merupakan realisasi (objek) dari class Karyawan yang sebelumnya telah aku buat. Dari potongan kode ini, **aksara dan senja** adalah dua objek yang berbeda.*"
   ]
  },
  {
   "attachments": {},
   "cell_type": "markdown",
   "metadata": {},
   "source": [
    "**Class dan Objek dalam Python - Part 2**\n",
    "\n",
    "*Pada bagian pertama, aku telah berhasil membuat sebuah class dan objek-objek sebagai bentuk realisasi dari sebuah class. Akan tetapi, class yang telah aku definisikan belum memiliki atribut ataupun fungsi-fungsi yang dapat merepresentasikan objek Karyawan dengan baik.*\n",
    "\n",
    "*Agar dapat membuat class Karyawan dengan baik, pertama, aku akan mempelajari cara merepresentasikan atribut/properti dalam sebuah class.  Dalam sebuah class, aku dapat mendefinisikan dua jenis atribut yaitu.*\n",
    "\n",
    "1. ***Class Attribute** adalah properti/atribut yang bernilai sama untuk oleh seluruh objek*\n",
    "2. ***Instance Attribute** adalah properti/atribut yang nilainya berbeda-beda untuk setiap objek dari sebuah class.*"
   ]
  },
  {
   "attachments": {},
   "cell_type": "markdown",
   "metadata": {},
   "source": [
    "**Class dan Objek dalam Python - Part 3**\n",
    "\n",
    "*Berkaitan dengan kedua jenis atribut yang telah aku pelajari, aku menggunakan contoh berikut untuk memperkuat pemahamanku terkait dengan konsep **class attribute.***\n",
    "\n",
    "*saat aku mengubah nilai atribut yang merupakan sebuah class attribute, **nilai dari atribut akan berubah untuk seluruh objek.***"
   ]
  },
  {
   "attachments": {},
   "cell_type": "markdown",
   "metadata": {},
   "source": [
    "**Tugas:**\n",
    "\n",
    "*Aku di minta untuk mengerjakan tutorial sederhana untuk membantu memahami konsep OOP - **class atribut:***\n",
    "\n",
    "1. *Definisikan Class Karyawan*\n",
    "2. *Inisiasi object yang dinyatakan dalam variabel Aksara dan Senja*\n",
    "3. *Cetak Nama Perusahaan melalui penggunaan keyword __class__*\n",
    "4. *Ubah Nama Perusahaan menjadi 'DEF'*"
   ]
  },
  {
   "cell_type": "code",
   "execution_count": 4,
   "metadata": {},
   "outputs": [
    {
     "name": "stdout",
     "output_type": "stream",
     "text": [
      "ABC\n",
      "DEF\n",
      "DEF\n"
     ]
    }
   ],
   "source": [
    "# Definisikan class Karyawan\n",
    "class Karyawan:\n",
    "    nama_perusahaan = 'ABC'\n",
    "# Inisiasi object yang dinyatakan dalam variabel aksara dan senja\n",
    "aksara = Karyawan()\n",
    "senja = Karyawan()\n",
    "# Cetak nama perusahaan melalui penggunaan keyword __class__\n",
    "# pada class attribute nama_perusahaan\n",
    "print(aksara.__class__.nama_perusahaan)\n",
    "\n",
    "# Ubah nama_perusahaan menjadi 'DEF'\n",
    "aksara.__class__.nama_perusahaan = 'DEF'\n",
    "# Cetak nama_perusahaan objek aksara dan senja\n",
    "print(aksara.__class__.nama_perusahaan)\n",
    "print(senja.__class__.nama_perusahaan)"
   ]
  },
  {
   "attachments": {},
   "cell_type": "markdown",
   "metadata": {},
   "source": [
    "**Class dan Objek dalam Python - Part 4**\n",
    "\n",
    "*Pada bagian sebelumnya aku telah mempelajari contoh deklarasi class Karyawan; nama, usia dan pendapatan karyawan adalah contoh dari **konsep instance attribute.** Hal ini dikarenakan setiap **karyawan tentunya dapat memiliki nama, usia dan pendapatan yang berbeda.***"
   ]
  },
  {
   "attachments": {},
   "cell_type": "markdown",
   "metadata": {},
   "source": [
    "**Tugas:** \n",
    "\n",
    "*Untuk merepresentasikan instance attribute milik Aksara dan Senja*"
   ]
  },
  {
   "cell_type": "code",
   "execution_count": 5,
   "metadata": {},
   "outputs": [
    {
     "name": "stdout",
     "output_type": "stream",
     "text": [
      "Aksara, Usia: 25, Pendapatan 8500000\n",
      "Senja, Usia: 28, Pendapatan 12500000\n"
     ]
    }
   ],
   "source": [
    "# Definisikan class Karyawan\n",
    "class Karyawan:\n",
    "    nama_perusahaan = 'ABC'\n",
    "    def __init__(self, nama, usia, pendapatan):\n",
    "        self.nama = nama\n",
    "        self.usia = usia\n",
    "        self.pendapatan = pendapatan\n",
    "\n",
    "# Buat object bernama aksara dan senja\n",
    "aksara = Karyawan('Aksara', 25, 8500000)\n",
    "senja = Karyawan('Senja', 28, 12500000)\n",
    "\n",
    "# Cetak objek bernama aksara\n",
    "print(aksara.nama + ', Usia: ' + str(aksara.usia) + ', Pendapatan ' + str(aksara.pendapatan))\n",
    "# Cetak objek bernama senja\n",
    "print(senja.nama + ', Usia: ' + str(senja.usia) + ', Pendapatan ' + str(senja.pendapatan))"
   ]
  },
  {
   "attachments": {},
   "cell_type": "markdown",
   "metadata": {},
   "source": [
    "\n",
    "**Penjelasan:**\n",
    "\n",
    "*Dari potongan kode di atas, atribut nama, usia dan pendapatan merupakan contoh dari instance variabel. Sebagai tambahan, fungsi **__init__()** di dalam class Karyawan secara khusus disebut sebagai constructor. Melalui sebuah constructor, aku dapat meng-assign (menginisialisasi) atribut-atribut milik sebuah objek.*\n",
    "\n",
    "*Pada bahasa pemrograman Python, setiap fungsi (termasuk constructor) akan menerima dirinya sendiri (self) sebagai parameter pertama dari fungsi. Kemudian, aku dapat menambahkan parameter-parameter lain setelah parameter self sesuai dengan kebutuhan. Seperti pada contoh di atas, saat objek dibuat (diinisialisasi), aku dapat melemparkan nama, usia dan pendapatan melalui syntax :*\n",
    "\n",
    "*aksara = Karyawan('Aksara', 25, 8500000)*\n",
    "\n",
    "*Terakhir, aku belajar bahwa objek aksara dan senja diizinkan untuk memiliki nama, usia dan pendapatan yang berbeda. Untuk mengakses instance attribute dalam sebuah class, aku perlu menuliskan sintaks self diikuti dengan tanda titik (.) sebelum nama atribut.*"
   ]
  },
  {
   "attachments": {},
   "cell_type": "markdown",
   "metadata": {},
   "source": [
    "**Quiz 1 - Class and Objects**"
   ]
  },
  {
   "cell_type": "code",
   "execution_count": 6,
   "metadata": {},
   "outputs": [
    {
     "name": "stdout",
     "output_type": "stream",
     "text": [
      "17000000\n"
     ]
    }
   ],
   "source": [
    "class Karyawan: \n",
    "    nama_perusahaan = 'ABC'\n",
    "    def __init__(self, nama, usia, pendapatan):\n",
    "        self.nama = nama\n",
    "        self.usia = usia\n",
    "        self.pendapatan = pendapatan\n",
    "        if usia > 30:\n",
    "            self.pendapatan += 1500000\n",
    "\n",
    "karyawan_1 = Karyawan('Budi', 35, 7500000)\n",
    "karyawan_2 = Karyawan('Didi', 30, 8000000)\n",
    "\n",
    "total_pengeluaran = karyawan_1.pendapatan + karyawan_2.pendapatan \n",
    "print(total_pengeluaran)"
   ]
  },
  {
   "attachments": {},
   "cell_type": "markdown",
   "metadata": {},
   "source": [
    "**Quiz 2 - Class and Objects**"
   ]
  },
  {
   "cell_type": "code",
   "execution_count": 7,
   "metadata": {},
   "outputs": [
    {
     "name": "stdout",
     "output_type": "stream",
     "text": [
      "11000000\n"
     ]
    }
   ],
   "source": [
    "class Karyawan:\n",
    "    nama_perusahaan = 'ABC'\n",
    "    tunjangan_transportasi = 500000\n",
    "    def __init__(self, nama, usia, pendapatan):\n",
    "        self.nama = nama\n",
    "        self.usia = usia\n",
    "        self.pendapatan = pendapatan\n",
    "\n",
    "karyawan_1 = Karyawan('Budi', 35, 5000000)\n",
    "karyawan_2 = Karyawan('Didi', 30, 5000000)\n",
    "karyawan_1.__class__.nama_perusahaan = 1000000\n",
    "\n",
    "total_pengeluaran = karyawan_1.__class__.tunjangan_transportasi\n",
    "total_pengeluaran += karyawan_2. __class__.tunjangan_transportasi\n",
    "total_pengeluaran += karyawan_1.pendapatan\n",
    "total_pengeluaran += karyawan_2.pendapatan\n",
    "print(total_pengeluaran)"
   ]
  },
  {
   "attachments": {},
   "cell_type": "markdown",
   "metadata": {},
   "source": [
    "**Behavior pada Class**\n",
    "\n",
    "*Selain dapat mendefinisikan atribut, dalam sebuah class, aku diperbolehkan untuk mendefinisikan **fungsi-fungsi (behavior)** dari sebuah class.*\n",
    "\n",
    "*Dari potongan kode yang telah aku gunakan, aku dapat menambahkan fungsi-fungsi berkaitan dengan class Karyawan. Sebagai contoh, **seorang karyawan tentunya mungkin saja memiliki pendapatan tambahan berdasarkan banyaknya kerja lembur dan jumlah proyek yang telah diselesaikan.***"
   ]
  },
  {
   "attachments": {},
   "cell_type": "markdown",
   "metadata": {},
   "source": [
    "**Tugas:**\n",
    "\n",
    "*Untuk menghitung pendapatan tambahan dari jumlah kerja lembur  dan jumlah proyek yang diselesaikan oleh seorang karyawan dan mengakses pendapatan total dari seorang karyawan*\n",
    "\n",
    "1. *Menambahkan pendapatan lembur diriku, aku dapat menggunakan fungsi lembur() pada objek aksara.*\n",
    "2. *Menambahkan pendapatan tambahan proyek pada senja, aku dapat mengakses fungsi tambahan_proyek() pada objek senja*\n",
    "3. *Selanjutnya, aku dapat menghitung total pendapatanku dan Senja*\n",
    "\n",
    "*Layaknya proses pendefinisian fungsi pada Python, fungsi-fungsi dalam sebuah class juga **dapat memiliki parameter** (seperti fungsi tambahan_proyek dalam contoh) ataupun **mengembalikan sebuah nilai** (seperti fungsi total_pendapatan dalam contoh).*"
   ]
  },
  {
   "cell_type": "code",
   "execution_count": 8,
   "metadata": {},
   "outputs": [
    {
     "name": "stdout",
     "output_type": "stream",
     "text": [
      "Pendapatan Total Aksara: 8750000\n",
      "Pendapatan Total Senja: 15000000\n"
     ]
    }
   ],
   "source": [
    "# Definisikan class Karyawan berikut dengan attribut dan fungsinya\n",
    "class Karyawan:\n",
    "    nama_perusahaan = 'ABC'\n",
    "    insentif_lembur = 250000\n",
    "    def __init__(self, nama, usia, pendapatan):\n",
    "        self.nama = nama\n",
    "        self.usia = usia\n",
    "        self.pendapatan = pendapatan\n",
    "        self.pendapatan_tambahan = 0\n",
    "    def lembur(self):\n",
    "        self.pendapatan_tambahan += self.insentif_lembur\n",
    "    def tambahan_proyek(self, insentif_proyek):\n",
    "    \tself.pendapatan_tambahan += insentif_proyek\n",
    "    def total_pendapatan(self):\n",
    "    \treturn self.pendapatan + self.pendapatan_tambahan\n",
    "\n",
    "# Buat object dari karwayan bernama Aksara dan Senja\n",
    "aksara = Karyawan('Aksara', 25, 8500000)\n",
    "senja = Karyawan('Senja', 28, 12500000)\n",
    "\n",
    "# Aksara melaksanakan lembur\n",
    "aksara.lembur()\n",
    "# Senja memiliki proyek tambahan\n",
    "senja.tambahan_proyek(2500000)\n",
    "\n",
    "# Cetak pendapatan total Aksara dan Senja\n",
    "print('Pendapatan Total Aksara: ' + str(aksara.total_pendapatan()))\n",
    "print('Pendapatan Total Senja: ' +str(senja.total_pendapatan()))"
   ]
  },
  {
   "attachments": {},
   "cell_type": "markdown",
   "metadata": {},
   "source": [
    "**Tugas Praktek 1**\n",
    "\n",
    "*Seperti biasa, aku selalu pusing setiap usai membaca teori data. “Gimana, Aksara?” tanya Senja tanpa memalingkan perhatian dari laptop.*\n",
    "\n",
    "*“Kayaknya butuh praktik deh,” sahutku.*\n",
    "\n",
    "*“Oke, ini coba kamu bikin **sistem manajemen perusahaan sederhana pakai Object Oriented (OO)** ya. Artinya dalam program ini kamu harus **mampu memuat informasi nama, alamat, nomor telepon, dan daftar karyawan yang bekerja**. Satu lagi, jangan lupa masukkan **fungsi untuk mengaktifkan dan menonaktifkan karyawan.**”*\n",
    "\n",
    "*“Siap. Ini aku masukkan informasi class karyawan juga kali yah?” tanyaku sembari bersiap-siap memasukkan kode dan mendaftar informasi karyawan secara lebih rapi, mulai dari **nama, usia, pendapatan tetap, tambahan, dan insentif lembur.***\n",
    "\n",
    "*“Bagus juga itu. Bikin saja pendapatan mula-mula karyawannya bernilai 0, lalu bisa bertambah oleh fungsi lembur dan fungsi tambahan proyek sebagai parameter dan variabel pendapatan tambahan karyawan.”*\n",
    "\n",
    "*Aku mengangguk dan siap bertempur. Terakhir aku menyelipkan **fungsi untuk menghitung total pendapatan.** Ini paling penting, hehehe.*"
   ]
  },
  {
   "cell_type": "code",
   "execution_count": 9,
   "metadata": {},
   "outputs": [],
   "source": [
    "# Definisikan class Karyawan\n",
    "class Karyawan:\n",
    "    def __init__(self, nama, usia, pendapatan, insentif_lembur): \n",
    "        self.nama = nama\n",
    "        self.usia = usia\n",
    "        self.pendapatan = pendapatan \n",
    "        self.pendapatan_tambahan = 0\n",
    "        self.insentif_lembur = insentif_lembur \n",
    "        \n",
    "    def lembur(self):\n",
    "        self.pendapatan_tambahan += self.insentif_lembur \n",
    "    def tambahan_proyek(self, jumlah_tambahan):\n",
    "        self.pendapatan_tambahan += jumlah_tambahan \n",
    "    def total_pendapatan(self):\n",
    "        return self.pendapatan + self.pendapatan_tambahan\n",
    "\n",
    "# Definisikan class Perusahaan\n",
    "class Perusahaan:\n",
    "    def __init__(self, nama, alamat, nomor_telepon): \n",
    "        self.nama = nama\n",
    "        self.alamat = alamat \n",
    "        self.nomor_telepon = nomor_telepon\n",
    "        self.list_karyawan = []\n",
    "\n",
    "    def aktifkan_karyawan(self, karyawan): \n",
    "        self.list_karyawan.append(karyawan)\n",
    "    def nonaktifkan_karyawan(self, nama_karyawan): \n",
    "        karyawan_nonaktif = None\n",
    "        for karyawan in self.list_karyawan:\n",
    "            if karyawan.nama == nama_karyawan: \n",
    "                karyawan_nonaktif = karyawan \n",
    "                break\n",
    "        if karyawan_nonaktif is not None: \n",
    "            self.list_karyawan.remove(karyawan_nonaktif)"
   ]
  },
  {
   "attachments": {},
   "cell_type": "markdown",
   "metadata": {},
   "source": [
    "**Tugas Praktek 2**\n",
    "\n",
    "*Sekitar satu jam lebih berkutat depan laptop, kode aku kelar juga! Tapi, sebelum kutunjukkan pada Senja, lebih baik aku coba simulasikan dulu. Kuambil post-it kuning di ujung meja dan kugambar tabel berisi daftar perusahaan dan karyawan sebagai contoh, lengkap dengan pendapatan tetap dan tambahan yang diterima.*"
   ]
  },
  {
   "cell_type": "code",
   "execution_count": 10,
   "metadata": {},
   "outputs": [
    {
     "data": {
      "text/html": [
       "<div>\n",
       "<style scoped>\n",
       "    .dataframe tbody tr th:only-of-type {\n",
       "        vertical-align: middle;\n",
       "    }\n",
       "\n",
       "    .dataframe tbody tr th {\n",
       "        vertical-align: top;\n",
       "    }\n",
       "\n",
       "    .dataframe thead th {\n",
       "        text-align: right;\n",
       "    }\n",
       "</style>\n",
       "<table border=\"1\" class=\"dataframe\">\n",
       "  <thead>\n",
       "    <tr style=\"text-align: right;\">\n",
       "      <th></th>\n",
       "      <th>Nama pekerja</th>\n",
       "      <th>Usia</th>\n",
       "      <th>Pendapatan</th>\n",
       "      <th>Insentif lembur</th>\n",
       "    </tr>\n",
       "  </thead>\n",
       "  <tbody>\n",
       "    <tr>\n",
       "      <th>0</th>\n",
       "      <td>Ani</td>\n",
       "      <td>25</td>\n",
       "      <td>8500000</td>\n",
       "      <td>100000</td>\n",
       "    </tr>\n",
       "    <tr>\n",
       "      <th>1</th>\n",
       "      <td>Budi</td>\n",
       "      <td>28</td>\n",
       "      <td>12000000</td>\n",
       "      <td>150000</td>\n",
       "    </tr>\n",
       "    <tr>\n",
       "      <th>2</th>\n",
       "      <td>Cici</td>\n",
       "      <td>30</td>\n",
       "      <td>15000000</td>\n",
       "      <td>200000</td>\n",
       "    </tr>\n",
       "  </tbody>\n",
       "</table>\n",
       "</div>"
      ],
      "text/plain": [
       "  Nama pekerja Usia Pendapatan Insentif lembur\n",
       "0          Ani   25    8500000          100000\n",
       "1         Budi   28   12000000          150000\n",
       "2         Cici   30   15000000          200000"
      ]
     },
     "execution_count": 10,
     "metadata": {},
     "output_type": "execute_result"
    }
   ],
   "source": [
    "import pandas as pd\n",
    "\n",
    "data = [{'Nama pekerja' : 'Ani', 'Usia' : '25', 'Pendapatan' : '8500000', 'Insentif lembur' : '100000'},\n",
    "{'Nama pekerja' : 'Budi', 'Usia' : '28', 'Pendapatan' : '12000000', 'Insentif lembur' : '150000'},\n",
    "{'Nama pekerja' : 'Cici', 'Usia' : '30', 'Pendapatan' : '15000000', 'Insentif lembur' : '200000'}\n",
    "]\n",
    "\n",
    "df = pd.DataFrame(data)\n",
    "\n",
    "df.head()"
   ]
  },
  {
   "attachments": {},
   "cell_type": "markdown",
   "metadata": {},
   "source": [
    "*Kalau sudah seperti ini, tinggal dimasukkan saja ke variabel list_karyawan, lalu operasikan. “Programnya berhasil!” batinku.*"
   ]
  },
  {
   "cell_type": "code",
   "execution_count": 16,
   "metadata": {},
   "outputs": [],
   "source": [
    "# Definisikan class Karyawan\n",
    "class Karyawan:\n",
    "    def __init__(self, nama, usia, pendapatan, insentif_lembur): \n",
    "        self.nama = nama\n",
    "        self.usia = usia\n",
    "        self.pendapatan = pendapatan \n",
    "        self.pendapatan_tambahan = 0\n",
    "        self.insentif_lembur = insentif_lembur \n",
    "        \n",
    "    def lembur(self):\n",
    "        self.pendapatan_tambahan += self.insentif_lembur \n",
    "    def tambahan_proyek(self, jumlah_tambahan):\n",
    "        self.pendapatan_tambahan += jumlah_tambahan \n",
    "    def total_pendapatan(self):\n",
    "        return self.pendapatan + self.pendapatan_tambahan\n",
    "\n",
    "# Definisikan class Perusahaan\n",
    "class Perusahaan:\n",
    "    def __init__(self, nama, alamat, nomor_telepon): \n",
    "        self.nama = nama\n",
    "        self.alamat = alamat \n",
    "        self.nomor_telepon = nomor_telepon\n",
    "        self.list_karyawan = []\n",
    "\n",
    "    def aktifkan_karyawan(self, karyawan): \n",
    "        self.list_karyawan.append(karyawan)\n",
    "    def nonaktifkan_karyawan(self, nama_karyawan): \n",
    "        karyawan_nonaktif = None\n",
    "        for karyawan in self.list_karyawan:\n",
    "            if karyawan.nama == nama_karyawan: \n",
    "                karyawan_nonaktif = karyawan \n",
    "                break\n",
    "        if karyawan_nonaktif is not None: \n",
    "            self.list_karyawan.remove(karyawan_nonaktif)\n",
    "\n",
    "# Definisikan Perusahaan\n",
    "perusahaan = Perusahaan('ABC', 'Jl. Jendral Sudirman, Blok 11', '(021) 95295XX')\n",
    "\n",
    "# Definisikan nama nama karyawan\n",
    "karyawan_1 = Karyawan('Ani', 25, 8500000, 100000)\n",
    "karyawan_2 = Karyawan('Budi', 28, 12000000, 150000)\n",
    "karyawan_3 = Karyawan('Cici', 30, 15000000, 200000)\n",
    "\n",
    "# Aktifkan karyawan di perusahaan ABC\n",
    "perusahaan.aktifkan_karyawan(karyawan_1) \n",
    "perusahaan.aktifkan_karyawan(karyawan_2) \n",
    "perusahaan.aktifkan_karyawan(karyawan_3)"
   ]
  }
 ],
 "metadata": {
  "kernelspec": {
   "display_name": "base",
   "language": "python",
   "name": "python3"
  },
  "language_info": {
   "codemirror_mode": {
    "name": "ipython",
    "version": 3
   },
   "file_extension": ".py",
   "mimetype": "text/x-python",
   "name": "python",
   "nbconvert_exporter": "python",
   "pygments_lexer": "ipython3",
   "version": "3.9.12 (main, Apr  4 2022, 05:22:27) [MSC v.1916 64 bit (AMD64)]"
  },
  "orig_nbformat": 4,
  "vscode": {
   "interpreter": {
    "hash": "5dfae695991f40f7f711b859ebe4404a578ce2940a1c2f7058c1cb98bd497b2c"
   }
  }
 },
 "nbformat": 4,
 "nbformat_minor": 2
}
