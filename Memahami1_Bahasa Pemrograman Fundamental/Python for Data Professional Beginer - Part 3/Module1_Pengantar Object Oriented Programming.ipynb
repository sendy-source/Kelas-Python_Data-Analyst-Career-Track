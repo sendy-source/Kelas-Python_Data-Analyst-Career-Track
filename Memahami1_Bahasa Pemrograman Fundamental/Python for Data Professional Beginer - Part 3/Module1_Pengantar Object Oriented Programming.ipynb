{
 "cells": [
  {
   "attachments": {},
   "cell_type": "markdown",
   "metadata": {},
   "source": [
    "**About This Course:**\n",
    "\n",
    "*Memperkenalkan konsep dasar bahasa pemrograman Python sebagai bahasa pemrograman berorientasi objek, dikenal dengan Object Oriented Programming (OOP). Module ini akan menjelaskan syntax dan teknik penulisan kode program menggunakan OOP Python, skill yang wajib dimiliki seorang praktisi data.*"
   ]
  },
  {
   "attachments": {},
   "cell_type": "markdown",
   "metadata": {},
   "source": [
    "**Module Content :**\n",
    "1. *Pengantar Object Oriented Programming*\n",
    "2. *Classes & Objects*\n",
    "3. *Encapsulation & Inheritance*\n",
    "4. *Polymorphism & Overloading*\n",
    "5. *Mini Quiz*"
   ]
  },
  {
   "attachments": {},
   "cell_type": "markdown",
   "metadata": {},
   "source": [
    "**START**"
   ]
  },
  {
   "attachments": {},
   "cell_type": "markdown",
   "metadata": {},
   "source": [
    "**Pengantar Object Oriented Programming**\n",
    "\n",
    "*Kuintip judul pertama pembelajaran modul ketiga berisi **“Pengantar Object Oriented Programming”, “Classes & Objects”, “Encapsulation”, hingga “Polymorphism”.** Waduh! Nama makhluk apa semua itu?*"
   ]
  },
  {
   "attachments": {},
   "cell_type": "markdown",
   "metadata": {},
   "source": [
    "**Apa itu Object Oriented Programming?**\n",
    "\n",
    "*Pemrograman Berbasis **Objek (Object Oriented Programming - OOP)** merupakan salah satu **paradigma pemrograman** yang cukup populer di antara paradigma-paradigma lainnya.*\n",
    "\n",
    "\n",
    "*Pada paradigma OOP, struktur dari sebuah program dikemas ke dalam sebuah objek yang memiliki serangkaian **properti (properties)** dan **fungsi (behaviours)**. Sebagai contoh, aku dapat merepresentasikan seorang karyawan ke dalam sebuah program melalui konsep OOP.*\n",
    "\n",
    "\n",
    "*Seorang karyawan dapat memiliki serangkaian properti seperti nama, usia, keahlian, dll. Kemudian, seorang karyawan juga dapat memiliki fungsi-fungsi seperti hadir ke kantor, absen, lembur, tugas dinas, dll.*"
   ]
  },
  {
   "attachments": {},
   "cell_type": "markdown",
   "metadata": {},
   "source": [
    "**Konsep dalam Object Oriented Programming**\n",
    "\n",
    "*Sebagai salah satu bahasa pemrograman yang bersifat multi-purposive, Python juga mendukung paradigma Object Oriented (OO).*\n",
    "\n",
    "*Konsep OO pada Python memiliki tujuan untuk menciptakan potongan-potongan kode yang bersifat reusable dan tidak redundan. Konsep ini dikenal dengan istilah konsep **DRY - Don’t Repeat Yourself** (berlawanan dengan konsep WET - Write Everything Twice).*\n",
    "\n",
    "*Dalam bahasa pemrograman Python, terdapat 3 konsep utama OO yaitu.*\n",
    "\n",
    "1. ***Encapsulation:** Menyembunyikan sebagian detail yang dimiliki oleh sebuah objek terhadap objek-objek lainnya.*\n",
    "2. ***Inheritance**: Menurunkan serangkaian fungsi-fungsi yang dimiliki oleh sebuah objek ke sebuah objek baru tanpa mengubah makna dari objek acuan yang digunakan.*\n",
    "3. ***Polymorphism**: Konsep untuk menggunakan fungsi-fungsi dengan nama/tujuan yang sama dengan cara yang berbeda.*"
   ]
  },
  {
   "attachments": {},
   "cell_type": "markdown",
   "metadata": {},
   "source": [
    "**End of Module : Pengantar Object Oriented Programming**"
   ]
  }
 ],
 "metadata": {
  "kernelspec": {
   "display_name": "base",
   "language": "python",
   "name": "python3"
  },
  "language_info": {
   "name": "python",
   "version": "3.9.12 (main, Apr  4 2022, 05:22:27) [MSC v.1916 64 bit (AMD64)]"
  },
  "orig_nbformat": 4,
  "vscode": {
   "interpreter": {
    "hash": "5dfae695991f40f7f711b859ebe4404a578ce2940a1c2f7058c1cb98bd497b2c"
   }
  }
 },
 "nbformat": 4,
 "nbformat_minor": 2
}
