{
 "cells": [
  {
   "attachments": {},
   "cell_type": "markdown",
   "metadata": {},
   "source": [
    "**START**"
   ]
  },
  {
   "attachments": {},
   "cell_type": "markdown",
   "metadata": {},
   "source": [
    "**Module : Python Operators**"
   ]
  },
  {
   "attachments": {},
   "cell_type": "markdown",
   "metadata": {},
   "source": [
    "*Sekarang aku akan mempelajari operator-operator yang tersedia di dalam Python. Di dalam Python, operator terbagi ke dalam 6 kelompok:*\n",
    "1. *Arithmetic operators*\n",
    "2. *Assignment operators*\n",
    "3. *Comparison operators*\n",
    "4. *Logical operators*\n",
    "5. *Identity operators*\n",
    "6. *Membership operators*"
   ]
  },
  {
   "attachments": {},
   "cell_type": "markdown",
   "metadata": {},
   "source": [
    "**Arithmetic Operators**\n",
    "\n",
    "***Operator arithmetic** digunakan pada tipe data numerik, untuk melakukan operasi matematika sederhana yang terdiri atas:*"
   ]
  },
  {
   "cell_type": "code",
   "execution_count": 7,
   "metadata": {},
   "outputs": [
    {
     "data": {
      "text/html": [
       "<div>\n",
       "<style scoped>\n",
       "    .dataframe tbody tr th:only-of-type {\n",
       "        vertical-align: middle;\n",
       "    }\n",
       "\n",
       "    .dataframe tbody tr th {\n",
       "        vertical-align: top;\n",
       "    }\n",
       "\n",
       "    .dataframe thead th {\n",
       "        text-align: right;\n",
       "    }\n",
       "</style>\n",
       "<table border=\"1\" class=\"dataframe\">\n",
       "  <thead>\n",
       "    <tr style=\"text-align: right;\">\n",
       "      <th></th>\n",
       "      <th>simbol</th>\n",
       "      <th>keterangan</th>\n",
       "      <th>contoh</th>\n",
       "    </tr>\n",
       "  </thead>\n",
       "  <tbody>\n",
       "    <tr>\n",
       "      <th>0</th>\n",
       "      <td>+</td>\n",
       "      <td>Penambahan</td>\n",
       "      <td>3 + 2 akan menghasilkan output: 5</td>\n",
       "    </tr>\n",
       "    <tr>\n",
       "      <th>1</th>\n",
       "      <td>-</td>\n",
       "      <td>Pengurangan</td>\n",
       "      <td>4 - 2 akan menghasilkan output: 2</td>\n",
       "    </tr>\n",
       "    <tr>\n",
       "      <th>2</th>\n",
       "      <td>*</td>\n",
       "      <td>Perkalian</td>\n",
       "      <td>3 * 2 akan menghasilkan output: 6</td>\n",
       "    </tr>\n",
       "    <tr>\n",
       "      <th>3</th>\n",
       "      <td>/</td>\n",
       "      <td>Pembagian</td>\n",
       "      <td>3 / 2 akan menghasilkan output: 1.5</td>\n",
       "    </tr>\n",
       "    <tr>\n",
       "      <th>4</th>\n",
       "      <td>%</td>\n",
       "      <td>Modulo/sisa bagi</td>\n",
       "      <td>3 % 2 akan menghasilkan output: 1, dikarenakan...</td>\n",
       "    </tr>\n",
       "    <tr>\n",
       "      <th>5</th>\n",
       "      <td>**</td>\n",
       "      <td>Pangkat</td>\n",
       "      <td>3 ** 2 akan menghasilkan output: 9</td>\n",
       "    </tr>\n",
       "    <tr>\n",
       "      <th>6</th>\n",
       "      <td>//</td>\n",
       "      <td>Pembagaian dengan pembulatan ke bawah</td>\n",
       "      <td>3 / 2 akan menghasilkan output: 1.5</td>\n",
       "    </tr>\n",
       "  </tbody>\n",
       "</table>\n",
       "</div>"
      ],
      "text/plain": [
       "  simbol                             keterangan  \\\n",
       "0      +                             Penambahan   \n",
       "1      -                            Pengurangan   \n",
       "2      *                              Perkalian   \n",
       "3      /                              Pembagian   \n",
       "4      %                       Modulo/sisa bagi   \n",
       "5     **                                Pangkat   \n",
       "6     //  Pembagaian dengan pembulatan ke bawah   \n",
       "\n",
       "                                              contoh  \n",
       "0                  3 + 2 akan menghasilkan output: 5  \n",
       "1                  4 - 2 akan menghasilkan output: 2  \n",
       "2                  3 * 2 akan menghasilkan output: 6  \n",
       "3                3 / 2 akan menghasilkan output: 1.5  \n",
       "4  3 % 2 akan menghasilkan output: 1, dikarenakan...  \n",
       "5                 3 ** 2 akan menghasilkan output: 9  \n",
       "6                3 / 2 akan menghasilkan output: 1.5  "
      ]
     },
     "execution_count": 7,
     "metadata": {},
     "output_type": "execute_result"
    }
   ],
   "source": [
    "import pandas as pd\n",
    "\n",
    "data = [{'simbol' : '+', 'keterangan' : 'Penambahan', 'contoh' : '3 + 2 akan menghasilkan output: 5'},\n",
    "{'simbol' : '-', 'keterangan' : 'Pengurangan', 'contoh' : '4 - 2 akan menghasilkan output: 2'},\n",
    "{'simbol' : '*', 'keterangan' : 'Perkalian', 'contoh' : '3 * 2 akan menghasilkan output: 6'},\n",
    "{'simbol' : '/', 'keterangan' : 'Pembagian', 'contoh' : '3 / 2 akan menghasilkan output: 1.5'},\n",
    "{'simbol' : '%', 'keterangan' : 'Modulo/sisa bagi', 'contoh' : '3 % 2 akan menghasilkan output: 1, dikarenakan 3 tidak habis dibagi 2 dan menyisakan 1, 8 % 2 akan menghasilkan output: 0, dikarenakan 8 habis dibagi 2'},\n",
    "{'simbol' : '**', 'keterangan' : 'Pangkat', 'contoh' : '3 ** 2 akan menghasilkan output: 9'},\n",
    "{'simbol' : '//', 'keterangan' : 'Pembagaian dengan pembulatan ke bawah', 'contoh' : '3 / 2 akan menghasilkan output: 1.5'} ]\n",
    "\n",
    "df = pd.DataFrame(data)\n",
    "\n",
    "df.head(10)"
   ]
  },
  {
   "attachments": {},
   "cell_type": "markdown",
   "metadata": {},
   "source": [
    "**Assignment Operators**\n",
    "\n",
    "*Operator assignment digunakan untuk mendeklarasikan nilai secara langsung ke suatu variabel.*"
   ]
  },
  {
   "cell_type": "code",
   "execution_count": 11,
   "metadata": {},
   "outputs": [
    {
     "data": {
      "text/html": [
       "<div>\n",
       "<style scoped>\n",
       "    .dataframe tbody tr th:only-of-type {\n",
       "        vertical-align: middle;\n",
       "    }\n",
       "\n",
       "    .dataframe tbody tr th {\n",
       "        vertical-align: top;\n",
       "    }\n",
       "\n",
       "    .dataframe thead th {\n",
       "        text-align: right;\n",
       "    }\n",
       "</style>\n",
       "<table border=\"1\" class=\"dataframe\">\n",
       "  <thead>\n",
       "    <tr style=\"text-align: right;\">\n",
       "      <th></th>\n",
       "      <th>simbol</th>\n",
       "      <th>keterangan</th>\n",
       "      <th>contoh</th>\n",
       "    </tr>\n",
       "  </thead>\n",
       "  <tbody>\n",
       "    <tr>\n",
       "      <th>0</th>\n",
       "      <td>+=</td>\n",
       "      <td>penambahan</td>\n",
       "      <td>x = 3, x += 2 ekivalen dengan x = x + 2, akan ...</td>\n",
       "    </tr>\n",
       "    <tr>\n",
       "      <th>1</th>\n",
       "      <td>-=</td>\n",
       "      <td>pengurangan</td>\n",
       "      <td>x = 3, x -= 2 ekivalen dengan x = x - 2, akan ...</td>\n",
       "    </tr>\n",
       "    <tr>\n",
       "      <th>2</th>\n",
       "      <td>*=</td>\n",
       "      <td>perkalian</td>\n",
       "      <td>x = 3, x *= 2 ekivalen dengan x = x * 2, akan ...</td>\n",
       "    </tr>\n",
       "    <tr>\n",
       "      <th>3</th>\n",
       "      <td>/=</td>\n",
       "      <td>pembagian</td>\n",
       "      <td>x = 3, x /= 2 ekivalen dengan x = x / 2, akan ...</td>\n",
       "    </tr>\n",
       "    <tr>\n",
       "      <th>4</th>\n",
       "      <td>%=</td>\n",
       "      <td>modulo/sisa bagi</td>\n",
       "      <td>x = 3, x %= 2 ekivalen dengan x = x % 2, akan ...</td>\n",
       "    </tr>\n",
       "    <tr>\n",
       "      <th>5</th>\n",
       "      <td>**=</td>\n",
       "      <td>pangkat</td>\n",
       "      <td>x = 3, x **= 2 ekivalen dengan x = x ** 2, aka...</td>\n",
       "    </tr>\n",
       "    <tr>\n",
       "      <th>6</th>\n",
       "      <td>%=</td>\n",
       "      <td>modulo/sisa bagi</td>\n",
       "      <td>x = 3, x //= 2 sama dengan x = x // 2, akan me...</td>\n",
       "    </tr>\n",
       "  </tbody>\n",
       "</table>\n",
       "</div>"
      ],
      "text/plain": [
       "  simbol        keterangan                                             contoh\n",
       "0     +=        penambahan  x = 3, x += 2 ekivalen dengan x = x + 2, akan ...\n",
       "1     -=       pengurangan  x = 3, x -= 2 ekivalen dengan x = x - 2, akan ...\n",
       "2     *=         perkalian  x = 3, x *= 2 ekivalen dengan x = x * 2, akan ...\n",
       "3     /=         pembagian  x = 3, x /= 2 ekivalen dengan x = x / 2, akan ...\n",
       "4     %=  modulo/sisa bagi  x = 3, x %= 2 ekivalen dengan x = x % 2, akan ...\n",
       "5    **=           pangkat  x = 3, x **= 2 ekivalen dengan x = x ** 2, aka...\n",
       "6     %=  modulo/sisa bagi  x = 3, x //= 2 sama dengan x = x // 2, akan me..."
      ]
     },
     "execution_count": 11,
     "metadata": {},
     "output_type": "execute_result"
    }
   ],
   "source": [
    "import pandas as pd\n",
    "\n",
    "data2 = [{'simbol' : '+=', 'keterangan' : 'penambahan', 'contoh' : 'x = 3, x += 2 ekivalen dengan x = x + 2, akan mengubah nilai x menjadi 5'},\n",
    "{'simbol' : '-=', 'keterangan' : 'pengurangan', 'contoh' : 'x = 3, x -= 2 ekivalen dengan x = x - 2, akan mengubah nilai x menjadi 1'},\n",
    "{'simbol' : '*=', 'keterangan' : 'perkalian', 'contoh' : 'x = 3, x *= 2 ekivalen dengan x = x * 2, akan mengubah nilai x menjadi 6'},\n",
    "{'simbol' : '/=', 'keterangan' : 'pembagian', 'contoh' : 'x = 3, x /= 2 ekivalen dengan x = x / 2, akan mengubah nilai x menjadi 1.5'},\n",
    "{'simbol' : '%=', 'keterangan' : 'modulo/sisa bagi', 'contoh' : 'x = 3, x %= 2 ekivalen dengan x = x % 2, akan mengubah nilai x menjadi 1'},\n",
    "{'simbol' : '**=', 'keterangan' : 'pangkat', 'contoh' : 'x = 3, x **= 2 ekivalen dengan x = x ** 2, akan mengubah nilai x menjadi 9'},\n",
    "{'simbol' : '%=', 'keterangan' : 'modulo/sisa bagi', 'contoh' : 'x = 3, x //= 2 sama dengan x = x // 2, akan mengubah nilai x menjadi 1'}\n",
    "]\n",
    "\n",
    "df = pd.DataFrame(data2)\n",
    "\n",
    "df.head(10)"
   ]
  },
  {
   "attachments": {},
   "cell_type": "markdown",
   "metadata": {},
   "source": [
    "**Comparison Operators**\n",
    "\n",
    "***Operator comparison** dapat digunakan untuk membandingkan dua buah nilai, berikut merupakan contoh-contoh operator komparasi.*"
   ]
  },
  {
   "cell_type": "code",
   "execution_count": 13,
   "metadata": {},
   "outputs": [
    {
     "data": {
      "text/html": [
       "<div>\n",
       "<style scoped>\n",
       "    .dataframe tbody tr th:only-of-type {\n",
       "        vertical-align: middle;\n",
       "    }\n",
       "\n",
       "    .dataframe tbody tr th {\n",
       "        vertical-align: top;\n",
       "    }\n",
       "\n",
       "    .dataframe thead th {\n",
       "        text-align: right;\n",
       "    }\n",
       "</style>\n",
       "<table border=\"1\" class=\"dataframe\">\n",
       "  <thead>\n",
       "    <tr style=\"text-align: right;\">\n",
       "      <th></th>\n",
       "      <th>simbol</th>\n",
       "      <th>keterangan</th>\n",
       "      <th>contoh</th>\n",
       "    </tr>\n",
       "  </thead>\n",
       "  <tbody>\n",
       "    <tr>\n",
       "      <th>0</th>\n",
       "      <td>==</td>\n",
       "      <td>persamaan</td>\n",
       "      <td>33 == 33 akan menghasilkan output: True dikare...</td>\n",
       "    </tr>\n",
       "    <tr>\n",
       "      <th>1</th>\n",
       "      <td>!=</td>\n",
       "      <td>Pertidaksamaan</td>\n",
       "      <td>34 != 33 akan menghasilkan output: True dikare...</td>\n",
       "    </tr>\n",
       "    <tr>\n",
       "      <th>2</th>\n",
       "      <td>&gt;</td>\n",
       "      <td>Lebih besar dari</td>\n",
       "      <td>34 &gt; 33 akan menghasilkan output: True dikaren...</td>\n",
       "    </tr>\n",
       "    <tr>\n",
       "      <th>3</th>\n",
       "      <td>&lt;</td>\n",
       "      <td>Lebih kecil dari</td>\n",
       "      <td>33 &lt; 34 akan menghasilkan output True dikarena...</td>\n",
       "    </tr>\n",
       "    <tr>\n",
       "      <th>4</th>\n",
       "      <td>&gt;=</td>\n",
       "      <td>Lebih besar atau sama dengan</td>\n",
       "      <td>34 &gt;= 33 akan menghasilkan output True dikaren...</td>\n",
       "    </tr>\n",
       "    <tr>\n",
       "      <th>5</th>\n",
       "      <td>&lt;=</td>\n",
       "      <td>Lebih kecil atau sama dengan</td>\n",
       "      <td>33 &lt;= 34 akan menghasilkan output True dikaren...</td>\n",
       "    </tr>\n",
       "  </tbody>\n",
       "</table>\n",
       "</div>"
      ],
      "text/plain": [
       "  simbol                    keterangan  \\\n",
       "0     ==                     persamaan   \n",
       "1     !=                Pertidaksamaan   \n",
       "2      >              Lebih besar dari   \n",
       "3      <              Lebih kecil dari   \n",
       "4     >=  Lebih besar atau sama dengan   \n",
       "5     <=  Lebih kecil atau sama dengan   \n",
       "\n",
       "                                              contoh  \n",
       "0  33 == 33 akan menghasilkan output: True dikare...  \n",
       "1  34 != 33 akan menghasilkan output: True dikare...  \n",
       "2  34 > 33 akan menghasilkan output: True dikaren...  \n",
       "3  33 < 34 akan menghasilkan output True dikarena...  \n",
       "4  34 >= 33 akan menghasilkan output True dikaren...  \n",
       "5  33 <= 34 akan menghasilkan output True dikaren...  "
      ]
     },
     "execution_count": 13,
     "metadata": {},
     "output_type": "execute_result"
    }
   ],
   "source": [
    "import pandas as pd\n",
    "\n",
    "data2 = [{'simbol' : '==', 'keterangan' : 'persamaan', 'contoh' : '33 == 33 akan menghasilkan output: True dikarenakan benar 33 sama dengan 33, 34 == 33 akan menghasilkan output: False dikarenakan 34 tidak sama dengan 33'},\n",
    "{'simbol' : '!=', 'keterangan' : 'Pertidaksamaan', 'contoh' : '34 != 33 akan menghasilkan output: True dikarenakan benar bahwa 34 tidak sama dengan 33, 33 != 33 akan menghasilkan output: False dikarenakan 33 sama dengan 33'},\n",
    "{'simbol' : '>', 'keterangan' : 'Lebih besar dari', 'contoh' : '34 > 33 akan menghasilkan output: True dikarenakan 34 lebih besar dari 33, 33 > 34 akan menghasilkan output False dikarenakan tidak benar 33 lebih besar dari 34'},\n",
    "{'simbol' : '<', 'keterangan' : 'Lebih kecil dari', 'contoh' : '33 < 34 akan menghasilkan output True dikarenakan benar 33 lebih kecil dari 34, 34 < 33 akan menghasilkan output: False dikarenakan tidak benar 34 lebih kecil dari 33'},\n",
    "{'simbol' : '>=', 'keterangan' : 'Lebih besar atau sama dengan', 'contoh' : '34 >= 33 akan menghasilkan output True dikarenakan 34 lebih besar dari 33, 34 >= 34 akan menghasilkan output True dikarenakan 34 sama dengan 34, 33 >= 34 akan menghasilkan output False dikarenakan 33 tidak lebih besar dari 34 dan tidak sama dengan 34'},\n",
    "{'simbol' : '<=', 'keterangan' : 'Lebih kecil atau sama dengan', 'contoh' : '33 <= 34 akan menghasilkan output True dikarenakan 33 lebih kecil dari 34, 33 <= 33 akan menghasilkan output True dikarenakan 34 sama dengan 33, 34 <= 33 akan menghasilkan output False dikarenakan 34 tidak lebih kecil dari 33 dan tidak sama dengan 34'}\n",
    "]\n",
    "\n",
    "df = pd.DataFrame(data2)\n",
    "\n",
    "df.head(10)"
   ]
  },
  {
   "attachments": {},
   "cell_type": "markdown",
   "metadata": {},
   "source": [
    "**Logical Operators**\n",
    "\n",
    "***Operator logical** digunakan untuk menggabungkan beberapa nilai kebenaran atas suatu statemen logika.*"
   ]
  },
  {
   "cell_type": "code",
   "execution_count": 2,
   "metadata": {},
   "outputs": [
    {
     "data": {
      "text/html": [
       "<div>\n",
       "<style scoped>\n",
       "    .dataframe tbody tr th:only-of-type {\n",
       "        vertical-align: middle;\n",
       "    }\n",
       "\n",
       "    .dataframe tbody tr th {\n",
       "        vertical-align: top;\n",
       "    }\n",
       "\n",
       "    .dataframe thead th {\n",
       "        text-align: right;\n",
       "    }\n",
       "</style>\n",
       "<table border=\"1\" class=\"dataframe\">\n",
       "  <thead>\n",
       "    <tr style=\"text-align: right;\">\n",
       "      <th></th>\n",
       "      <th>simbol</th>\n",
       "      <th>keterangan</th>\n",
       "      <th>contoh</th>\n",
       "    </tr>\n",
       "  </thead>\n",
       "  <tbody>\n",
       "    <tr>\n",
       "      <th>0</th>\n",
       "      <td>and</td>\n",
       "      <td>dan - menerima dua nilai kebenaran dan mengemb...</td>\n",
       "      <td>x = 5, x &gt;= 1 and x &lt;= 10, akan mengembalikan ...</td>\n",
       "    </tr>\n",
       "    <tr>\n",
       "      <th>1</th>\n",
       "      <td>or</td>\n",
       "      <td>atau - menerima dua nilai kebenaran dan mengem...</td>\n",
       "      <td>x = 3 , x &gt;= 1 or x &lt;= 2, akan mengembalikan n...</td>\n",
       "    </tr>\n",
       "    <tr>\n",
       "      <th>2</th>\n",
       "      <td>not</td>\n",
       "      <td>negasi - menerima sebuah nilai kebenaran dan m...</td>\n",
       "      <td>x = 7, not(x == 7) akan mengembalikan nilai Fa...</td>\n",
       "    </tr>\n",
       "  </tbody>\n",
       "</table>\n",
       "</div>"
      ],
      "text/plain": [
       "  simbol                                         keterangan  \\\n",
       "0    and  dan - menerima dua nilai kebenaran dan mengemb...   \n",
       "1     or  atau - menerima dua nilai kebenaran dan mengem...   \n",
       "2    not  negasi - menerima sebuah nilai kebenaran dan m...   \n",
       "\n",
       "                                              contoh  \n",
       "0  x = 5, x >= 1 and x <= 10, akan mengembalikan ...  \n",
       "1  x = 3 , x >= 1 or x <= 2, akan mengembalikan n...  \n",
       "2  x = 7, not(x == 7) akan mengembalikan nilai Fa...  "
      ]
     },
     "execution_count": 2,
     "metadata": {},
     "output_type": "execute_result"
    }
   ],
   "source": [
    "import pandas as pd\n",
    "\n",
    "data2 = [{'simbol' : 'and', 'keterangan' : 'dan - menerima dua nilai kebenaran dan mengembalikan nilai benar jika keduanya benar', 'contoh' : 'x = 5, x >= 1 and x <= 10, akan mengembalikan nilai True, x = 5, x >= 1 and x <= 4, akan mengembalikan nilai False'},\n",
    "{'simbol' : 'or', 'keterangan' : 'atau - menerima dua nilai kebenaran dan mengembalikan nilai benar jika salah satu benar', 'contoh' : 'x = 3 , x >= 1 or x <= 2, akan mengembalikan nilai True dikarenakan statemen logika pertama terpenuhi'},\n",
    "{'simbol' : 'not', 'keterangan' : 'negasi - menerima sebuah nilai kebenaran dan mengembalikan komplemennya', 'contoh' : 'x = 7, not(x == 7) akan mengembalikan nilai False, not(x >= 10) akan mengembalikan nilai True'}\n",
    "]\n",
    "\n",
    "df = pd.DataFrame(data2)\n",
    "\n",
    "df.head(10)"
   ]
  },
  {
   "attachments": {},
   "cell_type": "markdown",
   "metadata": {},
   "source": [
    "**Identity Operators**\n",
    "\n",
    "***Operator identitas** dapat digunakan untuk membandingkan identitas dari dua buah variabel.*"
   ]
  },
  {
   "cell_type": "code",
   "execution_count": 3,
   "metadata": {},
   "outputs": [
    {
     "data": {
      "text/html": [
       "<div>\n",
       "<style scoped>\n",
       "    .dataframe tbody tr th:only-of-type {\n",
       "        vertical-align: middle;\n",
       "    }\n",
       "\n",
       "    .dataframe tbody tr th {\n",
       "        vertical-align: top;\n",
       "    }\n",
       "\n",
       "    .dataframe thead th {\n",
       "        text-align: right;\n",
       "    }\n",
       "</style>\n",
       "<table border=\"1\" class=\"dataframe\">\n",
       "  <thead>\n",
       "    <tr style=\"text-align: right;\">\n",
       "      <th></th>\n",
       "      <th>simbol</th>\n",
       "      <th>keterangan</th>\n",
       "    </tr>\n",
       "  </thead>\n",
       "  <tbody>\n",
       "    <tr>\n",
       "      <th>0</th>\n",
       "      <td>is</td>\n",
       "      <td>Menerima dua buah objek dan mengembalikan nila...</td>\n",
       "    </tr>\n",
       "    <tr>\n",
       "      <th>1</th>\n",
       "      <td>is not</td>\n",
       "      <td>Menerima dua buah objek dan mengembalikan nila...</td>\n",
       "    </tr>\n",
       "  </tbody>\n",
       "</table>\n",
       "</div>"
      ],
      "text/plain": [
       "   simbol                                         keterangan\n",
       "0      is  Menerima dua buah objek dan mengembalikan nila...\n",
       "1  is not  Menerima dua buah objek dan mengembalikan nila..."
      ]
     },
     "execution_count": 3,
     "metadata": {},
     "output_type": "execute_result"
    }
   ],
   "source": [
    "import pandas as pd\n",
    "\n",
    "data2 = [{'simbol' : 'is', 'keterangan' : 'Menerima dua buah objek dan mengembalikan nilai True ketika keduanya merujuk pada objek yang sama dan False dalam kondisi lainnya'},\n",
    "{'simbol' : 'is not', 'keterangan' : 'Menerima dua buah objek dan mengembalikan nilai True ketika keduanya merujuk pada objek yang berbeda dan False jika sama'},\n",
    "]\n",
    "\n",
    "df = pd.DataFrame(data2)\n",
    "\n",
    "df.head(10)"
   ]
  },
  {
   "cell_type": "code",
   "execution_count": 8,
   "metadata": {},
   "outputs": [
    {
     "name": "stdout",
     "output_type": "stream",
     "text": [
      "True\n",
      "False\n"
     ]
    }
   ],
   "source": [
    "x = [\"Ani\", \"Budi\"]\n",
    "\n",
    "y = [\"Ani\", \"Budi\"]\n",
    "\n",
    "a = x\n",
    "\n",
    "print(a is x) \n",
    "# akan menampilkan nilai True dikarenakan a dan x merujuk ke objek yang sama\n",
    "\n",
    "print(a is y) \n",
    "# akan menampilkan nilai False dikarenakan a dan y tidak merujuk ke objek yang sama meskipun isi di dalam keduanya sama."
   ]
  },
  {
   "attachments": {},
   "cell_type": "markdown",
   "metadata": {},
   "source": [
    "*Pada umumnya, **operator identitas sering digunakan bersamaan dengan fungsi type()**, yang mana fungsi type() akan menerima sebuah objek dan mengembalikan tipe data dari objek tersebut. Di bawah ini adalah contoh penggunaan operator identitas dan fungsi type().*"
   ]
  },
  {
   "cell_type": "code",
   "execution_count": 9,
   "metadata": {},
   "outputs": [
    {
     "name": "stdout",
     "output_type": "stream",
     "text": [
      "True\n",
      "False\n",
      "True\n"
     ]
    }
   ],
   "source": [
    "# mula mula x adalah sebuah integer\n",
    "x = 10\n",
    "print(type(x) is int)\n",
    "\n",
    "x /= 3\n",
    "print(type(x) is int)\n",
    "print(type(x) is float)"
   ]
  },
  {
   "attachments": {},
   "cell_type": "markdown",
   "metadata": {},
   "source": [
    "**Membership Operators**\n",
    "\n",
    "***Operator keanggotaan (membership)** dapat digunakan untuk memeriksa anggota dari sebuah tipe data sequence/set. Operator keanggotaan meliputi:*"
   ]
  },
  {
   "cell_type": "code",
   "execution_count": 10,
   "metadata": {},
   "outputs": [
    {
     "data": {
      "text/html": [
       "<div>\n",
       "<style scoped>\n",
       "    .dataframe tbody tr th:only-of-type {\n",
       "        vertical-align: middle;\n",
       "    }\n",
       "\n",
       "    .dataframe tbody tr th {\n",
       "        vertical-align: top;\n",
       "    }\n",
       "\n",
       "    .dataframe thead th {\n",
       "        text-align: right;\n",
       "    }\n",
       "</style>\n",
       "<table border=\"1\" class=\"dataframe\">\n",
       "  <thead>\n",
       "    <tr style=\"text-align: right;\">\n",
       "      <th></th>\n",
       "      <th>simbol</th>\n",
       "      <th>keterangan</th>\n",
       "    </tr>\n",
       "  </thead>\n",
       "  <tbody>\n",
       "    <tr>\n",
       "      <th>0</th>\n",
       "      <td>in</td>\n",
       "      <td>Menerima sebuah sequence/set dan objek, mengem...</td>\n",
       "    </tr>\n",
       "    <tr>\n",
       "      <th>1</th>\n",
       "      <td>not in</td>\n",
       "      <td>Menerima sebuah sequence/set dan objek, mengem...</td>\n",
       "    </tr>\n",
       "  </tbody>\n",
       "</table>\n",
       "</div>"
      ],
      "text/plain": [
       "   simbol                                         keterangan\n",
       "0      in  Menerima sebuah sequence/set dan objek, mengem...\n",
       "1  not in  Menerima sebuah sequence/set dan objek, mengem..."
      ]
     },
     "execution_count": 10,
     "metadata": {},
     "output_type": "execute_result"
    }
   ],
   "source": [
    "import pandas as pd\n",
    "\n",
    "data2 = [{'simbol' : 'in', 'keterangan' : \n",
    "'Menerima sebuah sequence/set dan objek, mengembalikan True ketika objek merupakan anggota dari sequence/set, dan False ketika bukan.'},\n",
    "{'simbol' : 'not in', 'keterangan' : \n",
    "'Menerima sebuah sequence/set dan objek, mengembalikan True ketika objek bukan merupakan anggota dari sequence/set, dan False ketika merupakan.'''},\n",
    "]\n",
    "\n",
    "df = pd.DataFrame(data2)\n",
    "\n",
    "df.head(10)"
   ]
  },
  {
   "cell_type": "code",
   "execution_count": 11,
   "metadata": {},
   "outputs": [
    {
     "name": "stdout",
     "output_type": "stream",
     "text": [
      "True\n",
      "False\n",
      "False\n",
      "True\n"
     ]
    }
   ],
   "source": [
    "x = [\"Ani\", \"Budi\", \"Cici\"]\n",
    "y = \"Cici\"\n",
    "z = \"Dodi\"\n",
    "\n",
    "print(y in x) #akan menampilkan nilai  True\n",
    "print(z in x) #akan menampilkan nilai  False\n",
    "\n",
    "print(y not in x) #akan menampilkan nilai  False\n",
    "print(z not in x) #akan menampilkan nilai  True"
   ]
  },
  {
   "attachments": {},
   "cell_type": "markdown",
   "metadata": {},
   "source": [
    "**Nilai Prioritas Operator dalam Python – Part 1**\n",
    "\n",
    "*Setelah mempelajari berbagai operator dalam bahasa pemrograman Python, tentunya aku juga ingin bisa menuliskan operasi-operasi variabel yang bersifat ekspresif dan ringkas.*\n",
    "\n",
    "*Sebagai contoh, untuk menuliskan sebuah program menghitung diskon dan pajak pembelian berdasarkan ilmu yang telah aku pelajari **menggunakan cara lebih mudah dengan menjelaskan presedensi (urutan eksekusi) dari operator.***"
   ]
  },
  {
   "attachments": {},
   "cell_type": "markdown",
   "metadata": {},
   "source": [
    "**Tugas:**\n",
    "\n",
    "*Aku diminta Senja untuk menghitung harga yang harus dibayarkan menggunakan barang senilai 150,000, dengan diskon 30% dan pajak 10%, menggunakan cara yang aku gunakan awal dan cara lebih singkat yang diajarkan Senja.*"
   ]
  },
  {
   "cell_type": "code",
   "execution_count": 12,
   "metadata": {},
   "outputs": [
    {
     "name": "stdout",
     "output_type": "stream",
     "text": [
      "Kode awal - harga_bayar= 115500.0\n",
      "penyederhanaan kode - harga bayar 115500.0\n"
     ]
    }
   ],
   "source": [
    "# Kode Awal\n",
    "total_harga = 150000\n",
    "potongan_harga = 0.3\n",
    "pajak = 0.1 # pajak dalam persen ~ 10%\n",
    "harga_bayar = 1 - potongan_harga # baris pertama\n",
    "harga_bayar *= total_harga # baris kedua\n",
    "pajak_bayar = pajak * harga_bayar # baris ketiga\n",
    "harga_bayar += pajak_bayar # baris ke-4\n",
    "print(\"Kode awal - harga_bayar=\", harga_bayar)\n",
    "\n",
    "# Penyederhanaan baris kode dengan menerapkan prioritas operator\n",
    "total_harga = 150000\n",
    "potongan_harga = 0.3\n",
    "pajak = 0.1 # pajak dalam persen ~ 10%\n",
    "\n",
    "harga_bayar = (1 - potongan_harga) * total_harga\n",
    "harga_bayar += pajak * harga_bayar\n",
    "\n",
    "print('penyederhanaan kode - harga bayar', harga_bayar)"
   ]
  },
  {
   "attachments": {},
   "cell_type": "markdown",
   "metadata": {},
   "source": [
    "**Nilai Prioritas Operator dalam Python – Part 2**\n",
    "\n",
    "*Dalam bahasa pemrograman Python, tabel berikut mencakup nilai prioritas dan arah pengerjaan dari setiap operator.*"
   ]
  },
  {
   "cell_type": "code",
   "execution_count": 13,
   "metadata": {},
   "outputs": [
    {
     "data": {
      "text/html": [
       "<div>\n",
       "<style scoped>\n",
       "    .dataframe tbody tr th:only-of-type {\n",
       "        vertical-align: middle;\n",
       "    }\n",
       "\n",
       "    .dataframe tbody tr th {\n",
       "        vertical-align: top;\n",
       "    }\n",
       "\n",
       "    .dataframe thead th {\n",
       "        text-align: right;\n",
       "    }\n",
       "</style>\n",
       "<table border=\"1\" class=\"dataframe\">\n",
       "  <thead>\n",
       "    <tr style=\"text-align: right;\">\n",
       "      <th></th>\n",
       "      <th>operator</th>\n",
       "      <th>nilai Prioritas</th>\n",
       "      <th>deskripsi</th>\n",
       "    </tr>\n",
       "  </thead>\n",
       "  <tbody>\n",
       "    <tr>\n",
       "      <th>0</th>\n",
       "      <td>()</td>\n",
       "      <td>10</td>\n",
       "      <td>grouping</td>\n",
       "    </tr>\n",
       "    <tr>\n",
       "      <th>1</th>\n",
       "      <td>x[index]</td>\n",
       "      <td>9</td>\n",
       "      <td>mengakses elemen array</td>\n",
       "    </tr>\n",
       "    <tr>\n",
       "      <th>2</th>\n",
       "      <td>**</td>\n",
       "      <td>8</td>\n",
       "      <td>pangkat</td>\n",
       "    </tr>\n",
       "    <tr>\n",
       "      <th>3</th>\n",
       "      <td>+x, -x</td>\n",
       "      <td>7</td>\n",
       "      <td>tanda bilangan positif dan negatif</td>\n",
       "    </tr>\n",
       "    <tr>\n",
       "      <th>4</th>\n",
       "      <td>*, /, %</td>\n",
       "      <td>6</td>\n",
       "      <td>Perkalian Pembagian Modulus</td>\n",
       "    </tr>\n",
       "    <tr>\n",
       "      <th>5</th>\n",
       "      <td>+, -</td>\n",
       "      <td>5</td>\n",
       "      <td>penambahan, pengurangan</td>\n",
       "    </tr>\n",
       "    <tr>\n",
       "      <th>6</th>\n",
       "      <td>is, is not, in, not in \\n&lt;=, &lt;, &gt;=, &gt;)\\n==, !=</td>\n",
       "      <td>4</td>\n",
       "      <td>Membership operator, Comparison operator</td>\n",
       "    </tr>\n",
       "    <tr>\n",
       "      <th>7</th>\n",
       "      <td>not</td>\n",
       "      <td>3</td>\n",
       "      <td>Operator logika negasi (not)</td>\n",
       "    </tr>\n",
       "    <tr>\n",
       "      <th>8</th>\n",
       "      <td>and</td>\n",
       "      <td>2</td>\n",
       "      <td>Operator logika konjungsi (and)</td>\n",
       "    </tr>\n",
       "    <tr>\n",
       "      <th>9</th>\n",
       "      <td>or</td>\n",
       "      <td>1</td>\n",
       "      <td>Operator logika disjungsi (or)</td>\n",
       "    </tr>\n",
       "  </tbody>\n",
       "</table>\n",
       "</div>"
      ],
      "text/plain": [
       "                                         operator nilai Prioritas  \\\n",
       "0                                              ()              10   \n",
       "1                                        x[index]               9   \n",
       "2                                              **               8   \n",
       "3                                          +x, -x               7   \n",
       "4                                         *, /, %               6   \n",
       "5                                            +, -               5   \n",
       "6  is, is not, in, not in \\n<=, <, >=, >)\\n==, !=               4   \n",
       "7                                             not               3   \n",
       "8                                             and               2   \n",
       "9                                              or               1   \n",
       "\n",
       "                                  deskripsi  \n",
       "0                                  grouping  \n",
       "1                    mengakses elemen array  \n",
       "2                                   pangkat  \n",
       "3        tanda bilangan positif dan negatif  \n",
       "4               Perkalian Pembagian Modulus  \n",
       "5                   penambahan, pengurangan  \n",
       "6  Membership operator, Comparison operator  \n",
       "7              Operator logika negasi (not)  \n",
       "8           Operator logika konjungsi (and)  \n",
       "9            Operator logika disjungsi (or)  "
      ]
     },
     "execution_count": 13,
     "metadata": {},
     "output_type": "execute_result"
    }
   ],
   "source": [
    "import pandas as pd\n",
    "\n",
    "data2 = [{'operator' : '()', 'nilai Prioritas' : '10', 'deskripsi' : 'grouping'},\n",
    "{'operator' : 'x[index]', 'nilai Prioritas' : '9', 'deskripsi' : 'mengakses elemen array'},\n",
    "{'operator' : '**', 'nilai Prioritas' : '8', 'deskripsi' : 'pangkat'},\n",
    "{'operator' : '+x, -x', 'nilai Prioritas' : '7', 'deskripsi' : 'tanda bilangan positif dan negatif'},\n",
    "{'operator' : '*, /, %', 'nilai Prioritas' : '6', 'deskripsi' : 'Perkalian Pembagian Modulus'},\n",
    "{'operator' : '+, -', 'nilai Prioritas' : '5', 'deskripsi' : 'penambahan, pengurangan'},\n",
    "{'operator' : \n",
    "'''is, is not, in, not in \n",
    "<=, <, >=, >)\n",
    "==, !=''', \n",
    "'nilai Prioritas' : '4', 'deskripsi' : 'Membership operator, Comparison operator'},\n",
    "{'operator' : 'not', 'nilai Prioritas' : '3', 'deskripsi' : 'Operator logika negasi (not)'},\n",
    "{'operator' : 'and', 'nilai Prioritas' : '2', 'deskripsi' : 'Operator logika konjungsi (and)'},\n",
    "{'operator' : 'or', 'nilai Prioritas' : '1', 'deskripsi' : 'Operator logika disjungsi (or)'}\n",
    "]\n",
    "\n",
    "df = pd.DataFrame(data2)\n",
    "\n",
    "df.head(10)"
   ]
  },
  {
   "attachments": {},
   "cell_type": "markdown",
   "metadata": {},
   "source": [
    "*Dari tabel di atas, dapat terlihat bahwa tanda () memiliki nilai prioritas yang paling tinggi. Hal itu menandakan jika di dalam suatu statemen yang melibatkan beberapa operator secara sekaligus, setiap operasi yang berada di dalam tanda () akan dikerjakan terlebih dahulu.*\n",
    "\n",
    "*Kemudian, jika terdapat beberapa operasi dalam tanda (), tanda kurung yang berada di sebelah paling kiri akan dikerjakan terlebih dahulu dikarenakan arah pengerjaan dari tanda () adalah dari kiri ke kanan.*"
   ]
  },
  {
   "attachments": {},
   "cell_type": "markdown",
   "metadata": {},
   "source": [
    "**Tugas Praktek**\n",
    "\n",
    "*Kenapa tidak terpikirkan olehku, ya? Harusnya aku tidak perlu mendeklarasikan variabel total_pajak dan aku bisa langsung menampung hasil perhitungan akhir saat mendeklarasikan variabel total_harga. Jadi, kodeku akan berjalan jika aku menambahkan setiap harga barang yang telah dipotong diskon sebelum menghitung pajak.*"
   ]
  },
  {
   "cell_type": "code",
   "execution_count": 15,
   "metadata": {},
   "outputs": [
    {
     "name": "stdout",
     "output_type": "stream",
     "text": [
      "365200.00000000006\n"
     ]
    }
   ],
   "source": [
    "sepatu = { \"nama\" : \"Sepatu Niko\", \"harga\": 150000, \"diskon\": 30000 }\n",
    "baju = { \"nama\" : \"Baju Unikloh\", \"harga\": 80000, \"diskon\": 8000 }\n",
    "celana = { \"nama\" : \"Celana Lepis\", \"harga\": 200000, \"diskon\": 60000 }\n",
    "\n",
    "harga_sepatu = sepatu[\"harga\"] - sepatu[\"diskon\"]\n",
    "harga_baju = baju[\"harga\"] - baju[\"diskon\"]\n",
    "harga_celana = celana[\"harga\"] - celana[\"diskon\"]\n",
    "\n",
    "total_harga = (harga_sepatu+harga_baju+harga_celana) * 1.1 \n",
    "print(total_harga)"
   ]
  },
  {
   "attachments": {},
   "cell_type": "markdown",
   "metadata": {},
   "source": [
    "**End of Module : Python Operators**"
   ]
  },
  {
   "cell_type": "markdown",
   "metadata": {},
   "source": []
  }
 ],
 "metadata": {
  "kernelspec": {
   "display_name": "base",
   "language": "python",
   "name": "python3"
  },
  "language_info": {
   "codemirror_mode": {
    "name": "ipython",
    "version": 3
   },
   "file_extension": ".py",
   "mimetype": "text/x-python",
   "name": "python",
   "nbconvert_exporter": "python",
   "pygments_lexer": "ipython3",
   "version": "3.9.12"
  },
  "orig_nbformat": 4,
  "vscode": {
   "interpreter": {
    "hash": "5dfae695991f40f7f711b859ebe4404a578ce2940a1c2f7058c1cb98bd497b2c"
   }
  }
 },
 "nbformat": 4,
 "nbformat_minor": 2
}
