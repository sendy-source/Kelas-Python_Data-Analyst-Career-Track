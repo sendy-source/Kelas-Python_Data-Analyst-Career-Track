{
 "cells": [
  {
   "attachments": {},
   "cell_type": "markdown",
   "metadata": {},
   "source": [
    "**START**"
   ]
  },
  {
   "attachments": {},
   "cell_type": "markdown",
   "metadata": {},
   "source": [
    "**Module : Pythons Conditioning & Looping**"
   ]
  },
  {
   "attachments": {},
   "cell_type": "markdown",
   "metadata": {},
   "source": [
    "**Phyton Conditioning**"
   ]
  },
  {
   "attachments": {},
   "cell_type": "markdown",
   "metadata": {},
   "source": [
    "**Python Conditioning for Decision – Part 1**\n",
    "\n",
    "*Layaknya bahasa pemrograman lainnya, bahasa pemrograman Python menyediakan statemen desisi (decision statement) untuk berinteraksi dengan variabel bertipe boolean dan operator logika. Statemen desisi dalam Python dapat dituliskan dengan menggunakan format berikut:*"
   ]
  },
  {
   "cell_type": "code",
   "execution_count": null,
   "metadata": {},
   "outputs": [],
   "source": [
    "'''\n",
    "if conditions :\n",
    "    do_action_1\n",
    "    ...\n",
    "    do_action_n\n",
    "'''"
   ]
  },
  {
   "attachments": {},
   "cell_type": "markdown",
   "metadata": {},
   "source": [
    "*Dengan **conditions** berisikan operator yang mengembalikan nilai kebenaran; ataupun beberapa operator yang mengembalikan nilai kebenaran, yang digabungkan dengan operator logika.  Melalui  sebuah statemen desisi (if statement), **do_action_1>** sampai dengan **do_action_n>** akan dijalankan saat **conditions** bernilai True.*\n",
    "\n",
    "*Dalam menuliskan serangkaian aksi **(do_action_1, ... , do_action_n)** dalam sebuah statemen if, aku harus mengemas setiap aksi dalam sebuah blok dengan menambahkan indentasi (jorokan) dari pada aksi.*"
   ]
  },
  {
   "attachments": {},
   "cell_type": "markdown",
   "metadata": {},
   "source": [
    "**Python Conditioning for Decision – Part 2**\n",
    "\n",
    "*Aku mempelajari kode yang diberikan Senja dan coba mempraktekkannya*"
   ]
  },
  {
   "cell_type": "code",
   "execution_count": 1,
   "metadata": {},
   "outputs": [
    {
     "name": "stdout",
     "output_type": "stream",
     "text": [
      "x habis dibagi dua\n",
      "x tidak habis dibagi dua, tiga ataupun lima\n"
     ]
    }
   ],
   "source": [
    "# Statement if\n",
    "x = 4\n",
    "if x % 2 == 0: # jika sisa bagi x dengan 2 sama dengan 0\n",
    "    print(\"x habis dibagi dua\") # statemen aksi lebih menjorok ke dalam\n",
    "\n",
    "# Statement if ... elif ... else\n",
    "x = 7\n",
    "if x % 2 == 0: # jika sisa bagi x dengan 2 sama dengan 0\n",
    "    print(\"x habis dibagi dua\")\n",
    "elif x % 3 == 0: # jika sisa bagi x dengan 3 sama dengan 0\n",
    "    print(\"x habis dibagi tiga\")\n",
    "elif x % 5 == 0: # jika sisa bagi x dengan 5 sama dengan 0\n",
    "    print(\"x habis dibagi lima\")\n",
    "else:\n",
    "    print(\"x tidak habis dibagi dua, tiga ataupun lima\")"
   ]
  },
  {
   "attachments": {},
   "cell_type": "markdown",
   "metadata": {},
   "source": [
    "**Python Conditioning for Decision – Part 3**\n",
    "\n",
    "*Dari yang aku pelajari pada bagian awal dari statemen desisi, operator desisi juga dapat digunakan dengan operator logika.*\n",
    "\n",
    "*Sebagai catatan tambahan, aku juga belajar bahwa aksi dalam sebuah desisi statemen dapat dituliskan desisi statemen tambahan (lainnya) yang dikenal dengan istilah **nested if.***"
   ]
  },
  {
   "cell_type": "code",
   "execution_count": 2,
   "metadata": {},
   "outputs": [
    {
     "name": "stdout",
     "output_type": "stream",
     "text": [
      "Selamat siang!\n"
     ]
    }
   ],
   "source": [
    "jam = 13\n",
    "if jam >= 5 and jam<= 12 : #selama jam di antara 5 s.d. 12\n",
    "    print('Selamat pagi!')\n",
    "elif jam >= 12 and jam < 17: # selama jam di antara 12 s.d. 17\n",
    "    print(\"Selamat siang!\")\n",
    "elif jam >=17 and jam < 19: # selama jam di antara 17 s.d. 19\n",
    "    print(\"Selamat sore!\")\n",
    "else: # selain kondisi di atas\n",
    "    print(\"Selamat malam!\")"
   ]
  },
  {
   "attachments": {},
   "cell_type": "markdown",
   "metadata": {},
   "source": [
    "**Tugas Praktek - 1**\n",
    "\n",
    "*Aku diminta tolong Senja untuk menghitung tagihan pembayaran karena saat ini prosesnya masih manual.*"
   ]
  },
  {
   "attachments": {},
   "cell_type": "markdown",
   "metadata": {},
   "source": [
    "**Tugas:**\n",
    "\n",
    "*\"Aksara, kantor kita akan merilis penawaran baru terkait jasa pembuatan data warehouse. Bisa tolong kembangkan kalkulatormu untuk menghitung tagihan pembayaran? Soalnya selama ini kita masih manual,” jelas Senja sembari memberikan contoh nota tagihan kantor.*\n",
    "\n",
    "*Aku belum mengiyakan karena sedikit ragu. Mengingat sebelumnya aku sempat salah. Tapi dalam hati aku berkata, pasti bisa! Kali ini aku harus mampu membuat kalkulator lebih rumit.*\n",
    "\n",
    "*Solusi yang terlintas dalam bayanganku: Kalkulator ini harus dapat menghitung subtotal setiap jasa yang diambil dari kolom harga/ hari dan total hari dari setiap jasa. Ternyata Senja juga memikirkan hal yang sama dengan instruksinya yang sangat membantu.*"
   ]
  },
  {
   "cell_type": "code",
   "execution_count": 3,
   "metadata": {},
   "outputs": [
    {
     "data": {
      "text/html": [
       "<div>\n",
       "<style scoped>\n",
       "    .dataframe tbody tr th:only-of-type {\n",
       "        vertical-align: middle;\n",
       "    }\n",
       "\n",
       "    .dataframe tbody tr th {\n",
       "        vertical-align: top;\n",
       "    }\n",
       "\n",
       "    .dataframe thead th {\n",
       "        text-align: right;\n",
       "    }\n",
       "</style>\n",
       "<table border=\"1\" class=\"dataframe\">\n",
       "  <thead>\n",
       "    <tr style=\"text-align: right;\">\n",
       "      <th></th>\n",
       "      <th>nama jasa</th>\n",
       "      <th>Harga per hari</th>\n",
       "      <th>Total hari</th>\n",
       "    </tr>\n",
       "  </thead>\n",
       "  <tbody>\n",
       "    <tr>\n",
       "      <th>0</th>\n",
       "      <td>Data Warehousing</td>\n",
       "      <td>1000000</td>\n",
       "      <td>15</td>\n",
       "    </tr>\n",
       "    <tr>\n",
       "      <th>1</th>\n",
       "      <td>Data Cleaning</td>\n",
       "      <td>1500000</td>\n",
       "      <td>10</td>\n",
       "    </tr>\n",
       "    <tr>\n",
       "      <th>2</th>\n",
       "      <td>Data Integration</td>\n",
       "      <td>2000000</td>\n",
       "      <td>15</td>\n",
       "    </tr>\n",
       "    <tr>\n",
       "      <th>3</th>\n",
       "      <td>Data Transformation</td>\n",
       "      <td>2500000</td>\n",
       "      <td>10</td>\n",
       "    </tr>\n",
       "  </tbody>\n",
       "</table>\n",
       "</div>"
      ],
      "text/plain": [
       "             nama jasa Harga per hari Total hari\n",
       "0     Data Warehousing        1000000         15\n",
       "1        Data Cleaning        1500000         10\n",
       "2     Data Integration        2000000         15\n",
       "3  Data Transformation        2500000         10"
      ]
     },
     "execution_count": 3,
     "metadata": {},
     "output_type": "execute_result"
    }
   ],
   "source": [
    "import pandas as pd\n",
    "\n",
    "# Data Tagihan untuk Mr. Yoyo\n",
    "data = [{'nama jasa' : 'Data Warehousing', 'Harga per hari' : '1000000', 'Total hari' : '15'},\n",
    "{'nama jasa' : 'Data Cleaning', 'Harga per hari' : '1500000', 'Total hari' : '10'},\n",
    "{'nama jasa' : 'Data Integration', 'Harga per hari' : '2000000', 'Total hari' : '15'},\n",
    "{'nama jasa' : 'Data Transformation', 'Harga per hari' : '2500000', 'Total hari' : '10'}\n",
    "]\n",
    "\n",
    "df = pd.DataFrame(data)\n",
    "\n",
    "df.head()"
   ]
  },
  {
   "cell_type": "code",
   "execution_count": 4,
   "metadata": {},
   "outputs": [
    {
     "name": "stdout",
     "output_type": "stream",
     "text": [
      "Tagihan kepada:\n",
      "Mr. Yoyo\n",
      "Selamat pagi, anda harus membayar tagihan sebesar:\n",
      "85000000\n"
     ]
    }
   ],
   "source": [
    "tagihan_ke = 'Mr. Yoyo'\n",
    "warehousing = { 'harga_harian': 1000000, 'total_hari':15 } \n",
    "cleansing = { 'harga_harian': 1500000, 'total_hari':10 } \n",
    "integration = { 'harga_harian':2000000, 'total_hari':15 } \n",
    "transform = { 'harga_harian':2500000, 'total_hari':10 }\n",
    "\n",
    "sub_warehousing = warehousing['harga_harian'] * warehousing['total_hari'] \n",
    "sub_cleansing = cleansing['harga_harian']  * cleansing['total_hari']\n",
    "sub_integration = integration['harga_harian'] * integration['total_hari']\n",
    "sub_transform = transform['harga_harian'] * transform['total_hari']\n",
    "\n",
    "total_harga = sub_warehousing+sub_cleansing+sub_integration+sub_transform\n",
    "print(\"Tagihan kepada:\") \n",
    "print(tagihan_ke)\n",
    "print(\"Selamat pagi, anda harus membayar tagihan sebesar:\") \n",
    "print(total_harga)"
   ]
  },
  {
   "attachments": {},
   "cell_type": "markdown",
   "metadata": {},
   "source": [
    "**Tugas Praktek - 2**\n",
    "\n",
    "*Aku menunjukkan potongan kode dan hasil dari kalkulator yang telah aku buat ke Senja yang sudah berhasil menampilkan kalimat:*\n",
    "\n",
    "***Selamat pagi, Anda harus membayar tagihan sebesar:***\n",
    "\n",
    "*Kulihat kedua alis Senja bertaut, ini pertanda kodeku pasti ada yang keliru. “Kalau kamu hanya memasukkan perintah ‘selamat pagi’ seakan kalau tagihan ini dikirim hanya saat pagi, padahal bisa kapan saja sesuai kebutuhan,” komentar Senja. Begini, jam pengiriman email kantor kita mulai dari 6 pagi sampai 9 malam.*"
   ]
  },
  {
   "attachments": {},
   "cell_type": "markdown",
   "metadata": {},
   "source": [
    "**Tugas:**\n",
    "\n",
    "*Tolong masukkan variabel keterangan waktu tersebut di kodemu. Lalu, diatur dengan detail berikut:*\n",
    "\n",
    "1. Diatas jam 07 malam adalah salam 'selamat malam'\n",
    "2. Diatas jam 05 sore adalah salam 'selamat sore'\n",
    "3. Diatas jam 12 siang, adalah 'selamat siang'\n",
    "4. dan selain itu 'selamat pagi'\n",
    "\n",
    "*“Oh, oke. Paham,” sahutku sembari merevisi. Saran yang bagus, kedepannya aku harus berpikir kritis.*"
   ]
  },
  {
   "cell_type": "code",
   "execution_count": 5,
   "metadata": {},
   "outputs": [
    {
     "name": "stdout",
     "output_type": "stream",
     "text": [
      "Tagihan kepada:\n",
      "Mr. Yoyo\n",
      "Selamat siang, anda harus membayar tagihan sebesar:\n",
      "85000000\n"
     ]
    }
   ],
   "source": [
    "jam = 17\n",
    "tagihan_ke = 'Mr. Yoyo'\n",
    "warehousing = { 'harga_harian': 1000000, 'total_hari':15 } \n",
    "cleansing = { 'harga_harian': 1500000, 'total_hari':10 } \n",
    "integration = { 'harga_harian':2000000, 'total_hari':15 } \n",
    "transform = { 'harga_harian':2500000, 'total_hari':10 }\n",
    "\n",
    "sub_warehousing = warehousing['harga_harian']*warehousing['total_hari'] \n",
    "sub_cleansing = cleansing['harga_harian']*cleansing['total_hari'] \n",
    "sub_integration = integration['harga_harian']*integration['total_hari'] \n",
    "sub_transform = transform['harga_harian']*transform['total_hari']\n",
    "\n",
    "total_harga = sub_warehousing+sub_cleansing+sub_integration+sub_transform\n",
    "print(\"Tagihan kepada:\")\n",
    "print(tagihan_ke)\n",
    "\n",
    "if jam > 19:\n",
    "    print(\"Selamat malam, anda harus membayar tagihan sebesar:\")\n",
    "elif jam > 17:\n",
    "    print(\"Selamat sore, anda harus membayar tagihan sebesar:\") \n",
    "elif jam > 12:\n",
    "    print(\"Selamat siang, anda harus membayar tagihan sebesar:\")\n",
    "else :\n",
    "    print(\"Selamat pagi, anda harus membayar tagihan sebesar:\") \n",
    "print(total_harga)"
   ]
  },
  {
   "cell_type": "markdown",
   "metadata": {},
   "source": []
  },
  {
   "attachments": {},
   "cell_type": "markdown",
   "metadata": {},
   "source": [
    "**Python Looping**"
   ]
  },
  {
   "attachments": {},
   "cell_type": "markdown",
   "metadata": {},
   "source": [
    "**Python Primitive Loop Control**\n",
    "\n",
    "*Loop Control merupakan salah satu fitur yang mengizinkan penggunanya untuk melakukan serangkaian aksi, selama suatu kondisi yang telah ditetapkan bernilai benar. Dalam Python, terdapat dua bentuk primitif dari loop kontrol (struktur pengulangan), yaitu*\n",
    "\n",
    "1. **while** loops\n",
    "2. **for** loops"
   ]
  },
  {
   "attachments": {},
   "cell_type": "markdown",
   "metadata": {},
   "source": [
    "**Python while loops – Part 1**\n",
    "\n",
    "*Pertama-tama aku mempelajari struktur kontrol while loops menggunakan contoh berikut:*\n",
    "\n",
    "*tagihan = [50000, 75000, 125000, 300000, 200000]*\n",
    "\n",
    "1. *Tugas 1 : Hitung total tagihan secara manual dengan menulis potongan kode berikut : total_tagihan = tagihan[0]+tagihan[1]+tagihan[2]+tagihan[3]+tagihan[4]*\n",
    "\n",
    "2. *Tugas 2 : Ubah potongan kode yang telah dibuat dengan looping*"
   ]
  },
  {
   "cell_type": "code",
   "execution_count": 6,
   "metadata": {},
   "outputs": [
    {
     "name": "stdout",
     "output_type": "stream",
     "text": [
      "750000\n",
      "750000\n"
     ]
    }
   ],
   "source": [
    "# Tagihan\n",
    "tagihan = [50000, 75000, 125000, 300000, 200000]\n",
    "\n",
    "# Tanpa menggunakan while loop\n",
    "total_tagihan = tagihan[0]+tagihan[1]+tagihan[2]+tagihan[3]+tagihan[4]\n",
    "print(total_tagihan)\n",
    "\n",
    "# Dengan menggunakan while loop\n",
    "i = 0 # sebuah variabel untuk mengakses setiap elemen tagihan satu per satu\n",
    "jumlah_tagihan = len(tagihan) # panjang (jumlah elemen dalam) list tagihan\n",
    "total_tagihan = 0 # mula-mula, set total_tagihan ke 0\n",
    "while i < jumlah_tagihan: # selama nilai i kurang dari jumlah_tagihan\n",
    "    total_tagihan += tagihan[i] # tambahkan tagihan[i] ke total_tagihan\n",
    "    i += 1 # tambahkan nilai i dengan 1 untuk memproses tagihan selanjutnya.\n",
    "print(total_tagihan)"
   ]
  },
  {
   "attachments": {},
   "cell_type": "markdown",
   "metadata": {},
   "source": [
    "*Setelah aku konfirmasi potongan kode yang aku buat ke Senja, aku belajar bahwa potongan kode manual tidak efektif apabila ukuran dari list tagihan bertambah. Tentunya aku akan kewalahan untuk menuliskan ekspresi penambahan pada setiap elemennya, terutama jika elemennya berjumlah banyak. Untuk mengatasi hal ini Senja memberikan masukan untuk menggunakan struktur kontrol **while**.*"
   ]
  },
  {
   "attachments": {},
   "cell_type": "markdown",
   "metadata": {},
   "source": [
    "**Python while loops – Part 2**\n",
    "\n",
    "*Dalam sebuah struktur kontrol pengulangan, aku dapat menggunakan perintah **break** untuk keluar dari struktur pengulangan dan perintah continue untuk melanjutkan proses pengulangan berikutnya.*"
   ]
  },
  {
   "cell_type": "code",
   "execution_count": 7,
   "metadata": {},
   "outputs": [
    {
     "name": "stdout",
     "output_type": "stream",
     "text": [
      "terdapat angka minus dalam tagihan, perhitungan dihentikan!\n",
      "-1\n"
     ]
    }
   ],
   "source": [
    "tagihan = [50000, 75000, -150000, 125000, 300000, -50000, 200000]\n",
    "i = 0\n",
    "jumlah_tagihan = len(tagihan)\n",
    "total_tagihan = 0\n",
    "while i < jumlah_tagihan:\n",
    "    # jika terdapat tagihan ke-i yang bernilai minus (di bawah nol),\n",
    "    # pengulangan akan dihentikan\n",
    "    if tagihan[i] < 0:\n",
    "        total_tagihan = -1\n",
    "        print(\"terdapat angka minus dalam tagihan, perhitungan dihentikan!\")\n",
    "        break\n",
    "    total_tagihan += tagihan[i]\n",
    "    i += 1\n",
    "print(total_tagihan)"
   ]
  },
  {
   "attachments": {},
   "cell_type": "markdown",
   "metadata": {},
   "source": [
    "**Python while loops – Part 3**\n",
    "\n",
    "*Berikut adalah contoh penggunaan perintah **continue** untuk **mengabaikan tagihan minus**, jadi tidak menggunakan konsep matematika umumnya karena dengan konsep matematika harusnya hasil adalah 550000*"
   ]
  },
  {
   "cell_type": "code",
   "execution_count": 10,
   "metadata": {},
   "outputs": [
    {
     "name": "stdout",
     "output_type": "stream",
     "text": [
      "750000\n"
     ]
    }
   ],
   "source": [
    "tagihan = [50000, 75000, -150000, 125000, 300000, -50000, 200000]\n",
    "i = 0\n",
    "jumlah_tagihan = len(tagihan)\n",
    "total_tagihan = 0\n",
    "while i < jumlah_tagihan:\n",
    "    # jika terdapat tagihan ke-i yang bernilai minus (di bawah nol),\n",
    "    # abaikan tagihan ke-i dan lanjutkan ke tagihan berikutnya\n",
    "    if tagihan[i] < 0:\n",
    "        i += 1\n",
    "        continue\n",
    "    total_tagihan += tagihan[i]\n",
    "    i += 1\n",
    "print(total_tagihan)"
   ]
  },
  {
   "attachments": {},
   "cell_type": "markdown",
   "metadata": {},
   "source": [
    "**Python for loops – Part 1**\n",
    "\n",
    "*Untuk perintah **for loops**, aku mencoba potongan kode ini. menjalankan konsep matematika*"
   ]
  },
  {
   "cell_type": "code",
   "execution_count": 11,
   "metadata": {},
   "outputs": [
    {
     "name": "stdout",
     "output_type": "stream",
     "text": [
      "550000\n"
     ]
    }
   ],
   "source": [
    "list_tagihan = [50000, 75000, -150000, 125000, 300000, -50000, 200000]\n",
    "total_tagihan = 0\n",
    "for tagihan in list_tagihan: # untuk setiap tagihan dalam list_tagihan\n",
    "    total_tagihan += tagihan # tambahkan tagihan ke total_tagihan\n",
    "print(total_tagihan)"
   ]
  },
  {
   "attachments": {},
   "cell_type": "markdown",
   "metadata": {},
   "source": [
    "**Python for loops – Part 2**\n",
    "\n",
    "*Serupa dengan struktur pengulangan **while**, aku juga dapat memanfaatkan statement **break** dan **continue** di dalamnya."
   ]
  },
  {
   "cell_type": "code",
   "execution_count": 12,
   "metadata": {},
   "outputs": [
    {
     "name": "stdout",
     "output_type": "stream",
     "text": [
      "For loops with break\n",
      "Terdapat angka minus dalam tagihan, perhitungan dihentikan!\n",
      "Total tagihan 125000.\n",
      "\n",
      "For loops with continue\n",
      "Terdapat angka minus dalam tagihan, tagihan -150000 dilewati!\n",
      "Terdapat angka minus dalam tagihan, tagihan -50000 dilewati!\n",
      "Total tagihan 750000.\n"
     ]
    }
   ],
   "source": [
    "list_tagihan = [50000, 75000, -150000, 125000, 300000, -50000, 200000]\n",
    "\n",
    "# For loops with break\n",
    "print(\"For loops with break\")\n",
    "total_tagihan_break = 0\n",
    "for tagihan in list_tagihan:\n",
    "    if tagihan < 0:\n",
    "        print(\"Terdapat angka minus dalam tagihan, perhitungan dihentikan!\")\n",
    "        break\n",
    "    total_tagihan_break += tagihan\n",
    "print(\"Total tagihan %d.\" % total_tagihan_break)\n",
    "print()\n",
    "\n",
    "# For loops with continue\n",
    "print(\"For loops with continue\")\n",
    "total_tagihan_continue = 0\n",
    "for tagihan in list_tagihan:\n",
    "    if tagihan < 0:\n",
    "        print(\"Terdapat angka minus dalam tagihan, tagihan %d dilewati!\" %tagihan)\n",
    "        continue\n",
    "    total_tagihan_continue += tagihan\n",
    "print(\"Total tagihan %d.\" % total_tagihan_continue)"
   ]
  },
  {
   "attachments": {},
   "cell_type": "markdown",
   "metadata": {},
   "source": [
    "**Python for loops – Part 3**\n",
    "\n",
    "*Ternyata, aku belajar bahwa ada istilah **nested loops**, yaitu pengulangan bersarang. Dengan nested loops, aku dapat mengkombinasikan (menambahkan) struktur pengulangan lain di dalamnya.*"
   ]
  },
  {
   "cell_type": "code",
   "execution_count": 13,
   "metadata": {},
   "outputs": [
    {
     "name": "stdout",
     "output_type": "stream",
     "text": [
      "Apel Malang\n",
      "Duku Malang\n",
      "Jeruk Malang\n",
      "Apel Palembang\n",
      "Duku Palembang\n",
      "Jeruk Palembang\n",
      "Apel Medan\n",
      "Duku Medan\n",
      "Jeruk Medan\n"
     ]
    }
   ],
   "source": [
    "list_daerah = ['Malang', 'Palembang', 'Medan']\n",
    "list_buah = ['Apel', 'Duku', 'Jeruk']\n",
    "for nama_daerah in list_daerah:\n",
    "    for nama_buah in list_buah:\n",
    "        print(nama_buah+\" \"+nama_daerah)"
   ]
  },
  {
   "attachments": {},
   "cell_type": "markdown",
   "metadata": {},
   "source": [
    "**Tugas Praktek**\n",
    "\n",
    "*Dalam program kali ini, aku diminta untuk menghitung total pengeluaran dan pemasukan perusahaan.*\n",
    "\n",
    "*Senja pun mengingatkan akan ada penghitungan cash flow.*"
   ]
  },
  {
   "attachments": {},
   "cell_type": "markdown",
   "metadata": {},
   "source": [
    "**Tugas:**\n",
    "\n",
    "*Program yang akan aku bangun akan mengolah sebuah list yang bernama **list_cash_flow**. Setiap elemen dari list_cash_flow berisikan pengeluaran (bilangan negatif) dan pemasukan (bilangan positif) pada perusahaan*\n",
    "\n",
    "*Dari **list_cash_flow** ini, aku akan menghitung **total_pengeluaran** dan **total_pemasukan perusahaan**.*"
   ]
  },
  {
   "cell_type": "code",
   "execution_count": 15,
   "metadata": {},
   "outputs": [
    {
     "name": "stdout",
     "output_type": "stream",
     "text": [
      "total pemasukan : 65000000\n",
      "total pengeluaran : 12500000\n"
     ]
    }
   ],
   "source": [
    "list_cash_flow = [\n",
    "2500000, 5000000, -1000000, -2500000, 5000000, 10000000,\n",
    "-5000000, 7500000, 10000000, -1500000, 25000000, -2500000\n",
    "]\n",
    "\n",
    "total_pengeluaran, total_pemasukan = 0, 0\n",
    "\n",
    "for dana in list_cash_flow :\n",
    "    if dana > 0 :\n",
    "        total_pemasukan += dana\n",
    "    else :\n",
    "        total_pengeluaran += dana\n",
    "total_pengeluaran *= -1\n",
    "\n",
    "print('total pemasukan :', total_pemasukan)\n",
    "print('total pengeluaran :', total_pengeluaran)"
   ]
  },
  {
   "attachments": {},
   "cell_type": "markdown",
   "metadata": {},
   "source": [
    "**End of Module : Pythons Conditiong & Looping**"
   ]
  },
  {
   "cell_type": "markdown",
   "metadata": {},
   "source": []
  }
 ],
 "metadata": {
  "kernelspec": {
   "display_name": "base",
   "language": "python",
   "name": "python3"
  },
  "language_info": {
   "codemirror_mode": {
    "name": "ipython",
    "version": 3
   },
   "file_extension": ".py",
   "mimetype": "text/x-python",
   "name": "python",
   "nbconvert_exporter": "python",
   "pygments_lexer": "ipython3",
   "version": "3.9.12 (main, Apr  4 2022, 05:22:27) [MSC v.1916 64 bit (AMD64)]"
  },
  "orig_nbformat": 4,
  "vscode": {
   "interpreter": {
    "hash": "5dfae695991f40f7f711b859ebe4404a578ce2940a1c2f7058c1cb98bd497b2c"
   }
  }
 },
 "nbformat": 4,
 "nbformat_minor": 2
}
