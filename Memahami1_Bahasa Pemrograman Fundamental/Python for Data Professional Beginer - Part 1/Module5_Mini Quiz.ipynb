{
 "cells": [
  {
   "attachments": {},
   "cell_type": "markdown",
   "metadata": {},
   "source": [
    "**START**"
   ]
  },
  {
   "attachments": {},
   "cell_type": "markdown",
   "metadata": {},
   "source": [
    "**Module : Mini Quiz**"
   ]
  },
  {
   "attachments": {},
   "cell_type": "markdown",
   "metadata": {},
   "source": [
    "**Ekspedisi Pamanku**\n",
    "\n",
    "*Aku menyambar ponsel di meja dan membuka pesan singkat dari paman tempo hari yang menjelaskan jika paman harus mengeluarkan uang sebesar 1,5 juta per mobil dalam sehari. Tapi, beliau selalu kebingungan dengan total pengeluaran per bulan karena adanya aturan ganjil-genap yang membuat pengoperasian mobil yang berbeda.*\n",
    "\n",
    "*“Kalau begitu, aku akan masukkan variabel **jumlah_hari** berisi jumlah hari dalam sebulan dan variabel **list_plat_nomor** berisi seluruh nomor plat mobil milik paman,” gumamku sendiri. Kalau seperti ini paman hanya perlu mengganti variabel **jumlah_hari** atau modifikasi variabel **list_plat_nomor** untuk melacak total pengeluaran paman selama sebulan. Ide Cemerlang!*"
   ]
  },
  {
   "cell_type": "code",
   "execution_count": 2,
   "metadata": {},
   "outputs": [
    {
     "name": "stdout",
     "output_type": "stream",
     "text": [
      "total pengeluaran 1 bulan : 163500000\n"
     ]
    }
   ],
   "source": [
    "# Data\n",
    "uang_jalan = 1500000\n",
    "jumlah_hari = 31\n",
    "list_plat_nomor = [8993, 2198, 2501, 2735, 3772, 4837, 9152]\n",
    "\n",
    "# Pengecekan kendaraan dengan nomor plat ganjil dan genap\n",
    "kendaraan_ganjil = 0\n",
    "kendaraan_genap = 0\n",
    "\n",
    "for plat_nomor in list_plat_nomor:\n",
    "    if plat_nomor % 2 == 0 :\n",
    "        kendaraan_genap += 1\n",
    "    else :\n",
    "        kendaraan_ganjil += 1\n",
    "\n",
    "# total pengeluaran mobiil genap dan ganjil selama 1 bulan\n",
    "i = 1\n",
    "total_pengeluaran = 0\n",
    "\n",
    "while i <= jumlah_hari:\n",
    "    if i % 2 == 0:\n",
    "        total_pengeluaran += (kendaraan_genap * uang_jalan)\n",
    "    else:\n",
    "        total_pengeluaran += (kendaraan_ganjil * uang_jalan)\n",
    "    i += 1\n",
    "\n",
    "print('total pengeluaran 1 bulan :', total_pengeluaran)"
   ]
  },
  {
   "attachments": {},
   "cell_type": "markdown",
   "metadata": {},
   "source": [
    "**End of Module : Mini Quiz**"
   ]
  },
  {
   "attachments": {},
   "cell_type": "markdown",
   "metadata": {},
   "source": [
    "**Hasil Belajarku**\n",
    "\n",
    "*Dari materi yang telah aku pelajari dan praktekkan, aku telah mempelajari:*\n",
    "\n",
    "- *Alasan Python secara luas digunakan dalam komputasi saintifik, web, ranah data (data domain).*\n",
    "- *Konstruksi dari struktur bahasa pemrograman Python.*\n",
    "- *Teknik mempraktekkan penggunaan tipe data pada Python.*\n",
    "- *Teknik mempraktekkan penggunaan jenis-jenis operator pada Python.*\n",
    "- *Teknik mempraktekkan penggunaan pengkondisian untuk pengambilan keputusan dan perulangan pada Python.*\n",
    "- *Program Python untuk penyelesaian kasus bisnis sederhana.*"
   ]
  },
  {
   "attachments": {},
   "cell_type": "markdown",
   "metadata": {},
   "source": [
    "**End of Module : Python for Data Professional Beginner - Part 1**"
   ]
  }
 ],
 "metadata": {
  "kernelspec": {
   "display_name": "base",
   "language": "python",
   "name": "python3"
  },
  "language_info": {
   "codemirror_mode": {
    "name": "ipython",
    "version": 3
   },
   "file_extension": ".py",
   "mimetype": "text/x-python",
   "name": "python",
   "nbconvert_exporter": "python",
   "pygments_lexer": "ipython3",
   "version": "3.9.12 (main, Apr  4 2022, 05:22:27) [MSC v.1916 64 bit (AMD64)]"
  },
  "orig_nbformat": 4,
  "vscode": {
   "interpreter": {
    "hash": "5dfae695991f40f7f711b859ebe4404a578ce2940a1c2f7058c1cb98bd497b2c"
   }
  }
 },
 "nbformat": 4,
 "nbformat_minor": 2
}
