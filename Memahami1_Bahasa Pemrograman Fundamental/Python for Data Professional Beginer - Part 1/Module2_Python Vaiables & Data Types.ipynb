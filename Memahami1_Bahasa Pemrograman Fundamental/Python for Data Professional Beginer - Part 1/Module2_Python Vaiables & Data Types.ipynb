{
 "cells": [
  {
   "attachments": {},
   "cell_type": "markdown",
   "metadata": {},
   "source": [
    "**START**"
   ]
  },
  {
   "cell_type": "markdown",
   "metadata": {},
   "source": [
    "**Module : Python Vaiables & Data Types**\n",
    "       "
   ]
  },
  {
   "cell_type": "markdown",
   "metadata": {},
   "source": [
    "***Tips** : Dalam mendeklarasikan sebuah variabel, berilah nama yang mewakili isi dari variabel tersebut.*\n",
    "\n",
    "**Aturan Penamaan Python Variables**\n",
    "\n",
    "1. *Nama dari sebuah variabel harus dimulai dengan huruf (a-z, A-Z) atau karakter garis bawah underscore (_) dan tidak dapat dimulai dengan angka (0-9).*\n",
    "2. *Variabel hanya boleh mengandung karakter alfabet, bilangan dan underscore (a-z, A-Z, 0-9, _)*\n",
    "3. *Variabel bersifat case-sensitive yang mengartikan bahwa variabel TINGGI, tinggi, dan Tinggi merujuk pada tiga variabel berbeda.*\n",
    "\n",
    "*Selain dapat mendeklarasikan nilai dari suatu variabel secara baris per baris, aku juga dapat mendeklarasikan beberapa variabel dalam satu baris dengan menggunakan ekspresi seperti:*"
   ]
  },
  {
   "cell_type": "code",
   "execution_count": null,
   "metadata": {},
   "outputs": [
    {
     "name": "stdout",
     "output_type": "stream",
     "text": [
      "4\n",
      "Selamat Pagi\n"
     ]
    }
   ],
   "source": [
    "# mendeklarasikan beberapa variabel dalam 1 baris\n",
    "bil1, bil2 = 3, 4\n",
    "salam, peutup = \"Selamat Pagi\", \"Salam Sejahtera\"\n",
    "\n",
    "print(bil2)\n",
    "print(salam)"
   ]
  },
  {
   "attachments": {},
   "cell_type": "markdown",
   "metadata": {},
   "source": [
    "**Tipe Data Dasar: Null, Boolean, Numeric dan Text**\n",
    "\n",
    "1. ***Null Type**: Tipe data null dalam Python digunakan untuk menyimpan nilai kosong atau tidak ada yang dinyatakan dengan None.*\n",
    "\n",
    "2. ***Boolean Type**: Tipe data boolean atau bool digunakan untuk menyimpan nilai kebenaran (True, False) dari suatu ekspresi logika.*\n",
    "\n",
    "3. ***Numeric Type**: Tipe data yang digunakan untuk menyimpan data berupa angka. Terdapat dua macam tipe data numeric, yaitu int untuk menyimpan bilangan bulat (e.g.: 0, 1, 2, 404, -500, -1000) dan float untuk menyimpan bilangan riil (e.g.: 0.5, 1.01, 2.05, 4.04)*\n",
    "\n",
    "4. ***Text Type**: Pada Python, tipe data string (str) digunakan untuk menyimpan data teks. Tipe data string dimulai dengan tanda kutip (baik kutip satu/ dua) dan diakhir dengan tanda kutip. Contoh: \"Teks\", \"Contoh teks menggunakan Python\", dan 'Teks pada Python'.*"
   ]
  },
  {
   "attachments": {},
   "cell_type": "markdown",
   "metadata": {},
   "source": [
    "**Sequence Type - Part 1**\n",
    "\n",
    "*Tipe data ini digunakan untuk menampung sekumpulan data secara terorganisir. Bentuk dari tipe data sequence ini adalah **List dan Tuple**.*\n",
    "\n",
    "*Tipe data **list***\n",
    "1. *Tipe data list diawali dengan tanda kurung siku buka ( [ ), memisahkan setiap elemen di dalamnya dengan tanda koma ( , ) dan ditutup dengan kurung siku tutup ( ] ).*\n",
    "2. *Setiap elemen dari list memiliki **indeks yang dimulai dari angka 0** dan terus bertambah satu nilainya hingga elemen terakhir dari list.*\n",
    "3. *Tipe data list bersifat **mutable** yang berarti setiap elemen di dalam list dapat dirubah nilainya setelah proses pendeklarasian list.*"
   ]
  },
  {
   "cell_type": "code",
   "execution_count": null,
   "metadata": {},
   "outputs": [
    {
     "name": "stdout",
     "output_type": "stream",
     "text": [
      "1\n",
      "4.0\n",
      "empat\n"
     ]
    }
   ],
   "source": [
    "contoh_list = [1, 'dua', 3, 4.0, 5]\n",
    "print(contoh_list[0])\n",
    "print(contoh_list[3])\n",
    "\n",
    "#Sifat Mutable\n",
    "contoh_list = [1, 'dua', 3, 4.0, 5]\n",
    "contoh_list[3] = 'empat'\n",
    "print(contoh_list[3])"
   ]
  },
  {
   "attachments": {},
   "cell_type": "markdown",
   "metadata": {},
   "source": [
    "**Sequence type - part 2**\n",
    "\n",
    "*Tipe data **Tuple***\n",
    "1. *Tipe data ini diawali dengan tanda kurung buka ( ( ), memisahkan setiap elemen di dalamnya dengan tanda koma ( , ) dan ditutup dengan tanda kurung tutup ( ) ).*\n",
    "2. *Aturan **indeks** dan cara mengakses elemen pada sebuah tuple serupa dengan list.*\n",
    "3.  *Tipe data tuple bersifat **immutable** yang berarti elemen pada tipe data tuple tidak dapat diubah setelah proses pendeklarasiannya.*"
   ]
  },
  {
   "cell_type": "code",
   "execution_count": null,
   "metadata": {},
   "outputs": [
    {
     "name": "stdout",
     "output_type": "stream",
     "text": [
      "Januari\n"
     ]
    },
    {
     "ename": "TypeError",
     "evalue": "'tuple' object does not support item assignment",
     "output_type": "error",
     "traceback": [
      "\u001b[1;31m---------------------------------------------------------------------------\u001b[0m\n",
      "\u001b[1;31mTypeError\u001b[0m                                 Traceback (most recent call last)\n",
      "\u001b[1;32md:\\Data Analyst Career Track (Python) from DQLab\\Memahami Bahasa Pemrograman Fundamental\\Python for Data Professional Beginner - Part 1.ipynb Cell 25\u001b[0m in \u001b[0;36m<cell line: 5>\u001b[1;34m()\u001b[0m\n",
      "\u001b[0;32m      <a href='vscode-notebook-cell:/d%3A/Data%20Analyst%20Career%20Track%20%28Python%29%20from%20DQLab/Memahami%20Bahasa%20Pemrograman%20Fundamental/Python%20for%20Data%20Professional%20Beginner%20-%20Part%201.ipynb#X33sZmlsZQ%3D%3D?line=1'>2</a>\u001b[0m \u001b[39mprint\u001b[39m(contoh_tuple[\u001b[39m0\u001b[39m])\n",
      "\u001b[0;32m      <a href='vscode-notebook-cell:/d%3A/Data%20Analyst%20Career%20Track%20%28Python%29%20from%20DQLab/Memahami%20Bahasa%20Pemrograman%20Fundamental/Python%20for%20Data%20Professional%20Beginner%20-%20Part%201.ipynb#X33sZmlsZQ%3D%3D?line=3'>4</a>\u001b[0m \u001b[39m#Sifat Immutable\u001b[39;00m\n",
      "\u001b[1;32m----> <a href='vscode-notebook-cell:/d%3A/Data%20Analyst%20Career%20Track%20%28Python%29%20from%20DQLab/Memahami%20Bahasa%20Pemrograman%20Fundamental/Python%20for%20Data%20Professional%20Beginner%20-%20Part%201.ipynb#X33sZmlsZQ%3D%3D?line=4'>5</a>\u001b[0m contoh_tuple[\u001b[39m0\u001b[39m] \u001b[39m=\u001b[39m \u001b[39m'\u001b[39m\u001b[39mDesember\u001b[39m\u001b[39m'\u001b[39m\n",
      "\u001b[0;32m      <a href='vscode-notebook-cell:/d%3A/Data%20Analyst%20Career%20Track%20%28Python%29%20from%20DQLab/Memahami%20Bahasa%20Pemrograman%20Fundamental/Python%20for%20Data%20Professional%20Beginner%20-%20Part%201.ipynb#X33sZmlsZQ%3D%3D?line=5'>6</a>\u001b[0m \u001b[39mprint\u001b[39m(contoh_tuple[\u001b[39m0\u001b[39m])\n",
      "\n",
      "\u001b[1;31mTypeError\u001b[0m: 'tuple' object does not support item assignment"
     ]
    }
   ],
   "source": [
    "contoh_tuple = ('Januari', 'Februari', 'Maret', 'April')\n",
    "print(contoh_tuple[0])\n",
    "\n",
    "#Sifat Immutable\n",
    "contoh_tuple[0] = 'Desember'\n",
    "print(contoh_tuple[0])"
   ]
  },
  {
   "attachments": {},
   "cell_type": "markdown",
   "metadata": {},
   "source": [
    "**Set Type**\n",
    "\n",
    "*Serupa dengan tipe data sequence, tipe data set digunakan untuk menampung sekumpulan data dengan tipe lainnya. Terdapat dua jenis dari tipe data set yaitu, **set dan frozenset**.*\n",
    "\n",
    "*Tipe data **Set***\n",
    "1. *Diawali dengan tanda kurung buka kurawal ( { ), memisahkan setiap elemen di dalamnya dengan tanda koma ( , ) dan ditutup dengan tanda kurung tutup ( } ).*\n",
    "2. *Berbeda dengan tipe data sequence, seperti list, tipe data objek **tidak mengizinkan adanya elemen dengan nilai yang sama dan tidak memperdulikan urutan dari elemen**.*\n",
    "\n",
    "*Tipe data **frozenset***\n",
    "\n",
    "*Tipe data frozenset sebenarnya hanya merupakan **set yang bersifat immutable**, yang artinya setiap elemen di dalam frozenset tidak dapat diubah setelah proses deklarasinya.*"
   ]
  },
  {
   "cell_type": "code",
   "execution_count": 1,
   "metadata": {},
   "outputs": [
    {
     "name": "stdout",
     "output_type": "stream",
     "text": [
      "['Dewi', 'Cici', 'Linda', 'Cici']\n",
      "{'Budi', 'Cici', 'Linda', 'Dewi'}\n",
      "{'Budi', 'Cici', 'Linda', 'Dewi'}\n"
     ]
    }
   ],
   "source": [
    "contoh_list = ['Dewi', 'Cici', 'Linda', 'Cici']\n",
    "print(contoh_list)\n",
    "contoh_set = {'Dewi', 'Budi', 'Cici', 'Linda', 'Cici'}\n",
    "print(contoh_set)\n",
    "contoh_frozen_set = ({'Dewi', 'Budi', 'Cici', 'Linda', 'Cici'})\n",
    "print(contoh_frozen_set)"
   ]
  },
  {
   "attachments": {},
   "cell_type": "markdown",
   "metadata": {},
   "source": [
    "***Kesimpulan : Perbedaan Data List & Set***\n",
    "\n",
    "1. *Berbeda dengan tipe data set, **tipe data list memperdulikan urutan dari setiap elemen saat list dideklarasikan**.*\n",
    "2. *Berbeda dengan list yang mengizinkan adanya duplikasi elemen, **tipe data set tidak mengizinkan adanya elemen dengan nilai yang sama di dalamnya**.* "
   ]
  },
  {
   "attachments": {},
   "cell_type": "markdown",
   "metadata": {},
   "source": [
    "**Mapping Type**\n",
    "\n",
    "*Tipe data **mapping** dapat digunakan untuk memetakan sebuah nilai ke nilai lainnya. Dalam Python, tipe data mapping disebut dengan istilah **dictionary**.*\n",
    "1. *Diawali oleh tanda kurung buka kurawal ( { ), memisahkan setiap elemen di dalamnya dengan tanda koma ( , ) dan ditutup dengan tanda kurung tutup ( } ).*\n",
    "2. *Setiap elemen pada tipe data dictionary dideklarasikan dengan format: **\"kunci\" : \"nilai\"***\n",
    "3. *Untuk **mengakses elemen** dari sebuah dictionary, aku hanya perlu menspesifikasikan **kata kunci** yang terdapat dalam dictionary tersebut.*"
   ]
  },
  {
   "cell_type": "code",
   "execution_count": 3,
   "metadata": {},
   "outputs": [
    {
     "name": "stdout",
     "output_type": "stream",
     "text": [
      "Jhon Doe\n",
      "Programmer\n"
     ]
    }
   ],
   "source": [
    "person = {'nama' : 'Jhon Doe', 'pekerjaan' : 'Programmer'}\n",
    "print(person['nama'])\n",
    "print(person['pekerjaan'])"
   ]
  },
  {
   "attachments": {},
   "cell_type": "markdown",
   "metadata": {},
   "source": [
    "**Tugas Praktek**\n",
    "\n",
    "*mengembangkan program kalkulator potongan harga untuk beberapa barang sekaligus*\n",
    "1. *Memrepresentasikan semuanya ke tipe data dictionary, dengan begitu akan lebih mudah mengolahnya*\n",
    "2. *Mendeklarasikan variabel sepatu, baju, dan celana untuk menampung informasi barang*\n",
    "3. *Mendeklarasikan list dengan nama **daftar_belanja** yang berisi data **sepatu, baju, dan celana**.*\n",
    "4. *menghitung total harga jual dengan potongan harga beserta pajak sebesar 10% dari nilai jual.*"
   ]
  },
  {
   "attachments": {},
   "cell_type": "markdown",
   "metadata": {},
   "source": [
    "**Data**\n",
    "\n",
    "Sepatu Niko : Harga 150000, Diskon 30000\n",
    "\n",
    "Baju Uniklah : Harga 80000, Diskon 8000\n",
    "\n",
    "Celana Lepis : Harga 200000, Diskon 60000"
   ]
  },
  {
   "attachments": {},
   "cell_type": "markdown",
   "metadata": {},
   "source": [
    "*Tips 1. # Data yang dinyatakan ke dalam dictionary*\n",
    "\n",
    "*Tips 2. # Hitung harga masing-masing data setelah dikurangi diskon*\n",
    "\n",
    "*Tips 3. # Hitung harga total*\n",
    "\n",
    "*Tips 4. # Hitung harga kena pajak*\n",
    "\n",
    "*Tips 5. # Cetak total_harga + total_pajak*"
   ]
  },
  {
   "cell_type": "code",
   "execution_count": 7,
   "metadata": {},
   "outputs": [
    {
     "name": "stdout",
     "output_type": "stream",
     "text": [
      "365200.0\n"
     ]
    }
   ],
   "source": [
    "#Tips 1\n",
    "sepatu = {'nama' : 'Sepatu Niko', 'harga' : 150000, 'diskon' : 30000}\n",
    "baju = {'nama' : 'Baju Uniklah', 'harga' : 80000, 'diskon' : 8000}\n",
    "celana = {'nama' : 'Celana Lepis', 'harga' : 200000, 'diskon' : 60000}\n",
    "\n",
    "daftar_belanja = [sepatu, baju, celana]\n",
    "\n",
    "#Tips 2\n",
    "harga_sepatu = sepatu['harga'] - sepatu['diskon']\n",
    "harga_baju = baju['harga'] - baju['diskon']\n",
    "harga_celana = celana['harga'] - celana['diskon']\n",
    "\n",
    "#Tips 3\n",
    "total_harga = harga_sepatu + harga_baju + harga_celana\n",
    "\n",
    "#Tips 4\n",
    "total_pajak = total_harga * 0.1\n",
    "\n",
    "#Tips 5\n",
    "print(total_harga + total_pajak)"
   ]
  },
  {
   "attachments": {},
   "cell_type": "markdown",
   "metadata": {},
   "source": [
    "**End of Module : Python Vaiables & Data Types**"
   ]
  },
  {
   "cell_type": "markdown",
   "metadata": {},
   "source": []
  }
 ],
 "metadata": {
  "kernelspec": {
   "display_name": "base",
   "language": "python",
   "name": "python3"
  },
  "language_info": {
   "codemirror_mode": {
    "name": "ipython",
    "version": 3
   },
   "file_extension": ".py",
   "mimetype": "text/x-python",
   "name": "python",
   "nbconvert_exporter": "python",
   "pygments_lexer": "ipython3",
   "version": "3.9.12 (main, Apr  4 2022, 05:22:27) [MSC v.1916 64 bit (AMD64)]"
  },
  "orig_nbformat": 4,
  "vscode": {
   "interpreter": {
    "hash": "5dfae695991f40f7f711b859ebe4404a578ce2940a1c2f7058c1cb98bd497b2c"
   }
  }
 },
 "nbformat": 4,
 "nbformat_minor": 2
}
