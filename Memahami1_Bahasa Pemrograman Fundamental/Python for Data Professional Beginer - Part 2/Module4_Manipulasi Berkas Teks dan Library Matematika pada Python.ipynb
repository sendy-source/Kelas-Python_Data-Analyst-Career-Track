{
 "cells": [
  {
   "attachments": {},
   "cell_type": "markdown",
   "metadata": {},
   "source": [
    "**START**"
   ]
  },
  {
   "attachments": {},
   "cell_type": "markdown",
   "metadata": {},
   "source": [
    "**Module : Manipulasi Berkas Teks dan Library Matematika pada Python**"
   ]
  },
  {
   "attachments": {},
   "cell_type": "markdown",
   "metadata": {},
   "source": [
    "**Manipulasi Berkas Teks**\n",
    "\n",
    "1. ***Membaca file di local computer***\n",
    "\n",
    "*Pengolahan berkas teks pada Python tidak membutuhkan proses import dependencies lainnya seperti pada bahasa-bahasa pemrograman lainnya. Untuk memanipulasi berkas teks pada bahasa pemrograman Python, mula-mula aku harus membuka/membuat berkas teks yang aku inginkan dengan menggunakan fungsi open(). Fungsi open() menerima 2 parameter, di mana parameter pertama merupakan nama dari file yang ingin dibuka/dibuat dan mode yang berkaitan dengan aksi yang ingin dilakukan terhadap file yang telah terbuka. Sebagai contoh:*"
   ]
  },
  {
   "cell_type": "code",
   "execution_count": 5,
   "metadata": {},
   "outputs": [],
   "source": [
    "file = open('Hello.txt', 'r')\n",
    "\n",
    "file.close()"
   ]
  },
  {
   "attachments": {},
   "cell_type": "markdown",
   "metadata": {},
   "source": [
    "*Argumen/parameter \"r\" mengartikan bahwa file yang akan dibuka berada dalam mode “read” sehingga nantinya aku tidak dapat menambahkan/ menuliskan ulang isi tulisan dari file \"hello.txt\".*"
   ]
  },
  {
   "attachments": {},
   "cell_type": "markdown",
   "metadata": {},
   "source": [
    "*Aku juga belajar bahwa selain mode \"r\" yang hanya digunakan untuk membaca file, terdapat juga mode lainnya seperti:*\n",
    "\n",
    "1. **w: write,** mode ini dapat aku gunakan untuk menulis ke dalam sebuah berkas teks. Jika berkas tidak tersedia, maka Python akan secara otomatis membuat sebuah berkas baru dengan nama yang telah di spesifikasikan. Saat menulis dengan menggunakan mode ini, jika file semula tidak kosong, maka isi yang sebelumnya terdapat di dalam berkas akan terhapus.\n",
    "2. **a: append,** mode ini dapat aku gunakan untuk menambahkan isi dari sebuah berkas teks. Mode ini juga akan membuat sebuah berkas teks baru dengan nama yang telah kita spesifikasikan jika berkas teks tidak tersedia.\n",
    "3. **w+: write+,** mode ini dapat aku gunakan untuk membaca ataupun menuliskan isi dari sebuah berkas teks.\n",
    "4. **a+: append+,** mode ini dapat aku gunakan untuk membaca ataupun menambahkan isi dari sebuah berkas teks."
   ]
  },
  {
   "attachments": {},
   "cell_type": "markdown",
   "metadata": {},
   "source": [
    "2. ***Membaca file dari url***\n",
    "\n",
    "*Berkas teks yang berada di suatu alamat di internet dapat dibaca berdasarkan url-nya. Untuk membacanya aku perlu menggunakan library requests. File hello.txt yang aku temui di local komputer ku juga ada di url berikut https://storage.googleapis.com/dqlab-dataset/hello.txt.*"
   ]
  },
  {
   "cell_type": "code",
   "execution_count": 6,
   "metadata": {},
   "outputs": [],
   "source": [
    "import requests\n",
    "url = \"https://storage.googleapis.com/dqlab-dataset/hello.txt\"\n",
    "response = requests.get(url)"
   ]
  },
  {
   "attachments": {},
   "cell_type": "markdown",
   "metadata": {},
   "source": [
    "**Membaca Berkas Teks – Part 1**\n",
    "\n",
    "1. *Membaca file hello.txt dengan fungsi read() dan menutup file*"
   ]
  },
  {
   "cell_type": "code",
   "execution_count": 7,
   "metadata": {},
   "outputs": [
    {
     "name": "stdout",
     "output_type": "stream",
     "text": [
      ">>> Membaca file Hello.txt dengan fungsi read()\n",
      "Kita sedang belajar Python\n",
      "Tepatnya belajar memanipulasi berkas teks\n",
      "Memanipulasi berkas dengan Python sangatlah mudah!\n"
     ]
    }
   ],
   "source": [
    "# Membaca file Hello.txt dengan fungsi read()\n",
    "print('>>> Membaca file Hello.txt dengan fungsi read()')\n",
    "file = open('Hello.txt', 'r')\n",
    "content = file.read()\n",
    "\n",
    "file.close\n",
    "print(content)"
   ]
  },
  {
   "attachments": {},
   "cell_type": "markdown",
   "metadata": {},
   "source": [
    "- *Selain dapat membaca dan menampung isi dari sebuah berkas secara sekaligus menggunakan fungsi read(),* \n",
    "\n",
    "- *aku juga dapat menggunakan fungsi readline() ataupun readlines() untuk membaca isi dari suatu berkas teks. Dengan menggunakan fungsi readline(), Python akan membaca konten dari sebuah berkas secara baris per baris, dimulai dari baris paling awal.*"
   ]
  },
  {
   "attachments": {},
   "cell_type": "markdown",
   "metadata": {},
   "source": [
    "2. *Membaca file hello.txt dengan fungsi readline()*"
   ]
  },
  {
   "cell_type": "code",
   "execution_count": 8,
   "metadata": {},
   "outputs": [
    {
     "name": "stdout",
     "output_type": "stream",
     "text": [
      ">>> Membaca file Hello.txt dengan fungsi readline()\n",
      "Kita sedang belajar Python\n",
      "\n",
      "Tepatnya belajar memanipulasi berkas teks\n",
      "\n"
     ]
    }
   ],
   "source": [
    "# Membaca file Hello.txt dengan fungsi readline()\n",
    "print('>>> Membaca file Hello.txt dengan fungsi readline()')\n",
    "file = open('Hello.txt', 'r')\n",
    "first_line = file.readline()\n",
    "second_line = file.readline()\n",
    "file.close\n",
    "print(first_line)\n",
    "print(second_line)"
   ]
  },
  {
   "attachments": {},
   "cell_type": "markdown",
   "metadata": {},
   "source": [
    "**Tugas Praktik:**\n",
    "\n",
    "*Well, aku sudah mempraktikkan membaca berkas teks secara lokal di komputer ku. Sekarang aku akan mencoba membaca berkas teks yang sama yang berada di url https://storage.googleapis.com/dqlab-dataset/hello.txt. Di code editor akupun mengetikkan perintah berikut*"
   ]
  },
  {
   "cell_type": "code",
   "execution_count": 9,
   "metadata": {},
   "outputs": [
    {
     "name": "stdout",
     "output_type": "stream",
     "text": [
      "<Response [200]>\n",
      "\n",
      ">> Cetak isi file hello.txt menggunakan method response.iter_lines():\n",
      "b'Kita sedang belajar Python'\n",
      "b'Tepatnya belajar memanipulasi berkas teks'\n",
      "b'Memanipulasi berkas dengan Python sangatlah mudah!'\n"
     ]
    }
   ],
   "source": [
    "import requests\n",
    "url = \"https://storage.googleapis.com/dqlab-dataset/hello.txt\"\n",
    "response = requests.get(url)\n",
    "# Cetak kode status dari response\n",
    "print(response)\n",
    "# Cetak isi file hello.txt menggunakan method response.iter_lines()\n",
    "print(\"\\n>> Cetak isi file hello.txt menggunakan method response.iter_lines():\")\n",
    "for baris in response.iter_lines():\n",
    "\tprint(baris)"
   ]
  },
  {
   "attachments": {},
   "cell_type": "markdown",
   "metadata": {},
   "source": [
    "*Ini apa ya? Akupun mencarinya melalui mesin pencari google dan melalui tautan https://en.wikipedia.org/wiki/List_of_HTTP_status_codes saya dapatkan informasi bahwa kode status HTTP 200 adalah response OK dari url di mana file hello.txt disimpan.*"
   ]
  },
  {
   "attachments": {},
   "cell_type": "markdown",
   "metadata": {},
   "source": [
    "**Membaca Berkas Teks – Part 2**\n",
    "\n",
    "1. *Membaca file hello.txt dengan fungsi readlines()*\n",
    "\n",
    "    *Fungsi readlines() akan mengembalikan sebuah list yang setiap elemennya merupakan setiap baris dalam sebuah berkas teks.*\n",
    "\n",
    "2. *Membaca file hello.txt dengan menerapkan looping*\n",
    "\n",
    "    *Selain menggunakan fungsi-fungsi standar yang telah disediakan oleh Python, aku juga dapat membaca isi dari sebuah file secara baris per baris dengan menggunakan for loops. Simaklah contoh berikut ini dengan tetap membaca file dari “hello.txt”*"
   ]
  },
  {
   "cell_type": "code",
   "execution_count": 10,
   "metadata": {},
   "outputs": [
    {
     "name": "stdout",
     "output_type": "stream",
     "text": [
      ">>> Membaca file Hello.txt dengan fungsi readlines()\n",
      "['Kita sedang belajar Python\\n', 'Tepatnya belajar memanipulasi berkas teks\\n', 'Memanipulasi berkas dengan Python sangatlah mudah!']\n"
     ]
    }
   ],
   "source": [
    "# Membaca file Hello.txt dengan fungsi readlines()\n",
    "print('>>> Membaca file Hello.txt dengan fungsi readlines()')\n",
    "file = open('Hello.txt', 'r')\n",
    "all_lines = file.readlines()\n",
    "\n",
    "file.close\n",
    "print(all_lines)"
   ]
  },
  {
   "cell_type": "code",
   "execution_count": 11,
   "metadata": {},
   "outputs": [
    {
     "name": "stdout",
     "output_type": "stream",
     "text": [
      ">>> Membaca file Hello.txt dengan menerapkan Looping\n",
      "Kita sedang belajar Python\n",
      "\n",
      "Tepatnya belajar memanipulasi berkas teks\n",
      "\n",
      "Memanipulasi berkas dengan Python sangatlah mudah!\n"
     ]
    },
    {
     "data": {
      "text/plain": [
       "<function TextIOWrapper.close()>"
      ]
     },
     "execution_count": 11,
     "metadata": {},
     "output_type": "execute_result"
    }
   ],
   "source": [
    "# Membaca file Hello.txt dengan menerapkan Looping\n",
    "print('>>> Membaca file Hello.txt dengan menerapkan Looping')\n",
    "file = open('Hello.txt', 'r')\n",
    "\n",
    "for line in file:\n",
    "    print(line)\n",
    "file.close"
   ]
  },
  {
   "attachments": {},
   "cell_type": "markdown",
   "metadata": {},
   "source": [
    "**Tugas Praktik:**\n",
    "\n",
    "*Aku menjadi penasaran dengan hasil yang telah aku dapatkan sebelumnya. Apakah ada method/attribut lain gak ya untuk mencetak isi dari berkas hello.txt di https://storage.googleapis.com/dqlab-dataset/hello.txt.*\n",
    "\n",
    "*Akupun mencoba mengunakan **atribut .text** dari variabel response*\n",
    "\n",
    "*Waaw.... Penggunaan atribut .text menghasilkan isi berkas hello.txt sesuai dengan isi yang seharusnya.*\n",
    "\n",
    "***Tips:** Trik ini efektif digunakan ketika mengambil data melalui web scrapping.*"
   ]
  },
  {
   "cell_type": "code",
   "execution_count": 12,
   "metadata": {},
   "outputs": [
    {
     "name": "stdout",
     "output_type": "stream",
     "text": [
      "<Response [200]>\n",
      "\n",
      ">> Cetak isi file hello.txt menggunakan atribut response.text:\n",
      "Kita sedang belajar Python\n",
      "Tepatnya belajar memanipulasi berkas teks\n",
      "Memanipulasi berkas dengan Python sangatlah mudah!\n"
     ]
    }
   ],
   "source": [
    "import requests\n",
    "url = \"https://storage.googleapis.com/dqlab-dataset/hello.txt\"\n",
    "response = requests.get(url)\n",
    "# Cetak kode status dari response\n",
    "print(response)\n",
    "# Cetak isi file hello.txt menggunakan atribut response.text\n",
    "print(\"\\n>> Cetak isi file hello.txt menggunakan atribut response.text:\")\n",
    "print(response.text)"
   ]
  },
  {
   "attachments": {},
   "cell_type": "markdown",
   "metadata": {},
   "source": [
    "**Menulis Berkas Teks – Part 1**\n",
    "\n",
    "*Untuk menuliskan isi dari suatu berkas, aku dapat menggunakan **fungsi write() atau writelines()** yang telah disediakan oleh Python. Sebelum masuk ke dalam contoh penggunaan fungsi write() atau writelines(), penting bagiku untuk mengingat bahwa mode yang aku spesifikasikan pada fungsi open() akan mempengaruhi bagaimana Python menuliskan isi ke dalam berkas teks. Jika aku menggunakan mode w, maka Python akan menghapus seluruh isi dalam berkas sebelum menuliskan konten yang aku spesifikasikan.*"
   ]
  },
  {
   "cell_type": "code",
   "execution_count": 13,
   "metadata": {},
   "outputs": [],
   "source": [
    "# Menulis ke file hello.txt\n",
    "file = open(\"hello.txt\", \"w\")\n",
    "file.write(\"Sekarang kita belajar menulis dengan menggunakan Python\")\n",
    "file.write(\"Menulis konten file dengan mode w (write).\")\n",
    "file.close()"
   ]
  },
  {
   "attachments": {},
   "cell_type": "markdown",
   "metadata": {},
   "source": [
    "**Menulis Berkas Teks – Part 2**\n",
    "\n",
    "*Ketika aku menulis pada berkas teks menggunakan **mode a,** Python tidak akan menghapus isi dalam berkas dan hanya akan menambahkan konten. Aku mempelajari contoh berikut untuk memahami penggunaan **fungsi write() dan writelines()***"
   ]
  },
  {
   "cell_type": "code",
   "execution_count": 14,
   "metadata": {},
   "outputs": [],
   "source": [
    "# Menulis ke file dengan mode append\n",
    "file = open(\"hello.txt\", \"a\")\n",
    "file.writelines([\n",
    "\"Sekarang kita belajar menulis dengan menggunakan Python\", \n",
    "\"Menulis konten file dengan mode a (append).\"\n",
    "])\n",
    "file.close()"
   ]
  },
  {
   "attachments": {},
   "cell_type": "markdown",
   "metadata": {},
   "source": [
    "**Library Matematika pada Python**\n",
    "\n",
    "*Salah satu keunikan Python adalah library yang dimilikinya karena dapat di-extend dengan library yang didefinisikan oleh pengguna Python, selain dari library bawaan (built-in) yang dimilikinya. Untuk membuat library yang didefinisikan oleh pengguna umumnya dilakukan dengan menggunakan teknik pemrograman berorientasi obyek (object oriented programming).*\n",
    "\n",
    "*Tentunya secara dasar, Python tidak dapat digunakan untuk pengolahan data, komputasi saintifik, machine learning dan bahkan sistem cerdas. Melalui pengembang library tentunya aku memiliki akses ke keperluan atau bidang tersebut. Library ini dapat diinstal melalui command pip yang bersumber dari web python package index.*\n",
    "\n",
    "*Bagi yang pernah menggunakan Matlab pasti tahu ada toolbox tertentu misal untuk optimasi, pengolahan sinyal, dll. Jadi, toolbox di Matlab itu ekuivalen dengan library pada Python. Bahasa pemrograman lain seperti R, PHP, GO, Java, dsb tentu juga memiliki hal yang serupa.*"
   ]
  },
  {
   "attachments": {},
   "cell_type": "markdown",
   "metadata": {},
   "source": [
    "**Fungsi dalam Library Matematika – Part 1**\n",
    "\n",
    "*Di dalam library math aku mempelajari berbagai fungsi, beberapa diantaranya dapat dilihat pada tabel di bawah ini.*\n",
    "\n",
    "*# Import library math*\n",
    "\n",
    "*import math*"
   ]
  },
  {
   "cell_type": "code",
   "execution_count": 16,
   "metadata": {},
   "outputs": [
    {
     "data": {
      "text/html": [
       "<div>\n",
       "<style scoped>\n",
       "    .dataframe tbody tr th:only-of-type {\n",
       "        vertical-align: middle;\n",
       "    }\n",
       "\n",
       "    .dataframe tbody tr th {\n",
       "        vertical-align: top;\n",
       "    }\n",
       "\n",
       "    .dataframe thead th {\n",
       "        text-align: right;\n",
       "    }\n",
       "</style>\n",
       "<table border=\"1\" class=\"dataframe\">\n",
       "  <thead>\n",
       "    <tr style=\"text-align: right;\">\n",
       "      <th></th>\n",
       "      <th>fitur</th>\n",
       "      <th>keterangan</th>\n",
       "    </tr>\n",
       "  </thead>\n",
       "  <tbody>\n",
       "    <tr>\n",
       "      <th>0</th>\n",
       "      <td>math.ceil()</td>\n",
       "      <td>Menerima input berupa bilangan dan mengembalik...</td>\n",
       "    </tr>\n",
       "    <tr>\n",
       "      <th>1</th>\n",
       "      <td>math.floor()</td>\n",
       "      <td>Menerima input berupa bilangan dan mengembalik...</td>\n",
       "    </tr>\n",
       "    <tr>\n",
       "      <th>2</th>\n",
       "      <td>math.fabs()</td>\n",
       "      <td>Menerima input berupa bilangan dan mengembalik...</td>\n",
       "    </tr>\n",
       "    <tr>\n",
       "      <th>3</th>\n",
       "      <td>math.factorial()</td>\n",
       "      <td>Menerima input berupa bilangan dan mengembalik...</td>\n",
       "    </tr>\n",
       "    <tr>\n",
       "      <th>4</th>\n",
       "      <td>math.fsum()</td>\n",
       "      <td>Menerima input berupa tipe data collection (tu...</td>\n",
       "    </tr>\n",
       "  </tbody>\n",
       "</table>\n",
       "</div>"
      ],
      "text/plain": [
       "              fitur                                         keterangan\n",
       "0       math.ceil()  Menerima input berupa bilangan dan mengembalik...\n",
       "1      math.floor()  Menerima input berupa bilangan dan mengembalik...\n",
       "2       math.fabs()  Menerima input berupa bilangan dan mengembalik...\n",
       "3  math.factorial()  Menerima input berupa bilangan dan mengembalik...\n",
       "4       math.fsum()  Menerima input berupa tipe data collection (tu..."
      ]
     },
     "execution_count": 16,
     "metadata": {},
     "output_type": "execute_result"
    }
   ],
   "source": [
    "import pandas as pd\n",
    "\n",
    "data = [{'fitur' : 'math.ceil()', 'keterangan' : 'Menerima input berupa bilangan dan mengembalikan pembulatan ke atas untuk bilangan input.'},\n",
    "{'fitur' : 'math.floor()', 'keterangan' : 'Menerima input berupa bilangan dan mengembalikan hasil pembulatan ke bawah untuk bilangan input.'},\n",
    "{'fitur' : 'math.fabs()', 'keterangan' : 'Menerima input berupa bilangan dan mengembalikan hasil absolut dari bilangan input.'},\n",
    "{'fitur' : 'math.factorial()', 'keterangan' : 'Menerima input berupa bilangan dan mengembalikan hasil faktorial dari bilangan input'},\n",
    "{'fitur' : 'math.fsum()', 'keterangan' : 'Menerima input berupa tipe data collection (tuple, list, etc.) dan mengembalikan hasil penjumlahan setiap elemennya.'}\n",
    "]\n",
    "\n",
    "df = pd.DataFrame(data)\n",
    "df.head(10)"
   ]
  },
  {
   "cell_type": "code",
   "execution_count": 17,
   "metadata": {},
   "outputs": [
    {
     "name": "stdout",
     "output_type": "stream",
     "text": [
      ">>> Fungsi math.ceil()\n",
      "11\n",
      "14\n",
      ">>> Fungsi math.floor()\n",
      "10\n",
      "13\n",
      ">>> Fungsi math.fabs()\n",
      "10.32\n",
      "13.87\n",
      ">>> Fungsi math.factorial()\n",
      "120\n",
      ">>> Fungsi math.fsum()\n",
      "6.0\n"
     ]
    }
   ],
   "source": [
    "# Import library math\n",
    "import math\n",
    "# Fungsi math.ceil()\n",
    "print(\">>> Fungsi math.ceil()\")\n",
    "x = 10.32\n",
    "y = 13.87\n",
    "x_ceil = math.ceil(x)\n",
    "y_ceil = math.ceil(y)\n",
    "print(x_ceil)\n",
    "print(y_ceil)\n",
    "# Fungsi math.floor()\n",
    "print(\">>> Fungsi math.floor()\")\n",
    "x_floor = math.floor(x)\n",
    "y_floor = math.floor(y)\n",
    "print(x_floor)\n",
    "print(y_floor)\n",
    "# Fungsi math.fabs()\n",
    "print(\">>> Fungsi math.fabs()\")\n",
    "x = 10.32\n",
    "y = -13.87\n",
    "x = math.fabs(x)\n",
    "y = math.fabs(y)\n",
    "print(x)\n",
    "print(y)\n",
    "# Fungsi math.factorial()\n",
    "print(\">>> Fungsi math.factorial()\")\n",
    "x_factorial = math.factorial(5)\n",
    "print(x_factorial)\n",
    "# Fungsi math.fsum()\n",
    "print(\">>> Fungsi math.fsum()\")\n",
    "x = [1, 2, 3, 4, 5, 6, -6, -5, -4]\n",
    "total = math.fsum(x)\n",
    "print(total)"
   ]
  },
  {
   "attachments": {},
   "cell_type": "markdown",
   "metadata": {},
   "source": [
    "**Fungsi dalam Library Matematika – Part 2**\n",
    "\n",
    "*Aku masih melanjutkan bagian terakhir dari (bulit-in) library matematika pada Python yang dapat digunakan untuk perhitungan matematis.*"
   ]
  },
  {
   "cell_type": "code",
   "execution_count": 18,
   "metadata": {},
   "outputs": [
    {
     "data": {
      "text/html": [
       "<div>\n",
       "<style scoped>\n",
       "    .dataframe tbody tr th:only-of-type {\n",
       "        vertical-align: middle;\n",
       "    }\n",
       "\n",
       "    .dataframe tbody tr th {\n",
       "        vertical-align: top;\n",
       "    }\n",
       "\n",
       "    .dataframe thead th {\n",
       "        text-align: right;\n",
       "    }\n",
       "</style>\n",
       "<table border=\"1\" class=\"dataframe\">\n",
       "  <thead>\n",
       "    <tr style=\"text-align: right;\">\n",
       "      <th></th>\n",
       "      <th>fitur</th>\n",
       "      <th>keterangan</th>\n",
       "    </tr>\n",
       "  </thead>\n",
       "  <tbody>\n",
       "    <tr>\n",
       "      <th>0</th>\n",
       "      <td>math.log()</td>\n",
       "      <td>Menerima input berupa dua buah bilangan (asums...</td>\n",
       "    </tr>\n",
       "    <tr>\n",
       "      <th>1</th>\n",
       "      <td>math.sqrt()</td>\n",
       "      <td>Menerima input berupa sebuah bilangan dan meng...</td>\n",
       "    </tr>\n",
       "    <tr>\n",
       "      <th>2</th>\n",
       "      <td>math.copysign()</td>\n",
       "      <td>Menerima input berupa dua buah bilangan dan me...</td>\n",
       "    </tr>\n",
       "  </tbody>\n",
       "</table>\n",
       "</div>"
      ],
      "text/plain": [
       "             fitur                                         keterangan\n",
       "0       math.log()  Menerima input berupa dua buah bilangan (asums...\n",
       "1      math.sqrt()  Menerima input berupa sebuah bilangan dan meng...\n",
       "2  math.copysign()  Menerima input berupa dua buah bilangan dan me..."
      ]
     },
     "execution_count": 18,
     "metadata": {},
     "output_type": "execute_result"
    }
   ],
   "source": [
    "import pandas as pd\n",
    "\n",
    "data = [{'fitur' : 'math.log()', 'keterangan' : 'Menerima input berupa dua buah bilangan (asumsikan x dan y) dan mengembalikan sebuah bilangan (z) di mana z merupakan hasil log basis y dari x (atau dengan kata lain x merupakan hasil pemangkatan dari z terhadap y)'},\n",
    "{'fitur' : 'math.sqrt()', 'keterangan' : 'Menerima input berupa sebuah bilangan dan mengembalikan hasil akar pangkat dua (akar kuadrat) dari bilangan tersebut'},\n",
    "{'fitur' : 'math.copysign()', 'keterangan' : 'Menerima input berupa dua buah bilangan dan mengembalikan bilangan pertama sesuai dengan tanda yang dimiliki oleh bilangan kedua'}\n",
    "]\n",
    "\n",
    "df = pd.DataFrame(data)\n",
    "df.head(10)"
   ]
  },
  {
   "cell_type": "code",
   "execution_count": 19,
   "metadata": {},
   "outputs": [
    {
     "name": "stdout",
     "output_type": "stream",
     "text": [
      ">>> Fungsi math.log()\n",
      "3.0\n",
      "4.0\n",
      "4.0\n",
      ">>> Fungsi math.sqrt()\n",
      "10.0\n",
      "1.4142135623730951\n",
      ">>> Fungsi math.copysign()\n",
      "-10.32\n",
      "-13.87\n",
      "15.0\n"
     ]
    }
   ],
   "source": [
    "# Import library math\n",
    "import math\n",
    "# Fungsi math.log()\n",
    "print(\">>> Fungsi math.log()\")\n",
    "# x = log basis 2 dari 8\n",
    "x = math.log(8, 2)\n",
    "# y = log basis 3 dari 81\n",
    "y = math.log(81, 3)\n",
    "# z = log basis 10 dari 10000\n",
    "z = math.log(10000, 10)\n",
    "print(x)\n",
    "print(y)\n",
    "print(z)\n",
    "# Fungsi math.sqrt()\n",
    "print(\">>> Fungsi math.sqrt()\")\n",
    "# akar kuadrat dari 100\n",
    "x = math.sqrt(100)\n",
    "print(x)\n",
    "# akar kuadrat dari 2\n",
    "y = math.sqrt(2)\n",
    "print(y)\n",
    "# Fungsi math.copysign()\n",
    "print(\">>> Fungsi math.copysign()\")\n",
    "x = 10.32\n",
    "y = -13.87\n",
    "z = -15\n",
    "x = math.copysign(x, z)\n",
    "y = math.copysign(y, z)\n",
    "z = math.copysign(z, 10)\n",
    "print(x)\n",
    "print(y)\n",
    "print(z)"
   ]
  }
 ],
 "metadata": {
  "kernelspec": {
   "display_name": "base",
   "language": "python",
   "name": "python3"
  },
  "language_info": {
   "codemirror_mode": {
    "name": "ipython",
    "version": 3
   },
   "file_extension": ".py",
   "mimetype": "text/x-python",
   "name": "python",
   "nbconvert_exporter": "python",
   "pygments_lexer": "ipython3",
   "version": "3.9.12"
  },
  "orig_nbformat": 4,
  "vscode": {
   "interpreter": {
    "hash": "5dfae695991f40f7f711b859ebe4404a578ce2940a1c2f7058c1cb98bd497b2c"
   }
  }
 },
 "nbformat": 4,
 "nbformat_minor": 2
}
