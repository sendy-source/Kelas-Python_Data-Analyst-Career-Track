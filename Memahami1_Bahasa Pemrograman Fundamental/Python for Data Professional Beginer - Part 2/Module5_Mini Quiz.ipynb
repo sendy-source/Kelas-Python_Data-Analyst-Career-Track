{
 "cells": [
  {
   "attachments": {},
   "cell_type": "markdown",
   "metadata": {},
   "source": [
    "**START**"
   ]
  },
  {
   "attachments": {},
   "cell_type": "markdown",
   "metadata": {},
   "source": [
    "**Module : Mini Quiz**"
   ]
  },
  {
   "attachments": {},
   "cell_type": "markdown",
   "metadata": {},
   "source": [
    "*Pada mini project dalam modul \"Basic Python for Data Professional Beginner - Part 2\", aku akan diuji oleh Senja cara **memprediksi harga rumah di Tangerang berdasarkan luas tanah, luas bangunan, serta kedekatan lokasi dengan pusat kota.***\n",
    "\n",
    "*Data yang tersedia dalam format teks harus dibaca terlebih dahulu dan kemudian mengubahnya ke dalam list of dict. Data yang berupa list of dict ini akan digunakan untuk memprediksi harga rumah di Tangerang.*"
   ]
  },
  {
   "attachments": {},
   "cell_type": "markdown",
   "metadata": {},
   "source": [
    "**Harga Rumah di Tangerang**\n",
    "\n",
    "*“Oke, kali ini serius. Kita diminta untuk mengembangkan model prediksi harga rumah di di Tangerang berdasarkan luas tanah, luas bangunan serta kedekatan lokasi dengan pusat kota. Untuk mengembangkan model prediksi ini, saya telah mengumpulkan beberapa data yang diperlukan.*\n",
    "\n",
    "***“Berarti aku akan memprediksi harga rumah ini berdasarkan kemiripan atribut dari data yang telah ada ini?”***"
   ]
  },
  {
   "cell_type": "code",
   "execution_count": 3,
   "metadata": {},
   "outputs": [
    {
     "name": "stdout",
     "output_type": "stream",
     "text": [
      "[['tanah', 'bangunan', 'jarak_ke_pusat', 'harga'], ['70', '50', '15', '500'], ['70', '60', '30', '400'], ['70', '60', '55', '300'], ['100', '50', '30', '700'], ['100', '70', '25', '1000'], ['100', '70', '50', '650'], ['120', '100', '20', '2000'], ['120', '80', '50', '1200'], ['150', '100', '50', '1800'], ['150', '90', '15', '3000']]\n"
     ]
    }
   ],
   "source": [
    "import requests\n",
    "from contextlib import closing\n",
    "import csv\n",
    "# STEP 1: \n",
    "# Baca file \"harga_rumah.txt\"\n",
    "url = \"https://storage.googleapis.com/dqlab-dataset/harga_rumah.txt\"\n",
    "data_harga_rumah = []\n",
    "with closing(requests.get(url, stream=True)) as r:\n",
    "    f = (line.decode('utf-8') for line in r.iter_lines())\n",
    "    data_harga_rumah = [row for row in csv.reader(f)]\n",
    "\n",
    "print(data_harga_rumah)"
   ]
  },
  {
   "attachments": {},
   "cell_type": "markdown",
   "metadata": {},
   "source": [
    "1. *Tugas 1*\n",
    "\n",
    "    *Aku pun melanjutkan prosesnya dengan membaca file harga_rumah.txt dan merepresentasikan setiap data ke dalam tipe data dictionary dan menampung keseluruhan data dalam sebuah list bernama harga_rumah:*"
   ]
  },
  {
   "cell_type": "code",
   "execution_count": 4,
   "metadata": {},
   "outputs": [
    {
     "name": "stdout",
     "output_type": "stream",
     "text": [
      "[{'tanah': '70', 'bangunan': '50', 'jarak_ke_pusat': '15', 'harga': '500'}, {'tanah': '70', 'bangunan': '60', 'jarak_ke_pusat': '30', 'harga': '400'}, {'tanah': '70', 'bangunan': '60', 'jarak_ke_pusat': '55', 'harga': '300'}, {'tanah': '100', 'bangunan': '50', 'jarak_ke_pusat': '30', 'harga': '700'}, {'tanah': '100', 'bangunan': '70', 'jarak_ke_pusat': '25', 'harga': '1000'}, {'tanah': '100', 'bangunan': '70', 'jarak_ke_pusat': '50', 'harga': '650'}, {'tanah': '120', 'bangunan': '100', 'jarak_ke_pusat': '20', 'harga': '2000'}, {'tanah': '120', 'bangunan': '80', 'jarak_ke_pusat': '50', 'harga': '1200'}, {'tanah': '150', 'bangunan': '100', 'jarak_ke_pusat': '50', 'harga': '1800'}, {'tanah': '150', 'bangunan': '90', 'jarak_ke_pusat': '15', 'harga': '3000'}]\n"
     ]
    }
   ],
   "source": [
    "import requests\n",
    "from contextlib import closing\n",
    "import csv\n",
    "# STEP 1: \n",
    "# Baca file \"harga_rumah.txt\"\n",
    "url = \"https://storage.googleapis.com/dqlab-dataset/harga_rumah.txt\"\n",
    "data_harga_rumah = []\n",
    "with closing(requests.get(url, stream=True)) as r:\n",
    "    f = (line.decode('utf-8') for line in r.iter_lines())\n",
    "    data_harga_rumah = [row for row in csv.reader(f)]\n",
    "# Buat list of dict dengan nama harga rumah\n",
    "key_harga_rumah = data_harga_rumah[0]\n",
    "harga_rumah = []\n",
    "for baris_harga_rumah in data_harga_rumah[1:]:\n",
    "\tdict_harga_rumah = dict()\n",
    "\tfor i in range(len(baris_harga_rumah)):\n",
    "\t\tdict_harga_rumah[key_harga_rumah[i]] = baris_harga_rumah[i]\n",
    "\tharga_rumah.append(dict_harga_rumah)\n",
    "print(harga_rumah)"
   ]
  },
  {
   "attachments": {},
   "cell_type": "markdown",
   "metadata": {},
   "source": [
    "*Setelah selesai memasukkan data dan menemukan jika nilai dari setiap **atribut (tanah, bangunan, jarak_ke_pusat) tidak setara,** aku mulai agak bingung. Tapi, harus tenang dan jangan panik!*\n",
    "\n",
    "*Aku kembali mengecekanya dan memutuskan utnuk melakukan proses transformasi data. Transformasi data dilakukan dengan mengurangi setiap nilai atribut dalam data dengan nilai atribut minimum dan membaginya dengan nilai atribut maksimum yang dikurangi dengan nilai atribut minimum, seperti ini:*\n",
    "\n",
    "*Untuk atribut tanah, nilai maksimum adalah 150 dan nilai minimum adalah 70.*\n",
    "*Saat nilai atribut tanah 100, proses transformasi akan mengubah nilai atribut ini menjadi 0,375*\n",
    "\n",
    "*nilai_transformasi = 100 - 70 / (150 - 70)*\n",
    "\n",
    "*Aku mulai mendapat solusi untuk mempermudah proses transformasi data.*"
   ]
  },
  {
   "attachments": {},
   "cell_type": "markdown",
   "metadata": {},
   "source": [
    "2. *Tugas 2*\n",
    "\n",
    "    *Mula-mula,  aku akan membuat sebuah fungsi bernama get_all_specified_attribute yang menerima parameter list_of_dictionary (tipe data list yang berisikan sekumpulan tipe data dictionary) dan specified_key (tipe data string). Fungsi akan mengembalikan sebuah list yang berisikan seluruh atribut dengan kunci (key) specified_key.*\n",
    "\n",
    "3. *Tugas 3*\n",
    "\n",
    "    *Kemudian, setelah berhasil membuat fungsi  tersebut, aku juga membuat fungsi min_value yang menerima parameter list_attributes (berupa tipe data list) dan mengembalikan nilai terkecil dalam list_attributes dan max_value yang menerima parameter list_attributes dan mengembalikan nilai terbesar dalam list_attributes.*\n",
    "\n",
    "4. *Tugas 4*\n",
    "\n",
    "    *Selanjutnya aku membuat fungsi transform_attribute yang menerima parameter attr (sebuah bilangan), max_attr (sebuah bilangan) dan min_attr (sebuah bilangan) yang mengembalikan nilai transformasi dari sebuah attribute.*\n",
    "\n",
    "5. *Tugas 5*\n",
    "\n",
    "    *“Sudah cukup, Nja?” tanyaku saat Senja terdiam lama menelusuri hasil kerjaku.*\n",
    "\n",
    "    *“Menurutku kita masih butuh fungsi baru yaitu fungsi data_transformation yang menerima parameter list_of_dictionary (sebuah list yang berisikan tipe data dictionary) dan list_attribute_names (sebuah list yang berisikan tipe data string) mengembalikan hasil transformasi data dari list_of_dictionary berdasarkan list_attribute_names telah dispesifikasikan.*\n",
    "\n",
    "6. *Tugas 6*\n",
    "    *Dari data baru dan attr_info ini, Senja menyuruhku membuat fungsi transform_data yang menerima parameter data dan attr_info dan mengembalikan nilai atribut dari data baru yang telah ditransformasikan.*\n",
    "\n",
    "7. *Tugas 7*\n",
    "    *Setelah itu, Senja memintaku untuk membuat sistem prediksi harga berdasarkan nilai kemiripan atribut.*"
   ]
  },
  {
   "attachments": {},
   "cell_type": "markdown",
   "metadata": {},
   "source": [
    "8. *Tugas 8*\n",
    "\n",
    "    *Dan aku menggunakan semua fungsi yang telah aku definisikan dari Step 1 s/d Step 7.*\n",
    "\n",
    "- *Hitung harga rumah yang telah ditransformasikan ke dalam variabel harga_rumah berikut dengan atributnya attr_info*\n",
    "- *Gunakan variabel data untuk memprediksi harga rumah*\n",
    "- *data = {'tanah': 110, 'bangunan': 80, 'jarak_ke_pusat': 35}*\n",
    "- *transformasikan data tersebut dengan dengan menggunakan attr_info yang telah diperoleh yang kembali disimpan ke variabel data.*\n",
    "- *Hitunglah prediksi harga dari variabel data tersebut. *"
   ]
  },
  {
   "cell_type": "code",
   "execution_count": 7,
   "metadata": {},
   "outputs": [
    {
     "name": "stdout",
     "output_type": "stream",
     "text": [
      "Prediksi harga rumah:  1200\n"
     ]
    }
   ],
   "source": [
    "import requests\n",
    "from contextlib import closing\n",
    "import csv\n",
    "# STEP 1: \n",
    "# Baca file \"harga_rumah.txt\"\n",
    "url = \"https://storage.googleapis.com/dqlab-dataset/harga_rumah.txt\"\n",
    "data_harga_rumah = []\n",
    "with closing(requests.get(url, stream=True)) as r:\n",
    "    f = (line.decode('utf-8') for line in r.iter_lines())\n",
    "    data_harga_rumah = [row for row in csv.reader(f)]\n",
    "# Buat list of dict dengan nama harga rumah\n",
    "key_harga_rumah = data_harga_rumah[0]\n",
    "harga_rumah = []\n",
    "for baris_harga_rumah in data_harga_rumah[1:]:\n",
    "\tdict_harga_rumah = dict()\n",
    "\tfor i in range(len(baris_harga_rumah)):\n",
    "\t\tdict_harga_rumah[key_harga_rumah[i]] = baris_harga_rumah[i]\n",
    "\tharga_rumah.append(dict_harga_rumah)\n",
    "\n",
    "# STEP 2:\n",
    "# Buat fungsi  get_all_specified_attribute yang menerima parameter list_of_dictionary \n",
    "# (tipe data list yang berisikan sekumpulan tipe data dictionary) dan specified_key \n",
    "# (tipe data string). Fungsi akan mengembalikan sebuah list yang berisikan seluruh \n",
    "# atribut dengan kunci (key) specified_key. \n",
    "def get_all_specified_attributes(list_of_dictionary, specified_key):\n",
    "\tlist_attributes = []\n",
    "\tfor data in list_of_dictionary:\n",
    "\t\tattribute = data[specified_key]\n",
    "\t\tlist_attributes.append(attribute)\n",
    "\treturn list_attributes\n",
    "\n",
    "# STEP 3: \n",
    "# Buat fungsi fungsi min_value yang menerima parameter list_attributes (berupa \n",
    "# tipe data list) dan mengembalikan nilai terkecil dalam list_attributes \n",
    "def min_value(list_attributes):\n",
    "\tmin_attribute = 9999\n",
    "\tfor attr in list_attributes:\n",
    "\t\tif int(attr) < min_attribute:\n",
    "\t\t\tmin_attribute = int(attr)\n",
    "\treturn min_attribute\n",
    "# Buat fungsi dan max_value yang menerima parameter list_attribute dan \n",
    "# mengembalikan nilai terbesar dalam list_attributes.\t\n",
    "def max_value(list_attributes):\n",
    "\tmax_attribute = -9999\n",
    "\tfor attr in list_attributes:\n",
    "\t\tif int(attr) > max_attribute:\n",
    "\t\t\tmax_attribute = int(attr)\n",
    "\treturn max_attribute\n",
    "\n",
    "# STEP 4: \n",
    "# Buat fungsi transform_attribute yang menerima parameter attr (sebuah \n",
    "# bilangan), max_attr (sebuah bilangan) dan min_attr (sebuah bilangan) \n",
    "# yang mengembalikan nilai transformasi dari sebuah attribute.\n",
    "def transform_attribute(attr, max_attr, min_attr):\n",
    "\tnilai_transformasi = (attr - min_attr) / (max_attr - min_attr)\n",
    "\treturn nilai_transformasi\n",
    "\n",
    "# STEP 5:\n",
    "# Buat fungsi data_transformation yang menerima parameter list_of_dictionary \n",
    "# (sebuah list yang berisikan tipe data dictionary) dan list_attribute_names \n",
    "# (sebuah list yang berisikan tipe data string) mengembalikan hasil \n",
    "# transformasi data dari list_of_dictionary berdasarkan list_attribute_names \n",
    "# dan attr_info telah dispesifikasikan.\n",
    "def data_transformation(list_of_dictionary, list_attribute_names):\n",
    "\tattr_info = {}\n",
    "\tfor attr_name in list_attribute_names:\n",
    "\t\tspecified_attributes = get_all_specified_attributes(list_of_dictionary, attr_name)\n",
    "\t\tmax_attr = max_value(specified_attributes)\n",
    "\t\tmin_attr = min_value(specified_attributes)\n",
    "\t\tattr_info[attr_name] = {'max': max_attr, 'min': min_attr}\n",
    "\t\tdata_idx = 0\n",
    "\t\twhile(data_idx < len(list_of_dictionary)):\n",
    "\t\t\tlist_of_dictionary[data_idx][attr_name] = transform_attribute(int(list_of_dictionary[data_idx][attr_name]), max_attr, min_attr)\n",
    "\t\t\tdata_idx += 1\n",
    "\treturn list_of_dictionary, attr_info\n",
    "\n",
    "# STEP 6:\n",
    "# Berdasarkan data baru dan attr_info ini, buat fungsi transform_data yang\n",
    "# menerima parameter data dan attr_info dan mengembalikan nilai atribut \n",
    "# dari data baru yang telah ditransformasikan.\n",
    "def transform_data(data, attr_info):\n",
    "\tfor key_name in data.keys():\n",
    "\t\tdata[key_name] = (data[key_name] - attr_info[key_name]['min']) / (\n",
    "\t\t                  attr_info[key_name]['max'] - attr_info[key_name]['min'])\n",
    "\treturn data\n",
    "\n",
    "# STEP 7:\n",
    "# Buat fungsi yang digunakan untuk sistem prediksi harga berdasarkan \n",
    "# nilai kemiripan atribut, yaitu argument input data dan list_of_data!\n",
    "def abs_value(value):\n",
    "\tif value < 0:\n",
    "\t\treturn -value\n",
    "\telse:\n",
    "\t\treturn value\n",
    "def price_based_on_similarity(data, list_of_data):\n",
    "\tprediksi_harga = 0\n",
    "\tperbedaan_terkecil = 999\n",
    "\tfor data_point in list_of_data:\n",
    "\t\tperbedaan= abs_value(data['tanah'] - data_point['tanah'])\n",
    "\t\tperbedaan+= abs_value(data['bangunan'] - data_point['bangunan'])\n",
    "\t\tperbedaan+= abs_value(data['jarak_ke_pusat'] - data_point['jarak_ke_pusat'])\n",
    "\t\tif perbedaan < perbedaan_terkecil:\n",
    "\t\t\tprediksi_harga = data_point['harga']\n",
    "\t\t\tperbedaan_terkecil = perbedaan\n",
    "\treturn prediksi_harga\n",
    "\t\n",
    "# STEP 8:\n",
    "# Hitung harga rumah yang telah ditransformasikan ke dalam variabel \n",
    "# harga_rumah berikut dengan atributnya attr_info\n",
    "harga_rumah, attr_info = data_transformation(harga_rumah,\n",
    "                                             ['tanah','bangunan','jarak_ke_pusat'])\n",
    "\n",
    "# Gunakan variabel data untuk memprediksi harga rumah\n",
    "data = {'tanah': 110, 'bangunan': 80, 'jarak_ke_pusat': 35}\n",
    "\n",
    "# Transformasikan data tersebut dengan dengan menggunakan attr_info yang telah \n",
    "# diperoleh yang kembali disimpan ke variabel data.\n",
    "data = transform_data(data, attr_info)\n",
    "# Hitunglah prediksi harga dari variabel data tersebut.\n",
    "harga = price_based_on_similarity(data, harga_rumah)\n",
    "print(\"Prediksi harga rumah: \", harga)"
   ]
  },
  {
   "attachments": {},
   "cell_type": "markdown",
   "metadata": {},
   "source": [
    "**Hasil Belajarku**\n",
    "\n",
    "*Tidak terasa, aku berhasil menyelesaikan modul Python for Data Professional Beginner - Part 2. Dari materi yang telah aku pelajari dan praktekkan dalam module ini, aku telah mampu:*\n",
    "\n",
    "- *Memahami & mempraktikkan penggunaan collection manipulations (list, tuple, set dan dictionary) pada Python.*\n",
    "- *Memahami & mempraktikkan penggunaan string manipulation pada Python.*\n",
    "- *Memahami & mempraktikkan pembuatan fungsi yang didefinisikan sendiri untuk kebutuhan tertentu dengan menggunakan Python.*\n",
    "- *Memahami & mempraktikkan cara membaca data dari file menggunakan Python*\n",
    "- *Mengerjakan latihan dalam membuat program Python untuk penyelesaian kasus bisnis sederhana.*"
   ]
  },
  {
   "attachments": {},
   "cell_type": "markdown",
   "metadata": {},
   "source": [
    "**End of Module : Python for Data Professional Beginner - Part 2**"
   ]
  }
 ],
 "metadata": {
  "kernelspec": {
   "display_name": "base",
   "language": "python",
   "name": "python3"
  },
  "language_info": {
   "codemirror_mode": {
    "name": "ipython",
    "version": 3
   },
   "file_extension": ".py",
   "mimetype": "text/x-python",
   "name": "python",
   "nbconvert_exporter": "python",
   "pygments_lexer": "ipython3",
   "version": "3.9.12"
  },
  "orig_nbformat": 4,
  "vscode": {
   "interpreter": {
    "hash": "5dfae695991f40f7f711b859ebe4404a578ce2940a1c2f7058c1cb98bd497b2c"
   }
  }
 },
 "nbformat": 4,
 "nbformat_minor": 2
}
